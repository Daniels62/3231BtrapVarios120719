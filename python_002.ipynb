{
  "nbformat": 4,
  "nbformat_minor": 0,
  "metadata": {
    "colab": {
      "provenance": [],
      "toc_visible": true,
      "include_colab_link": true
    },
    "kernelspec": {
      "name": "python3",
      "display_name": "Python 3"
    },
    "language_info": {
      "name": "python"
    }
  },
  "cells": [
    {
      "cell_type": "markdown",
      "metadata": {
        "id": "view-in-github",
        "colab_type": "text"
      },
      "source": [
        "<a href=\"https://colab.research.google.com/github/Daniels62/3231BtrapVarios120719/blob/master/python_002.ipynb\" target=\"_parent\"><img src=\"https://colab.research.google.com/assets/colab-badge.svg\" alt=\"Open In Colab\"/></a>"
      ]
    },
    {
      "cell_type": "markdown",
      "source": [
        "# **<font color=\"DarkBlue\">Estructuras de datos y secuencias</font>**"
      ],
      "metadata": {
        "id": "_fRBXj8mbrnO"
      }
    },
    {
      "cell_type": "markdown",
      "source": [
        "<p align=\"center\">\n",
        "<img src=\"https://pypi.org/static/images/logo-small.8998e9d1.svg\" width=\"90\" height=\"\">\n",
        "</p>"
      ],
      "metadata": {
        "id": "gjpEYi_23t-3"
      }
    },
    {
      "cell_type": "markdown",
      "source": [
        "<p align=\"justify\"><b>\n",
        "<font color=\"DarkBlue\">\n",
        "💗 Todo el mundo deberia aprender a programar, porque te enseña a pensar...\n",
        "</font>\n",
        "</p>\n",
        "<p align=\"right\"><b>\n",
        "<font color=\"DarkBlue\">\n",
        "Steve Jobs (1995)\n",
        "</font>\n",
        "</p>\n",
        "<br>\n",
        "<br>\n",
        "\n"
      ],
      "metadata": {
        "id": "rGyq57WV2bpw"
      }
    },
    {
      "cell_type": "markdown",
      "source": [
        "<p align=\"justify\">\n",
        "En este colab, vamos a desarrollar las estructuras y secuencias de datos de Python. Conocer estas estructuras, es fundamental para el desarrollo de los contenidos propuestos. Por ese motivo, vamos a explayarnos en las estructuras de datos y en métodos usuales.\n",
        "</p>\n"
      ],
      "metadata": {
        "id": "xvkv1nfK4Sb5"
      }
    },
    {
      "cell_type": "markdown",
      "source": [
        "<p>\n",
        "<font color=\"DarkBlue\">\n",
        "\n",
        "**👀 Antes que nada, verificamos la versión de Python con la cual estamos trabajando...**\n",
        "\n",
        "</font>\n",
        "</p>"
      ],
      "metadata": {
        "id": "a0pV8J7YPZTO"
      }
    },
    {
      "cell_type": "code",
      "source": [
        "!python --version"
      ],
      "metadata": {
        "colab": {
          "base_uri": "https://localhost:8080/"
        },
        "id": "dCZl-lBzPghY",
        "outputId": "02fce85d-3fcf-477d-d269-af28d6980afc"
      },
      "execution_count": null,
      "outputs": [
        {
          "output_type": "stream",
          "name": "stdout",
          "text": [
            "Python 3.10.12\n"
          ]
        }
      ]
    },
    {
      "cell_type": "markdown",
      "source": [
        "<p align=\"justify\">\n",
        "El comando <code>!python --version</code> en Google Colab se utiliza para verificar la versión de Python que está instalada en el entorno de ejecución de Colab. Al ejecutar este comando en una celda de código precedido por el signo de exclamación (`!`), se mostrará la versión de Python que está siendo utilizada.\n",
        "<br><br>\n",
        "Este comando imprime la información de la versión de Python, y la salida típicamente se ve algo así:\n",
        "</p>\n",
        "\n",
        "```\n",
        "Python 3.x.x\n",
        "```\n",
        "<p align=\"justify\">\n",
        "Donde \"3.x.x\" es la versión específica de Python que está instalada en ese momento en Google Colab. Es útil para confirmar la versión de Python antes de ejecutar código, ya que algunas bibliotecas y funciones pueden variar entre diferentes versiones de Python.</p>"
      ],
      "metadata": {
        "id": "_7DrgyiYKPUN"
      }
    },
    {
      "cell_type": "markdown",
      "source": [
        "# **<font color=\"DarkBlue\">Empezamos con las Estructuras de datos</font>**"
      ],
      "metadata": {
        "id": "Lxbpmte29lzP"
      }
    },
    {
      "cell_type": "markdown",
      "source": [
        "## **<font color=\"DarkBlue\">Tuplas</font>**"
      ],
      "metadata": {
        "id": "v8abc96k3sr9"
      }
    },
    {
      "cell_type": "markdown",
      "source": [
        "<p align=\"justify\">\n",
        "Una tupla es una estructura de datos en Python que se utiliza para almacenar una colección ordenada de elementos. A diferencia de las listas (que las veremos a continuación), las tuplas son inmutables, lo que significa que, una vez creadas, no se pueden modificar (es decir, no se pueden añadir, eliminar o cambiar elementos). Esto las hace muy útiles para almacenar datos que no deben cambiar a lo largo del tiempo.\n",
        "<br><br>\n",
        "Las tuplas pueden contener elementos de diferentes tipos de datos, incluidos números, cadenas, y otros objetos. Se definen utilizando paréntesis y los elementos se separan por comas. Debido a su inmutabilidad, las tuplas pueden ser utilizadas como claves en diccionarios (que también lo veremos a continuación), a diferencia de las listas.\n",
        "<br><br>\n",
        "En resumen, una tupla es una colección de elementos ordenados, inmutables, y heterogéneos (pueden contener diferentes tipos de datos), y se utilizan cuando se necesita asegurar que los datos almacenados no serán modificados accidentalmente. Entonces, la forma más fácil de crear una tupla es con una secuencia de valores separados por comas entre paréntesis:\n",
        "</p>\n"
      ],
      "metadata": {
        "id": "OrOEIgsY5jih"
      }
    },
    {
      "cell_type": "code",
      "source": [
        "contribuyentes = (\"evasor\", \"no evasor\")"
      ],
      "metadata": {
        "id": "LTtHcJIO51wt"
      },
      "execution_count": null,
      "outputs": []
    },
    {
      "cell_type": "code",
      "source": [
        "tupla = (\"uno\", 1, True, 3.6)"
      ],
      "metadata": {
        "id": "OWsM8_WUStAJ"
      },
      "execution_count": null,
      "outputs": []
    },
    {
      "cell_type": "code",
      "source": [
        "contribuyentes"
      ],
      "metadata": {
        "colab": {
          "base_uri": "https://localhost:8080/"
        },
        "id": "2bETGiGbXbRn",
        "outputId": "67e851cf-7182-43bb-f636-740dab9abf4a"
      },
      "execution_count": null,
      "outputs": [
        {
          "output_type": "execute_result",
          "data": {
            "text/plain": [
              "('evasor', 'no evasor')"
            ]
          },
          "metadata": {},
          "execution_count": 4
        }
      ]
    },
    {
      "cell_type": "code",
      "source": [
        "tupla"
      ],
      "metadata": {
        "colab": {
          "base_uri": "https://localhost:8080/"
        },
        "id": "8qS3FJVFTB3A",
        "outputId": "809178c0-0ac4-44cd-f548-94514f71fee7"
      },
      "execution_count": null,
      "outputs": [
        {
          "output_type": "execute_result",
          "data": {
            "text/plain": [
              "('uno', 1, True, 3.6)"
            ]
          },
          "metadata": {},
          "execution_count": 5
        }
      ]
    },
    {
      "cell_type": "markdown",
      "source": [
        "<p align=\"justify\">\n",
        "La línea de código está creando una variable llamada <code>contribuyentes</code> y le está asignando una tupla con dos elementos: \"evasor\" y \"no evasor\". Aquí hay una explicación más detallada:\n",
        "<ul>\n",
        "<li><code>contribuyentes</code>: Es el nombre de la variable que estás creando. Puedes pensar en esta variable como un contenedor que puede almacenar información.</li><br>\n",
        "<li><code>(\"evasor\", \"no evasor\")</code>: Esta es una tupla, que es un tipo de estructura de datos en Python. En este caso, la tupla tiene dos elementos: \"evasor\" y \"no evasor\".</li>\n",
        "</ul>\n",
        "<p align=\"justify\">\n",
        "Una tupla es similar a una lista, pero a diferencia de las listas, las tuplas son inmutables, lo que significa que no pueden ser modificadas una vez que se han creado.\n",
        "<br><br>\n",
        "Entonces, la variable <code>contribuyentes</code> contiene una tupla con dos cadenas de texto. Puedes acceder a los elementos de la tupla utilizando índices, por ejemplo, <code>contribuyentes[0]</code> te daría \"evasor\" y <code>contribuyentes[1]</code> te daría \"no evasor\"."
      ],
      "metadata": {
        "id": "f7o2a2yqKn3K"
      }
    },
    {
      "cell_type": "markdown",
      "source": [
        "<p align=\"justify\">\n",
        "Para crear una tupla, los paréntesis se pueden omitir, por lo que aquí también podríamos haber escrito una tupla de la siguiente forma:\n",
        "</p>\n"
      ],
      "metadata": {
        "id": "JqDDrTxN9AMW"
      }
    },
    {
      "cell_type": "code",
      "source": [
        "clasificacion = \"riesgo tipo 1\", \"riesgo tipo 2\", \"riesgo tipo 3\""
      ],
      "metadata": {
        "id": "XL_rc9m19YJ8"
      },
      "execution_count": null,
      "outputs": []
    },
    {
      "cell_type": "code",
      "source": [
        "clasificacion"
      ],
      "metadata": {
        "colab": {
          "base_uri": "https://localhost:8080/"
        },
        "id": "YvPdute5Xmpb",
        "outputId": "bc63b9ee-ed79-4427-e026-35eeef86289e"
      },
      "execution_count": null,
      "outputs": [
        {
          "output_type": "execute_result",
          "data": {
            "text/plain": [
              "('riesgo tipo 1', 'riesgo tipo 2', 'riesgo tipo 3')"
            ]
          },
          "metadata": {},
          "execution_count": 7
        }
      ]
    },
    {
      "cell_type": "markdown",
      "source": [
        "<p align=\"justify\">\n",
        "👀 Importante, <mark>no olvidar de separar los elementos de la tupla</mark>, con comas...\n",
        "</p>"
      ],
      "metadata": {
        "id": "oXLIAxNo9w1_"
      }
    },
    {
      "cell_type": "markdown",
      "source": [
        "### **<font color=\"DarkBlue\">Conversión</font>**\n"
      ],
      "metadata": {
        "id": "dQxtP8Tl6p3v"
      }
    },
    {
      "cell_type": "markdown",
      "source": [
        "<p align=\"justify\">\n",
        "Podemos convertir cualquier secuencia o iterador en una tupla con el método <code> tuple()</code>\n",
        "</p>\n",
        "\n"
      ],
      "metadata": {
        "id": "NnLUttg--cID"
      }
    },
    {
      "cell_type": "code",
      "source": [
        "tuple([10, 15, 20, 25, 30])"
      ],
      "metadata": {
        "colab": {
          "base_uri": "https://localhost:8080/"
        },
        "id": "rtFKpahFBoCH",
        "outputId": "f351bda0-ef56-4a79-e933-50e206cba064"
      },
      "execution_count": null,
      "outputs": [
        {
          "output_type": "execute_result",
          "data": {
            "text/plain": [
              "(10, 15, 20, 25, 30)"
            ]
          },
          "metadata": {},
          "execution_count": 9
        }
      ]
    },
    {
      "cell_type": "markdown",
      "source": [
        "<p align=justify>\n",
        "Esta línea de código está utilizando la función <code>tuple()</code> en Python para convertir una lista en una tupla. Aquí hay una explicación más detallada:\n",
        "\n",
        "- `tuple()`: Es una función incorporada en Python que se utiliza para crear una tupla. Puede tomar un iterable (como una lista) como argumento y convertirlo en una tupla.\n",
        "\n",
        "- `[10, 15, 20, 25, 30]`: Esta es una lista que contiene cinco números enteros: 10, 15, 20, 25, y 30.\n",
        "\n",
        "<p align=justify>\n",
        "Entonces, la línea de código <code>tuple([10, 15, 20, 25, 30])</code> está tomando la lista de números y convirtiéndola en una tupla. La salida sería una tupla que contiene los mismos elementos que la lista original, en el mismo orden.\n",
        "<br><br>\n",
        "En este caso, la tupla resultante sería <code>(10, 15, 20, 25, 30)</code>."
      ],
      "metadata": {
        "id": "dbdneG68Nbac"
      }
    },
    {
      "cell_type": "code",
      "source": [
        "a = tuple(\"procesos\")\n",
        "a"
      ],
      "metadata": {
        "colab": {
          "base_uri": "https://localhost:8080/"
        },
        "id": "O5HNsC3eB19M",
        "outputId": "60a5cf12-de0a-4c09-c010-6efd28ab1231"
      },
      "execution_count": null,
      "outputs": [
        {
          "output_type": "execute_result",
          "data": {
            "text/plain": [
              "('p', 'r', 'o', 'c', 'e', 's', 'o', 's')"
            ]
          },
          "metadata": {},
          "execution_count": 34
        }
      ]
    },
    {
      "cell_type": "code",
      "source": [
        "type(a)"
      ],
      "metadata": {
        "colab": {
          "base_uri": "https://localhost:8080/"
        },
        "id": "u-uGg4TfU54f",
        "outputId": "173316bf-f60c-4197-f07d-13a0e311d0e5"
      },
      "execution_count": null,
      "outputs": [
        {
          "output_type": "execute_result",
          "data": {
            "text/plain": [
              "tuple"
            ]
          },
          "metadata": {},
          "execution_count": 35
        }
      ]
    },
    {
      "cell_type": "markdown",
      "source": [
        "<p align=\"justify\">\n",
        "Entonces, las tuplas son inmutables, si bien los objetos almacenados en una tupla pueden ser mutables, una vez que se crea la tupla, no es posible modificar ese objeto. Si un elemento dentro de una tupla es un objeto mutable, como por ejemplo, una lista, entonces ese elemento puede ser modificado, de la siguiente forma:</p>\n"
      ],
      "metadata": {
        "id": "em8_wpZ1DRw7"
      }
    },
    {
      "cell_type": "code",
      "source": [
        "tupla = (\"evasor\", \"no evasor\", [\"riesgo tipo 1\", \"riesgo tipo 2\", \"riesgo tipo 3\"], 10, 15, 20, 25, 30)"
      ],
      "metadata": {
        "id": "wBA8PrpvvfcA"
      },
      "execution_count": null,
      "outputs": []
    },
    {
      "cell_type": "code",
      "source": [
        "tupla"
      ],
      "metadata": {
        "colab": {
          "base_uri": "https://localhost:8080/"
        },
        "id": "Cm0EW4gYX638",
        "outputId": "f06d87f6-183d-4259-fbf0-a17d22de0289"
      },
      "execution_count": null,
      "outputs": [
        {
          "output_type": "execute_result",
          "data": {
            "text/plain": [
              "('evasor',\n",
              " 'no evasor',\n",
              " ['riesgo tipo 1', 'riesgo tipo 2', 'riesgo tipo 3'],\n",
              " 10,\n",
              " 15,\n",
              " 20,\n",
              " 25,\n",
              " 30)"
            ]
          },
          "metadata": {},
          "execution_count": 37
        }
      ]
    },
    {
      "cell_type": "code",
      "source": [
        "len(tupla)"
      ],
      "metadata": {
        "colab": {
          "base_uri": "https://localhost:8080/"
        },
        "id": "8l7NkW96Vn3P",
        "outputId": "21194d47-9566-4303-ecfa-97e40ccba3b6"
      },
      "execution_count": null,
      "outputs": [
        {
          "output_type": "execute_result",
          "data": {
            "text/plain": [
              "8"
            ]
          },
          "metadata": {},
          "execution_count": 38
        }
      ]
    },
    {
      "cell_type": "code",
      "source": [
        "tupla[2].append(\"riesgo tipo 4\")"
      ],
      "metadata": {
        "id": "YiPnvQ8Ixeca"
      },
      "execution_count": null,
      "outputs": []
    },
    {
      "cell_type": "code",
      "source": [
        "print(tupla[2])"
      ],
      "metadata": {
        "colab": {
          "base_uri": "https://localhost:8080/"
        },
        "id": "HtlrSKzLx0H9",
        "outputId": "eab1a801-59ce-479e-ac48-75416ee042a0"
      },
      "execution_count": null,
      "outputs": [
        {
          "output_type": "stream",
          "name": "stdout",
          "text": [
            "['riesgo tipo 1', 'riesgo tipo 2', 'riesgo tipo 3', 'riesgo tipo 4']\n"
          ]
        }
      ]
    },
    {
      "cell_type": "markdown",
      "source": [
        "\n",
        "<p align=\"justify\">\n",
        "Tambien podemos consultar cuantos elementos tiene un elemento especifico de la tupla con el método <code> len()</code>\n",
        "</p>\n"
      ],
      "metadata": {
        "id": "YesTSX73yuuA"
      }
    },
    {
      "cell_type": "code",
      "source": [
        "len(tupla[2])"
      ],
      "metadata": {
        "colab": {
          "base_uri": "https://localhost:8080/"
        },
        "id": "E1z2DdWNzP8m",
        "outputId": "215b5eed-4dd4-4bab-e36e-c0bc21160ac8"
      },
      "execution_count": null,
      "outputs": [
        {
          "output_type": "execute_result",
          "data": {
            "text/plain": [
              "4"
            ]
          },
          "metadata": {},
          "execution_count": 12
        }
      ]
    },
    {
      "cell_type": "markdown",
      "source": [
        "<p align=\"justify\">\n",
        "👀 Importante como utilizamos las funciones integradas...\n",
        "</p>"
      ],
      "metadata": {
        "id": "hZu_tefHz7x-"
      }
    },
    {
      "cell_type": "markdown",
      "source": [
        "### **<font color=\"DarkBlue\">Empaquetando una tupla</font>**\n"
      ],
      "metadata": {
        "id": "Pc1JJetv2Jir"
      }
    },
    {
      "cell_type": "markdown",
      "source": [
        "<p align=\"justify\">\n",
        "Ahora vamos a empaquetar y desempaquetar una tupla...\n",
        "</p>\n",
        "\n",
        "\n"
      ],
      "metadata": {
        "id": "RkcG_MzW0Wbm"
      }
    },
    {
      "cell_type": "code",
      "source": [
        "dolar = 1200.4 , 1150.8 , 1230.9, 1320.5, 1210.7, 1340.1, 1530.9"
      ],
      "metadata": {
        "id": "JxVdGF-d1okd"
      },
      "execution_count": null,
      "outputs": []
    },
    {
      "cell_type": "code",
      "source": [
        "type(dolar)"
      ],
      "metadata": {
        "colab": {
          "base_uri": "https://localhost:8080/"
        },
        "id": "bvHc1d2zYbPT",
        "outputId": "cadab432-ce33-43a5-e82e-e5c6969e4838"
      },
      "execution_count": null,
      "outputs": [
        {
          "output_type": "execute_result",
          "data": {
            "text/plain": [
              "tuple"
            ]
          },
          "metadata": {},
          "execution_count": 42
        }
      ]
    },
    {
      "cell_type": "code",
      "source": [
        "len(dolar)"
      ],
      "metadata": {
        "colab": {
          "base_uri": "https://localhost:8080/"
        },
        "id": "1WLa590IWl-C",
        "outputId": "4ce32a9c-93e5-4ff3-b3d3-118667aa32de"
      },
      "execution_count": null,
      "outputs": [
        {
          "output_type": "execute_result",
          "data": {
            "text/plain": [
              "7"
            ]
          },
          "metadata": {},
          "execution_count": 43
        }
      ]
    },
    {
      "cell_type": "markdown",
      "source": [
        "<p align=justify>\n",
        "La línea de código está creando una variable llamada <code>dolar</code> y le está asignando una tupla con varios valores numéricos. Aquí está la explicación detallada:\n",
        "\n",
        "- `dolar`: Es el nombre de la variable que estás creando para almacenar información relacionada con el dólar (posiblemente tasas de cambio u otros valores).\n",
        "\n",
        "- `(1040.4, 1042.8, 1043.9, 1042.5, 1041.7, 1042.1, 1043.9)`: Esta es una tupla que contiene siete valores numéricos separados por comas. Cada valor numérico parece representar algún tipo de dato relacionado con el dólar, como posiblemente tasas de cambio en diferentes momentos.\n"
      ],
      "metadata": {
        "id": "0IVOCiN7OgVh"
      }
    },
    {
      "cell_type": "markdown",
      "source": [
        "### **<font color=\"DarkBlue\">Desempaquetando una tupla</font>**\n"
      ],
      "metadata": {
        "id": "CBDsRUfe2QW3"
      }
    },
    {
      "cell_type": "code",
      "source": [
        "dolar"
      ],
      "metadata": {
        "colab": {
          "base_uri": "https://localhost:8080/"
        },
        "id": "z_UIghd8W7HZ",
        "outputId": "586ec700-88f1-47be-b0b9-111f73c6f4ce"
      },
      "execution_count": null,
      "outputs": [
        {
          "output_type": "execute_result",
          "data": {
            "text/plain": [
              "(1200.4, 1150.8, 1230.9, 1320.5, 1210.7, 1340.1, 1530.9)"
            ]
          },
          "metadata": {},
          "execution_count": 45
        }
      ]
    },
    {
      "cell_type": "code",
      "source": [
        "dia01, dia02, dia03, dia04, dia05, dia06, dia07 = dolar"
      ],
      "metadata": {
        "id": "uDBxR_kx2TxV"
      },
      "execution_count": null,
      "outputs": []
    },
    {
      "cell_type": "code",
      "source": [
        "print(f\"Cotizacion de la semana \\n primer dia {dia01} \\n segundo dia {dia02}\")"
      ],
      "metadata": {
        "colab": {
          "base_uri": "https://localhost:8080/"
        },
        "id": "cNsoU-6r3uPn",
        "outputId": "c9c6b90a-07f5-4208-af27-269b4570fd6b"
      },
      "execution_count": null,
      "outputs": [
        {
          "output_type": "stream",
          "name": "stdout",
          "text": [
            "Cotizacion de la semana \n",
            " primer dia 1200.4 \n",
            " segundo dia 1150.8\n"
          ]
        }
      ]
    },
    {
      "cell_type": "code",
      "source": [
        "dia01"
      ],
      "metadata": {
        "colab": {
          "base_uri": "https://localhost:8080/"
        },
        "id": "GHWmPfO7XJVM",
        "outputId": "52afba65-aa55-4760-c35d-5fe1ed330a16"
      },
      "execution_count": null,
      "outputs": [
        {
          "output_type": "execute_result",
          "data": {
            "text/plain": [
              "1200.4"
            ]
          },
          "metadata": {},
          "execution_count": 47
        }
      ]
    },
    {
      "cell_type": "code",
      "source": [
        "dia02"
      ],
      "metadata": {
        "colab": {
          "base_uri": "https://localhost:8080/"
        },
        "id": "1jxzzNdtXL8p",
        "outputId": "35e3eba0-56fe-41c6-837e-ae9230c6ae3a"
      },
      "execution_count": null,
      "outputs": [
        {
          "output_type": "execute_result",
          "data": {
            "text/plain": [
              "1150.8"
            ]
          },
          "metadata": {},
          "execution_count": 48
        }
      ]
    },
    {
      "cell_type": "code",
      "source": [
        "lunes, martes, miercoles, jueves, viernes, sabado, domingo = dolar"
      ],
      "metadata": {
        "id": "niXF0bQaXZRO"
      },
      "execution_count": null,
      "outputs": []
    },
    {
      "cell_type": "markdown",
      "source": [
        "<p align=\"justify\">\n",
        "👀 Como las tuplas son inmutables, y no se pueden modificar, entonces los métodos que posee son acotados, pero el metodo más útil de una tupla, es el método <code>count()</code> que utilizaremos más adelante...<br><br>Un uso común del desempaquetado de variables es iterar sobre secuencias de tuplas o secuencias de listas.<br><br> Por ejemplo:\n",
        "</p>\n"
      ],
      "metadata": {
        "id": "mG1Gog9_5J5n"
      }
    },
    {
      "cell_type": "code",
      "source": [
        "secuencias = ((100, 150, 190), (200, 240, 280), (300, 330, 360))"
      ],
      "metadata": {
        "id": "se7x5Kh69i_p"
      },
      "execution_count": null,
      "outputs": []
    },
    {
      "cell_type": "code",
      "source": [
        "type(secuencias)"
      ],
      "metadata": {
        "colab": {
          "base_uri": "https://localhost:8080/"
        },
        "id": "f9vpQ-iCZcLj",
        "outputId": "3cdb1f14-b486-49a8-b5ed-815280ebdd25"
      },
      "execution_count": null,
      "outputs": [
        {
          "output_type": "execute_result",
          "data": {
            "text/plain": [
              "tuple"
            ]
          },
          "metadata": {},
          "execution_count": 65
        }
      ]
    },
    {
      "cell_type": "code",
      "source": [
        "len(secuencias)"
      ],
      "metadata": {
        "colab": {
          "base_uri": "https://localhost:8080/"
        },
        "id": "AFQChTXRZAPc",
        "outputId": "617985b3-fa41-43ab-d7c0-a14aa6c54519"
      },
      "execution_count": null,
      "outputs": [
        {
          "output_type": "execute_result",
          "data": {
            "text/plain": [
              "3"
            ]
          },
          "metadata": {},
          "execution_count": 66
        }
      ]
    },
    {
      "cell_type": "code",
      "source": [
        "for i in secuencias:\n",
        "  for j in i:\n",
        "    print(j)"
      ],
      "metadata": {
        "colab": {
          "base_uri": "https://localhost:8080/"
        },
        "id": "o2Iv8yxXX6Pk",
        "outputId": "72f5cba4-b97f-4d6c-e70b-466e6fae762b"
      },
      "execution_count": null,
      "outputs": [
        {
          "output_type": "stream",
          "name": "stdout",
          "text": [
            "100\n",
            "150\n",
            "190\n",
            "200\n",
            "240\n",
            "280\n",
            "300\n",
            "330\n",
            "360\n"
          ]
        }
      ]
    },
    {
      "cell_type": "code",
      "source": [
        "secuencias"
      ],
      "metadata": {
        "colab": {
          "base_uri": "https://localhost:8080/"
        },
        "id": "e6oIdIuHZZFR",
        "outputId": "d70489f9-d3f1-4e48-c6ae-4b110760c057"
      },
      "execution_count": null,
      "outputs": [
        {
          "output_type": "execute_result",
          "data": {
            "text/plain": [
              "((100, 150, 190), (200, 240, 280), (300, 330, 360))"
            ]
          },
          "metadata": {},
          "execution_count": 68
        }
      ]
    },
    {
      "cell_type": "code",
      "source": [
        "for i, j, k in secuencias:\n",
        "  print(f\"primer elemento {i}, segundo elemento {j}, tercer elemento {k}\")"
      ],
      "metadata": {
        "colab": {
          "base_uri": "https://localhost:8080/"
        },
        "id": "ykX-Ks3w94AI",
        "outputId": "7ad100b0-f34b-44c8-9cf6-40b74dab123a"
      },
      "execution_count": null,
      "outputs": [
        {
          "output_type": "stream",
          "name": "stdout",
          "text": [
            "primer elemento 100, segundo elemento 150, tercer elemento 190\n",
            "primer elemento 200, segundo elemento 240, tercer elemento 280\n",
            "primer elemento 300, segundo elemento 330, tercer elemento 360\n"
          ]
        }
      ]
    },
    {
      "cell_type": "markdown",
      "source": [
        "### **<font color=\"DarkBlue\">Intercambio</font>**\n"
      ],
      "metadata": {
        "id": "Lr_OLUyz7bZK"
      }
    },
    {
      "cell_type": "markdown",
      "source": [
        "<p align=\"justify\">\n",
        "El intercambio se realiza de la siguiente manera:\n",
        "</p>\n"
      ],
      "metadata": {
        "id": "1OcOOd4r7eS4"
      }
    },
    {
      "cell_type": "code",
      "source": [
        "a, p = \"activo\", \"pasivo\""
      ],
      "metadata": {
        "id": "-_GE_a2K71tw"
      },
      "execution_count": null,
      "outputs": []
    },
    {
      "cell_type": "code",
      "source": [
        "a"
      ],
      "metadata": {
        "colab": {
          "base_uri": "https://localhost:8080/",
          "height": 36
        },
        "id": "kYZaSwSM7-R1",
        "outputId": "7165d016-6a0d-4c8b-e043-590b2f77d943"
      },
      "execution_count": null,
      "outputs": [
        {
          "output_type": "execute_result",
          "data": {
            "text/plain": [
              "'activo'"
            ],
            "application/vnd.google.colaboratory.intrinsic+json": {
              "type": "string"
            }
          },
          "metadata": {},
          "execution_count": 72
        }
      ]
    },
    {
      "cell_type": "code",
      "source": [
        "p"
      ],
      "metadata": {
        "colab": {
          "base_uri": "https://localhost:8080/",
          "height": 36
        },
        "id": "31qrOqry8ALK",
        "outputId": "46838d17-15ed-4d68-9f78-9f1a9c9aa6c2"
      },
      "execution_count": null,
      "outputs": [
        {
          "output_type": "execute_result",
          "data": {
            "text/plain": [
              "'pasivo'"
            ],
            "application/vnd.google.colaboratory.intrinsic+json": {
              "type": "string"
            }
          },
          "metadata": {},
          "execution_count": 73
        }
      ]
    },
    {
      "cell_type": "code",
      "source": [
        "a, p = p, a"
      ],
      "metadata": {
        "id": "eLJ5e0YJ7_3a"
      },
      "execution_count": null,
      "outputs": []
    },
    {
      "cell_type": "code",
      "source": [
        "a"
      ],
      "metadata": {
        "colab": {
          "base_uri": "https://localhost:8080/",
          "height": 36
        },
        "id": "Zdhq2Soj8Ht_",
        "outputId": "ba4b1615-10b1-4abc-e3b4-1d7fa6e2ab47"
      },
      "execution_count": null,
      "outputs": [
        {
          "output_type": "execute_result",
          "data": {
            "text/plain": [
              "'pasivo'"
            ],
            "application/vnd.google.colaboratory.intrinsic+json": {
              "type": "string"
            }
          },
          "metadata": {},
          "execution_count": 75
        }
      ]
    },
    {
      "cell_type": "code",
      "source": [
        "p"
      ],
      "metadata": {
        "colab": {
          "base_uri": "https://localhost:8080/",
          "height": 36
        },
        "id": "DxoI8cB18J0X",
        "outputId": "3e7e8be2-cef5-4aef-f45f-ac79db38cfa1"
      },
      "execution_count": null,
      "outputs": [
        {
          "output_type": "execute_result",
          "data": {
            "text/plain": [
              "'activo'"
            ],
            "application/vnd.google.colaboratory.intrinsic+json": {
              "type": "string"
            }
          },
          "metadata": {},
          "execution_count": 76
        }
      ]
    },
    {
      "cell_type": "markdown",
      "source": [
        "## **<font color=\"DarkBlue\">Listas</font>**\n"
      ],
      "metadata": {
        "id": "kijjAsizCgEf"
      }
    },
    {
      "cell_type": "markdown",
      "source": [
        "<p align=\"justify\">\n",
        "Una lista es una estructura de datos de Python que se utiliza para almacenar una colección ordenada de elementos. A diferencia de las tuplas, las listas son mutables, lo que significa que los elementos pueden ser modificados después de su creación; es posible añadir, eliminar o cambiar elementos.\n",
        "<br><br>\n",
        "Las listas pueden contener elementos de diferentes tipos de datos, incluidos números, cadenas, y otros objetos. Se definen utilizando corchetes <code>[]</code> o usando la función <code>list()</code>, y los elementos se separan por comas. La mutabilidad de las listas permite una gran flexibilidad al trabajar con conjuntos de datos que pueden cambiar durante la ejecución de un programa.\n",
        "<br><br>\n",
        "La lista es, en definitiva, una colección de datos ordenada, y las equivalencias de la lista con otros lenguajes serian los arrays o los vectores. A tener en cuenta, las tuplas y las listas semanticamente son similares y el uso que se les da, tambien. De hecho se pueden usar indistintamente en algunos casos.\n",
        "<br><br>\n",
        "Hay que tener presente que la función <code>list()</code> se utiliza frecuentemente en el procesamiento de datos cuando se quiere materializar un objeto iterable. Por ejemplo:\n",
        "</p>\n",
        "\n",
        "\n",
        "\n"
      ],
      "metadata": {
        "id": "ChvgUzrt5FIV"
      }
    },
    {
      "cell_type": "code",
      "source": [
        "horas = range(13)"
      ],
      "metadata": {
        "id": "H2lsZxHDCppf"
      },
      "execution_count": null,
      "outputs": []
    },
    {
      "cell_type": "markdown",
      "source": [
        "rango = $(n, m-1)$"
      ],
      "metadata": {
        "id": "eGFQehjJctEs"
      }
    },
    {
      "cell_type": "code",
      "source": [
        "elementos_ascendente = list(range(0, 11, 2))\n",
        "elementos_ascendente"
      ],
      "metadata": {
        "colab": {
          "base_uri": "https://localhost:8080/"
        },
        "id": "_LW1a-XLeQ-J",
        "outputId": "7d66def0-6cad-4130-d8b5-95c5c2c66fa7"
      },
      "execution_count": null,
      "outputs": [
        {
          "output_type": "execute_result",
          "data": {
            "text/plain": [
              "[0, 2, 4, 6, 8, 10]"
            ]
          },
          "metadata": {},
          "execution_count": 89
        }
      ]
    },
    {
      "cell_type": "code",
      "source": [
        "elementos_descendente = list(range(10, -1, -2))\n",
        "elementos_descendente"
      ],
      "metadata": {
        "colab": {
          "base_uri": "https://localhost:8080/"
        },
        "id": "Do0ncAIkdL2c",
        "outputId": "75367216-1c33-4d1b-a857-5a24f2c153a7"
      },
      "execution_count": null,
      "outputs": [
        {
          "output_type": "execute_result",
          "data": {
            "text/plain": [
              "[10, 8, 6, 4, 2, 0]"
            ]
          },
          "metadata": {},
          "execution_count": 90
        }
      ]
    },
    {
      "cell_type": "code",
      "source": [
        "type(horas)"
      ],
      "metadata": {
        "colab": {
          "base_uri": "https://localhost:8080/"
        },
        "id": "nl1PrOqGZwV9",
        "outputId": "573b2f9d-2d50-475d-9606-eb87da410cda"
      },
      "execution_count": null,
      "outputs": [
        {
          "output_type": "execute_result",
          "data": {
            "text/plain": [
              "range"
            ]
          },
          "metadata": {},
          "execution_count": 78
        }
      ]
    },
    {
      "cell_type": "code",
      "source": [
        "horas"
      ],
      "metadata": {
        "id": "uaJT4N4hCpdX",
        "colab": {
          "base_uri": "https://localhost:8080/"
        },
        "outputId": "47e567ee-5bd3-4509-a77c-4b164438486c"
      },
      "execution_count": null,
      "outputs": [
        {
          "output_type": "execute_result",
          "data": {
            "text/plain": [
              "range(0, 13)"
            ]
          },
          "metadata": {},
          "execution_count": 79
        }
      ]
    },
    {
      "cell_type": "code",
      "source": [
        "horas = list(horas)"
      ],
      "metadata": {
        "id": "lvxdck_SCq5A"
      },
      "execution_count": null,
      "outputs": []
    },
    {
      "cell_type": "code",
      "source": [
        "horas"
      ],
      "metadata": {
        "colab": {
          "base_uri": "https://localhost:8080/"
        },
        "id": "FsWMYXpJc-1C",
        "outputId": "36e98b69-8c85-4a2a-b010-08e42e6cc072"
      },
      "execution_count": null,
      "outputs": [
        {
          "output_type": "execute_result",
          "data": {
            "text/plain": [
              "[0, 1, 2, 3, 4, 5, 6, 7, 8, 9, 10, 11, 12]"
            ]
          },
          "metadata": {},
          "execution_count": 83
        }
      ]
    },
    {
      "cell_type": "markdown",
      "source": [
        "<p align=\"justify\">Para adicionar elementos a una lista, se pueden utilizar el método <code>append()</code> o el método <code>insert()</code>.<br><br><code>insert()</code>es computacionalmente costoso en comparación con <code>append()</code>, porque las referencias a los elementos subsiguientes deben cambiarse internamente para dejar espacio para el nuevo elemento.<br><br> 👀 Podemos comprobar si una lista contiene un valor utilizando la palabra clave <code>in</code>.<br><br>Por ejemplo:\n",
        "\n",
        "</p>\n",
        "\n"
      ],
      "metadata": {
        "id": "w5UKhpjDHeyi"
      }
    },
    {
      "cell_type": "code",
      "source": [
        "elementos = [\"activo\", \"pasivo\", \"patrimonio neto\"]"
      ],
      "metadata": {
        "id": "ac09SjYPLfWw"
      },
      "execution_count": null,
      "outputs": []
    },
    {
      "cell_type": "code",
      "source": [
        "\"activo corriente\" in elementos"
      ],
      "metadata": {
        "colab": {
          "base_uri": "https://localhost:8080/"
        },
        "id": "7t0oA5scLmAc",
        "outputId": "34c6dd21-d9f6-4606-9f87-94fab14d9604"
      },
      "execution_count": null,
      "outputs": [
        {
          "output_type": "execute_result",
          "data": {
            "text/plain": [
              "False"
            ]
          },
          "metadata": {},
          "execution_count": 92
        }
      ]
    },
    {
      "cell_type": "markdown",
      "source": [
        "<p align=\"justify\"> 👀 La palabra <code>not</code> se puede usar para negar <code>in</code>.<br><br>Por ejemplo:\n",
        "\n",
        "</p>\n"
      ],
      "metadata": {
        "id": "gVB3vbo5MCv4"
      }
    },
    {
      "cell_type": "code",
      "source": [
        "\"activo corriente\" not in elementos"
      ],
      "metadata": {
        "colab": {
          "base_uri": "https://localhost:8080/"
        },
        "id": "feS5WpL5MUCZ",
        "outputId": "11e64988-7f89-4957-b474-5c120b07dbb0"
      },
      "execution_count": null,
      "outputs": [
        {
          "output_type": "execute_result",
          "data": {
            "text/plain": [
              "True"
            ]
          },
          "metadata": {},
          "execution_count": 93
        }
      ]
    },
    {
      "cell_type": "markdown",
      "source": [
        "<p align=\"justify\">Verificar si una lista contiene un elemento es mucho más lento que verificar con diccionarios y conjuntos, ya que Python realiza un escaneo lineal a través de los elementos de la lista.\n",
        "\n",
        "</p>\n"
      ],
      "metadata": {
        "id": "Qthj8BGnNHkH"
      }
    },
    {
      "cell_type": "markdown",
      "source": [
        "### **<font color=\"DarkBlue\">Concatenar y combinar listas</font>**\n"
      ],
      "metadata": {
        "id": "0kIL1UYvNnWg"
      }
    },
    {
      "cell_type": "markdown",
      "source": [
        "<p align=\"justify\">\n",
        "🏷 Concatenar listas implica unir dos o más listas para formar una nueva lista que contiene los elementos de todas las listas originales, en el mismo orden. Una de las formas de concatenar lista se hace usando el operador +.\n",
        "<br><br>\n",
        "🏷 Combinar listas, por otro lado, puede referirse a diversos métodos de juntar elementos de listas, como usando bucles o métodos de listas para fusionar o intercalar elementos según un criterio específico."
      ],
      "metadata": {
        "id": "Hpsv95PpuQI_"
      }
    },
    {
      "cell_type": "markdown",
      "source": [
        "<p align=\"justify\">\n",
        "👀 Imaginemos una situación en la que una empresa tiene dos listas separadas: una con los nombres de productos vendidos en la primera mitad del año y otra con los nombres de productos vendidos en la segunda mitad del año. La empresa desea crear una única lista que contenga todos los productos vendidos a lo largo del año..."
      ],
      "metadata": {
        "id": "RGiOTgVEuwuG"
      }
    },
    {
      "cell_type": "markdown",
      "source": [
        "Concatenando..."
      ],
      "metadata": {
        "id": "gTLwKHSZvLNq"
      }
    },
    {
      "cell_type": "code",
      "source": [
        "productos_primera_mitad = [\"Producto A\", \"Producto B\", \"Producto C\"]\n",
        "productos_segunda_mitad = [\"Producto D\", \"Producto E\", \"Producto F\"]"
      ],
      "metadata": {
        "id": "plL1ZKzEumax"
      },
      "execution_count": null,
      "outputs": []
    },
    {
      "cell_type": "code",
      "source": [
        "len(productos_primera_mitad)"
      ],
      "metadata": {
        "colab": {
          "base_uri": "https://localhost:8080/"
        },
        "id": "gWEsWCLHioK3",
        "outputId": "a2905db5-9f46-4e79-8b6b-88a15d9c0609"
      },
      "execution_count": null,
      "outputs": [
        {
          "output_type": "execute_result",
          "data": {
            "text/plain": [
              "3"
            ]
          },
          "metadata": {},
          "execution_count": 97
        }
      ]
    },
    {
      "cell_type": "code",
      "source": [
        "productos_totales = productos_primera_mitad + productos_segunda_mitad"
      ],
      "metadata": {
        "id": "n7u-UAsovkIr"
      },
      "execution_count": null,
      "outputs": []
    },
    {
      "cell_type": "code",
      "source": [
        "productos_totales"
      ],
      "metadata": {
        "colab": {
          "base_uri": "https://localhost:8080/"
        },
        "id": "Q8L_mNedvUhb",
        "outputId": "78f848dd-a78d-4e6d-af0c-85567de457dd"
      },
      "execution_count": null,
      "outputs": [
        {
          "output_type": "execute_result",
          "data": {
            "text/plain": [
              "['Producto A',\n",
              " 'Producto B',\n",
              " 'Producto C',\n",
              " 'Producto D',\n",
              " 'Producto E',\n",
              " 'Producto F']"
            ]
          },
          "metadata": {},
          "execution_count": 96
        }
      ]
    },
    {
      "cell_type": "code",
      "source": [
        "len(productos_totales)"
      ],
      "metadata": {
        "colab": {
          "base_uri": "https://localhost:8080/"
        },
        "id": "3-xpYhSPiry4",
        "outputId": "6a3d064f-0f6e-497a-e5c4-a1b71dfc7c72"
      },
      "execution_count": null,
      "outputs": [
        {
          "output_type": "execute_result",
          "data": {
            "text/plain": [
              "6"
            ]
          },
          "metadata": {},
          "execution_count": 98
        }
      ]
    },
    {
      "cell_type": "markdown",
      "source": [
        "<p align=\"justify\">Ahora bien, si ya tenemos una lista definida, podemos agregarle varios elementos usando el método <code>extend()</code>. El método <code>extend()</code> es una función incorporada de las listas que permite añadir todos los elementos de una lista (o cualquier iterable) a otra lista.\n",
        "<br><br>\n",
        "A diferencia de <code>append()</code>, que añade un solo elemento al final de la lista, <code>extend()</code> toma un iterable y añade cada uno de sus elementos a la lista original, modificándola.\n",
        "<br><br>Por ejemplo:\n",
        "\n"
      ],
      "metadata": {
        "id": "v6jpWN9LQFBJ"
      }
    },
    {
      "cell_type": "code",
      "source": [
        "elementos = [\"activo\", \"pasivo\", \"patrimonio neto\"]"
      ],
      "metadata": {
        "id": "huP7sBiaxu1g"
      },
      "execution_count": null,
      "outputs": []
    },
    {
      "cell_type": "code",
      "source": [
        "elementos"
      ],
      "metadata": {
        "colab": {
          "base_uri": "https://localhost:8080/"
        },
        "id": "CuwONZfwQbAI",
        "outputId": "471c8734-fc2b-4a8c-d016-2191e91faddf"
      },
      "execution_count": null,
      "outputs": [
        {
          "output_type": "execute_result",
          "data": {
            "text/plain": [
              "['activo', 'pasivo', 'patrimonio neto']"
            ]
          },
          "metadata": {},
          "execution_count": 100
        }
      ]
    },
    {
      "cell_type": "code",
      "source": [
        "mas_elementos = [\"activo corriente\", \"activo no corriente\", \"pasivo corriente\", \"pasivo no corriente\"]"
      ],
      "metadata": {
        "id": "2ieIRFnidBzj"
      },
      "execution_count": null,
      "outputs": []
    },
    {
      "cell_type": "code",
      "source": [
        "elementos.extend(mas_elementos)"
      ],
      "metadata": {
        "id": "lb3B-r6kdGdo"
      },
      "execution_count": null,
      "outputs": []
    },
    {
      "cell_type": "code",
      "source": [
        "elementos"
      ],
      "metadata": {
        "colab": {
          "base_uri": "https://localhost:8080/"
        },
        "id": "67giStM2dLN3",
        "outputId": "96a4c9f7-4fc4-46f6-f680-3c95dafc540f"
      },
      "execution_count": null,
      "outputs": [
        {
          "output_type": "execute_result",
          "data": {
            "text/plain": [
              "['activo',\n",
              " 'pasivo',\n",
              " 'patrimonio neto',\n",
              " 'activo corriente',\n",
              " 'activo no corriente',\n",
              " 'pasivo corriente',\n",
              " 'pasivo no corriente']"
            ]
          },
          "metadata": {},
          "execution_count": 103
        }
      ]
    },
    {
      "cell_type": "markdown",
      "source": [
        "<p align=\"justify\"> 👀 Hay que tener en cuenta que la concatenación de listas es una operación computacionalmente costosa, ya que se debe crear una nueva lista y copiar cada uno de los elementos. <br><br> Usualmente es preferible usar el metodo <code>extend()</code>para agregar elementos a una lista existente, y más aún si se está creando una lista grande.\n",
        "\n",
        "</p>\n"
      ],
      "metadata": {
        "id": "sLb16KV_SQB5"
      }
    },
    {
      "cell_type": "markdown",
      "source": [
        "👀 Otro ejemplo:"
      ],
      "metadata": {
        "id": "EMVuHiGZx-S_"
      }
    },
    {
      "cell_type": "code",
      "source": [
        "# Lista de clientes actuales\n",
        "clientes_actuales = [\"Cliente A\", \"Cliente B\", \"Cliente C\"]\n",
        "\n",
        "# Lista de nuevos clientes\n",
        "nuevos_clientes = [\"Cliente D\", \"Cliente E\", \"Cliente F\"]\n",
        "\n",
        "# Usar el método extend() para añadir los nuevos clientes a la lista de clientes actuales\n",
        "clientes_actuales.extend(nuevos_clientes)\n",
        "\n",
        "# Mostrar la lista actualizada de clientes\n",
        "print(clientes_actuales)"
      ],
      "metadata": {
        "colab": {
          "base_uri": "https://localhost:8080/"
        },
        "id": "GiKiQ9PlyBtq",
        "outputId": "2455554e-3797-4c5c-93cb-bd5b42423517"
      },
      "execution_count": null,
      "outputs": [
        {
          "output_type": "stream",
          "name": "stdout",
          "text": [
            "['Cliente A', 'Cliente B', 'Cliente C', 'Cliente D', 'Cliente E', 'Cliente F']\n"
          ]
        }
      ]
    },
    {
      "cell_type": "markdown",
      "source": [
        "### **<font color=\"DarkBlue\">Sorting</font>**\n"
      ],
      "metadata": {
        "id": "z--8E78wTY29"
      }
    },
    {
      "cell_type": "markdown",
      "source": [
        "<p align=\"justify\"> Se puede ordenar una lista, sin la necesidad de crear un objeto nuevo, llamando al método <code>sort()</code>. El método <code>sort()</code> se utiliza para ordenar los elementos de una lista en su lugar, es decir, modifica la lista original para que los elementos se dispongan en un orden específico (por defecto, ascendente).\n",
        "<br><br>\n",
        "Este método puede ordenar números, cadenas y otros tipos de datos comparables.\n",
        "\n",
        "</p>\n"
      ],
      "metadata": {
        "id": "gcbxXzAcTcIV"
      }
    },
    {
      "cell_type": "code",
      "source": [
        "Nombres = [\"Raul\", \"Cristian\", \"Leaner\", \"Marvin\", \"Francisco\", \"Ludmila\", \"Betiana\"]"
      ],
      "metadata": {
        "id": "Yxx-9Q4icivZ"
      },
      "execution_count": null,
      "outputs": []
    },
    {
      "cell_type": "code",
      "source": [
        "Nombres"
      ],
      "metadata": {
        "id": "Szr_FrpQUGhZ",
        "colab": {
          "base_uri": "https://localhost:8080/"
        },
        "outputId": "e4240774-4980-4545-adc9-1779e1ddb620"
      },
      "execution_count": null,
      "outputs": [
        {
          "output_type": "execute_result",
          "data": {
            "text/plain": [
              "['Raul', 'Cristian', 'Leaner', 'Marvin', 'Francisco', 'Ludmila', 'Betiana']"
            ]
          },
          "metadata": {},
          "execution_count": 111
        }
      ]
    },
    {
      "cell_type": "code",
      "source": [
        "Nombres.sort()"
      ],
      "metadata": {
        "id": "mDldTCMozhU0"
      },
      "execution_count": null,
      "outputs": []
    },
    {
      "cell_type": "code",
      "source": [
        "Nombres"
      ],
      "metadata": {
        "colab": {
          "base_uri": "https://localhost:8080/"
        },
        "id": "M85VXIWKzkUF",
        "outputId": "e854b1d7-06bb-4bc0-94e8-c990605dcaf7"
      },
      "execution_count": null,
      "outputs": [
        {
          "output_type": "execute_result",
          "data": {
            "text/plain": [
              "['Betiana', 'Cristian', 'Francisco', 'Leaner', 'Ludmila', 'Marvin', 'Raul']"
            ]
          },
          "metadata": {},
          "execution_count": 113
        }
      ]
    },
    {
      "cell_type": "code",
      "source": [
        "Nombres.sort(reverse=True)"
      ],
      "metadata": {
        "id": "zWf7x7G8zogp"
      },
      "execution_count": null,
      "outputs": []
    },
    {
      "cell_type": "markdown",
      "source": [
        "<p align=\"justify\">\n",
        "El parámetro reverse es opcional, y es un valor booleano que, si se establece en True, ordena la lista en orden descendente. El valor predeterminado es False lo que implica un orden ascendente."
      ],
      "metadata": {
        "id": "Q2LvFa4Dz4uQ"
      }
    },
    {
      "cell_type": "code",
      "source": [
        "Nombres"
      ],
      "metadata": {
        "colab": {
          "base_uri": "https://localhost:8080/"
        },
        "id": "DjjUqUmVzvQW",
        "outputId": "733bef0f-a63f-4cca-f396-c5bf190ce83d"
      },
      "execution_count": null,
      "outputs": [
        {
          "output_type": "execute_result",
          "data": {
            "text/plain": [
              "['Raul', 'Marvin', 'Ludmila', 'Leaner', 'Francisco', 'Cristian', 'Betiana']"
            ]
          },
          "metadata": {},
          "execution_count": 116
        }
      ]
    },
    {
      "cell_type": "markdown",
      "source": [
        "<p align=\"justify\">\n",
        "Ahora bien, por ejemplo si una empresa tiene una lista de productos y desea ordenar de acuerdo a la longitud del nombre del producto, se puede usar el parámetro key del método de la siguiente manera:"
      ],
      "metadata": {
        "id": "vutnqK7y0VyO"
      }
    },
    {
      "cell_type": "code",
      "source": [
        "# Lista de productos de la empresa\n",
        "productos = [\"Laptop\", \"Monitor\", \"Teclado\", \"Mouse\", \"Auriculares\"]\n",
        "\n",
        "# Usar el método sort() con key para ordenar por longitud del nombre del producto\n",
        "productos.sort(key=len)\n",
        "\n",
        "# Mostrar la lista de productos ordenada por longitud de los nombres de los productos\n",
        "print(productos)"
      ],
      "metadata": {
        "colab": {
          "base_uri": "https://localhost:8080/"
        },
        "id": "rWcNnH2k0qvN",
        "outputId": "9715a51a-ec57-44df-e0f8-95d59abdca70"
      },
      "execution_count": null,
      "outputs": [
        {
          "output_type": "stream",
          "name": "stdout",
          "text": [
            "['Mouse', 'Laptop', 'Monitor', 'Teclado', 'Auriculares']\n"
          ]
        }
      ]
    },
    {
      "cell_type": "code",
      "source": [
        "productos.sort(key=len, reverse=True)\n",
        "print(productos)"
      ],
      "metadata": {
        "colab": {
          "base_uri": "https://localhost:8080/"
        },
        "id": "r2qXJK04nHUI",
        "outputId": "03554611-cf2d-4598-da89-f859160e169d"
      },
      "execution_count": null,
      "outputs": [
        {
          "output_type": "stream",
          "name": "stdout",
          "text": [
            "['Auriculares', 'Monitor', 'Teclado', 'Laptop', 'Mouse']\n"
          ]
        }
      ]
    },
    {
      "cell_type": "markdown",
      "source": [
        "### **<font color=\"DarkBlue\">Slicing</font>**\n"
      ],
      "metadata": {
        "id": "A-BOKvi1TdgV"
      }
    },
    {
      "cell_type": "markdown",
      "source": [
        "<p align=\"justify\">\n",
        "El slicing (corte) es una técnica utilizada para acceder a una subsección o sublista de una lista. Esto se hace especificando un rango de índices que determina los elementos que se van a incluir en la sublista resultante.\n",
        "<br><br>\n",
        "El slicing no modifica la lista original, sino que crea una nueva lista que contiene los elementos seleccionados.\n",
        "\n"
      ],
      "metadata": {
        "id": "uVMx9liv1Tc3"
      }
    },
    {
      "cell_type": "code",
      "source": [
        "elementos = ['activo', 'pasivo', 'patrimonio neto','pasivo corriente', 'pasivo no corriente']"
      ],
      "metadata": {
        "id": "9YWiUPSedmg8"
      },
      "execution_count": null,
      "outputs": []
    },
    {
      "cell_type": "code",
      "source": [
        "elementos[0]"
      ],
      "metadata": {
        "colab": {
          "base_uri": "https://localhost:8080/",
          "height": 36
        },
        "id": "Q_FlgizInwe-",
        "outputId": "9839d796-1930-4564-8e78-1327c415d9cf"
      },
      "execution_count": null,
      "outputs": [
        {
          "output_type": "execute_result",
          "data": {
            "text/plain": [
              "'activo'"
            ],
            "application/vnd.google.colaboratory.intrinsic+json": {
              "type": "string"
            }
          },
          "metadata": {},
          "execution_count": 123
        }
      ]
    },
    {
      "cell_type": "code",
      "source": [
        "tres_elementos = elementos[0:3]\n",
        "tres_elementos"
      ],
      "metadata": {
        "colab": {
          "base_uri": "https://localhost:8080/"
        },
        "id": "ei92NysQU2IQ",
        "outputId": "e481a26a-ce43-470e-8548-bb2a8b58dfa8"
      },
      "execution_count": null,
      "outputs": [
        {
          "output_type": "execute_result",
          "data": {
            "text/plain": [
              "['activo', 'pasivo', 'patrimonio neto']"
            ]
          },
          "metadata": {},
          "execution_count": 125
        }
      ]
    },
    {
      "cell_type": "code",
      "source": [
        "dos_elementos = elementos[3:6]\n",
        "dos_elementos"
      ],
      "metadata": {
        "colab": {
          "base_uri": "https://localhost:8080/"
        },
        "id": "36U9SCJ5VFvl",
        "outputId": "5bec5174-e82d-4501-f5c0-e5093149dcab"
      },
      "execution_count": null,
      "outputs": [
        {
          "output_type": "execute_result",
          "data": {
            "text/plain": [
              "['pasivo corriente', 'pasivo no corriente']"
            ]
          },
          "metadata": {},
          "execution_count": 126
        }
      ]
    },
    {
      "cell_type": "markdown",
      "source": [
        "👀 Ahora supongamos que una empresa tiene una lista con las ventas diarias de una semana y desea realizar varios análisis utilizando slicing..."
      ],
      "metadata": {
        "id": "tOzqJJZJ1vDq"
      }
    },
    {
      "cell_type": "code",
      "source": [
        "ventas_diarias = [150, 200, 250, 300, 350, 400, 450]"
      ],
      "metadata": {
        "id": "CvnowWpT18GB"
      },
      "execution_count": null,
      "outputs": []
    },
    {
      "cell_type": "code",
      "source": [
        "len(ventas_diarias)"
      ],
      "metadata": {
        "colab": {
          "base_uri": "https://localhost:8080/"
        },
        "id": "su2QA9bEotJb",
        "outputId": "2ae2b2b4-113c-4c26-ee9f-75d6f28f4aa0"
      },
      "execution_count": null,
      "outputs": [
        {
          "output_type": "execute_result",
          "data": {
            "text/plain": [
              "7"
            ]
          },
          "metadata": {},
          "execution_count": 128
        }
      ]
    },
    {
      "cell_type": "markdown",
      "source": [
        "Entonces, para acceder a las ventas de los tres primeros días de la semana (lunes, martes y miércoles):\n",
        "\n"
      ],
      "metadata": {
        "id": "_0qO2Jiv2Aud"
      }
    },
    {
      "cell_type": "code",
      "source": [
        "ventas_diarias"
      ],
      "metadata": {
        "colab": {
          "base_uri": "https://localhost:8080/"
        },
        "id": "1gWDnMJz26XE",
        "outputId": "fb891fde-a682-459e-c4c2-43f68fae6390"
      },
      "execution_count": null,
      "outputs": [
        {
          "output_type": "execute_result",
          "data": {
            "text/plain": [
              "[150, 200, 250, 300, 350, 400, 450]"
            ]
          },
          "metadata": {},
          "execution_count": 129
        }
      ]
    },
    {
      "cell_type": "markdown",
      "source": [
        "rango $=(n:m-1)$"
      ],
      "metadata": {
        "id": "4NZW-lR5pWmI"
      }
    },
    {
      "cell_type": "code",
      "source": [
        "ventas_inicio_semana = ventas_diarias[0:3]\n",
        "print(ventas_inicio_semana)"
      ],
      "metadata": {
        "colab": {
          "base_uri": "https://localhost:8080/"
        },
        "id": "Bddm7_Da2I94",
        "outputId": "6ae91ee0-32e5-4d26-e7ae-1c4fadfb4675"
      },
      "execution_count": null,
      "outputs": [
        {
          "output_type": "stream",
          "name": "stdout",
          "text": [
            "[150, 200, 250]\n"
          ]
        }
      ]
    },
    {
      "cell_type": "code",
      "source": [
        "ventas_inicio_semana"
      ],
      "metadata": {
        "colab": {
          "base_uri": "https://localhost:8080/"
        },
        "id": "-2PSpgUuo_mV",
        "outputId": "69b4e82e-0a80-4bf4-a970-c35b723af8c0"
      },
      "execution_count": null,
      "outputs": [
        {
          "output_type": "execute_result",
          "data": {
            "text/plain": [
              "[150, 200, 250]"
            ]
          },
          "metadata": {},
          "execution_count": 131
        }
      ]
    },
    {
      "cell_type": "markdown",
      "source": [
        "Para acceder a las ventas desde el cuarto día hasta el último día (jueves a domingo):"
      ],
      "metadata": {
        "id": "0ICWfsAD2QAa"
      }
    },
    {
      "cell_type": "code",
      "source": [
        "ventas_diarias"
      ],
      "metadata": {
        "colab": {
          "base_uri": "https://localhost:8080/"
        },
        "id": "q8gR7zrZ2-PH",
        "outputId": "2206d850-3292-4b05-d6a8-43f02fe6a3b0"
      },
      "execution_count": null,
      "outputs": [
        {
          "output_type": "execute_result",
          "data": {
            "text/plain": [
              "[150, 200, 250, 300, 350, 400, 450]"
            ]
          },
          "metadata": {},
          "execution_count": 132
        }
      ]
    },
    {
      "cell_type": "code",
      "source": [
        "ventas_final_semana = ventas_diarias[3:]\n",
        "print(ventas_final_semana)"
      ],
      "metadata": {
        "colab": {
          "base_uri": "https://localhost:8080/"
        },
        "id": "C06o-6Es2boG",
        "outputId": "b19be142-9df7-4efe-800c-e2ccc1eeb2a3"
      },
      "execution_count": null,
      "outputs": [
        {
          "output_type": "stream",
          "name": "stdout",
          "text": [
            "[300, 350, 400, 450]\n"
          ]
        }
      ]
    },
    {
      "cell_type": "markdown",
      "source": [
        "Para acceder a las ventas de los días impares (lunes, miércoles, viernes, domingo):\n"
      ],
      "metadata": {
        "id": "GUFCTb-f2jNF"
      }
    },
    {
      "cell_type": "code",
      "source": [
        "ventas_diarias"
      ],
      "metadata": {
        "colab": {
          "base_uri": "https://localhost:8080/"
        },
        "id": "k9wiPK7s3Ayx",
        "outputId": "13b7201f-61c6-493e-9108-2e35f4f027fd"
      },
      "execution_count": null,
      "outputs": [
        {
          "output_type": "execute_result",
          "data": {
            "text/plain": [
              "[150, 200, 250, 300, 350, 400, 450]"
            ]
          },
          "metadata": {},
          "execution_count": 138
        }
      ]
    },
    {
      "cell_type": "code",
      "source": [
        "ventas_dias_impares = ventas_diarias[::2]\n",
        "print(ventas_dias_impares)"
      ],
      "metadata": {
        "colab": {
          "base_uri": "https://localhost:8080/"
        },
        "id": "vkYdRF4P2w1Q",
        "outputId": "2199e561-7c1d-4e66-9b1e-723564dca341"
      },
      "execution_count": null,
      "outputs": [
        {
          "output_type": "stream",
          "name": "stdout",
          "text": [
            "[150, 250, 350, 450]\n"
          ]
        }
      ]
    },
    {
      "cell_type": "markdown",
      "source": [
        "Para acceder a las ventas de los días pares (martes, jueves, sábado):\n"
      ],
      "metadata": {
        "id": "Gzm7H2FC3IEy"
      }
    },
    {
      "cell_type": "code",
      "source": [
        "ventas_diarias"
      ],
      "metadata": {
        "colab": {
          "base_uri": "https://localhost:8080/"
        },
        "id": "0q_ZVKNG3ONv",
        "outputId": "31ca347a-06e5-46e6-eb42-823303126168"
      },
      "execution_count": null,
      "outputs": [
        {
          "output_type": "execute_result",
          "data": {
            "text/plain": [
              "[150, 200, 250, 300, 350, 400, 450]"
            ]
          },
          "metadata": {},
          "execution_count": 140
        }
      ]
    },
    {
      "cell_type": "code",
      "source": [
        "ventas_dias_pares = ventas_diarias[1::2]\n",
        "print(ventas_dias_pares)"
      ],
      "metadata": {
        "colab": {
          "base_uri": "https://localhost:8080/"
        },
        "id": "s2pGQF_D3Rkj",
        "outputId": "bdae5396-3db7-4420-e7a3-a9d56f119aef"
      },
      "execution_count": null,
      "outputs": [
        {
          "output_type": "stream",
          "name": "stdout",
          "text": [
            "[200, 300, 400]\n"
          ]
        }
      ]
    },
    {
      "cell_type": "markdown",
      "source": [
        "Y por último, para acceder a las ventas en orden inverso:\n",
        "\n"
      ],
      "metadata": {
        "id": "UdLciyU63abT"
      }
    },
    {
      "cell_type": "code",
      "source": [
        "ventas_diarias"
      ],
      "metadata": {
        "colab": {
          "base_uri": "https://localhost:8080/"
        },
        "id": "syZoqzDr3leP",
        "outputId": "4b7a701c-facf-4bc1-f465-cccb7287d5d4"
      },
      "execution_count": null,
      "outputs": [
        {
          "output_type": "execute_result",
          "data": {
            "text/plain": [
              "[150, 200, 250, 300, 350, 400, 450]"
            ]
          },
          "metadata": {},
          "execution_count": 145
        }
      ]
    },
    {
      "cell_type": "code",
      "source": [
        "ventas_inversas = ventas_diarias[::-1]\n",
        "print(ventas_inversas)"
      ],
      "metadata": {
        "colab": {
          "base_uri": "https://localhost:8080/"
        },
        "id": "IWsDJyFC3nwO",
        "outputId": "19c92211-2f7e-4142-d269-6717160664d0"
      },
      "execution_count": null,
      "outputs": [
        {
          "output_type": "stream",
          "name": "stdout",
          "text": [
            "[450, 400, 350, 300, 250, 200, 150]\n"
          ]
        }
      ]
    },
    {
      "cell_type": "markdown",
      "source": [
        "## **<font color=\"DarkBlue\">Diccionarios</font>**"
      ],
      "metadata": {
        "id": "DXw6b71aCrWB"
      }
    },
    {
      "cell_type": "markdown",
      "source": [
        "<p align=\"justify\"> El diccionario puede ser la estructura de datos más importante de Python. En otros lenguajes de programación, los diccionarios a veces se denominan mapas, hash o matrices asociativas.\n",
        "<br><br>\n",
        "Un diccionario almacena una colección de pares clave valor. Cada clave está asociada con un valor para que pueda recuperarse, insertarse, modificarse o eliminarse convenientemente dada una clave en particular. El primer valor de un diccionario entonces, es la clave y el segundo, el valor asociado a la clave. Como clave podemos\n",
        "utilizar cualquier valor inmutable: podríamos usar números, cadenas, booleanos, tuplas, pero no se podrían utilizar listas o diccionarios, dado que son mutables. Esto es así porque los diccionarios se implementan\n",
        "como tablas hash, y a la hora de introducir un nuevo par clave valor en el diccionario se calcula el\n",
        "hash de la clave para después poder encontrar el valor asociado a esa clave. Si se modificara el objeto clave después de haber sido introducido en el diccionario, evidentemente, su hash también cambiaría y no podría ser encontrado.\n",
        "<br><br>\n",
        "Las características de un diccionario:\n",
        "<br><br>\n",
        "\n",
        "1. **Claves Únicas:** Cada clave en un diccionario debe ser única. Si se añade un par con una clave que ya existe, el valor asociado a esa clave se actualizará.\n",
        "2. **Desordenado:** A partir de Python 3.7, los diccionarios mantienen el orden de inserción de los elementos, aunque conceptualmente se consideran desordenados.\n",
        "3. **Mutable:** Se pueden añadir, modificar y eliminar elementos después de crear el diccionario.\n",
        "\n",
        "<br>\n",
        "<p align=\"justify\">\n",
        "La sintaxis para la creación de un diccionario es la siguiente:\n",
        "\n",
        "\n",
        "```python\n",
        "mi_diccionario = {\"clave1\": \"valor1\",\n",
        "                  \"clave2\": \"valor2\",\n",
        "                  \"clave3\": \"valor3\"}\n",
        "```\n",
        "\n",
        "<br>\n",
        "<p align=\"justify\">\n",
        "Por lo tanto, el enfoque para crear un diccionario es usar llaves <code>{}</code> y dos puntos para separar las claves de los valores, el otro enfoque que puede aplicarse es usar la función <code>dict()</code>\n",
        "\n",
        "</p>"
      ],
      "metadata": {
        "id": "FxDltfCZXN2m"
      }
    },
    {
      "cell_type": "code",
      "source": [
        "diccionario = {\"Actividad\": \"Curso\", \"Contenido\": \"Python para Análisis de Datos\"}\n",
        "diccionario"
      ],
      "metadata": {
        "id": "6h9nfmnjCvPm",
        "colab": {
          "base_uri": "https://localhost:8080/"
        },
        "outputId": "d4623b40-4052-44b0-8875-5526bf7559e4"
      },
      "execution_count": null,
      "outputs": [
        {
          "output_type": "execute_result",
          "data": {
            "text/plain": [
              "{'Actividad': 'Curso', 'Contenido': 'Python para Análisis de Datos'}"
            ]
          },
          "metadata": {},
          "execution_count": 147
        }
      ]
    },
    {
      "cell_type": "code",
      "source": [
        "diccionario = dict(Actividad = \"Curso\", Contenido = \"Python para Análisis de Datos\")\n",
        "diccionario"
      ],
      "metadata": {
        "id": "3tOEQSR_CvFm",
        "colab": {
          "base_uri": "https://localhost:8080/"
        },
        "outputId": "4beebe2d-7ff8-46aa-9abf-997619d754a4"
      },
      "execution_count": null,
      "outputs": [
        {
          "output_type": "execute_result",
          "data": {
            "text/plain": [
              "{'Actividad': 'Curso', 'Contenido': 'Python para Análisis de Datos'}"
            ]
          },
          "metadata": {},
          "execution_count": 148
        }
      ]
    },
    {
      "cell_type": "markdown",
      "source": [
        "<p align=\"justify\"> 👀 La diferencia principal entre los diccionarios y las listas o las tuplas es que a los valores almacenados en un diccionario se les accede no por su índice, porque de hecho no tienen orden, sino por su clave.\n",
        "\n",
        "</p>"
      ],
      "metadata": {
        "id": "eKVqi-n4wwSv"
      }
    },
    {
      "cell_type": "markdown",
      "source": [
        "### **<font color=\"DarkBlue\">Creando diccionarios a partir de secuencias</font>**\n"
      ],
      "metadata": {
        "id": "GprcFk5rSLGC"
      }
    },
    {
      "cell_type": "markdown",
      "source": [
        "<p align=\"justify\"> Es común terminar ocasionalmente con dos secuencias, como por ejemplo dos listas, y se quiere llevarlas a un un diccionario. Uno de los metodos empleados para esta tarea es el metodo <code>zip()</code>. <br><br> Por ejemplo:\n",
        "\n",
        "</p>"
      ],
      "metadata": {
        "id": "iVe4IEVqSYxt"
      }
    },
    {
      "cell_type": "code",
      "source": [
        "claves = ['activo', 'activo corriente', 'activo no corriente','pasivo', 'pasivo corriente', 'pasivo no corriente', 'patrimonio neto']"
      ],
      "metadata": {
        "id": "7-Yut0eYCu1O"
      },
      "execution_count": null,
      "outputs": []
    },
    {
      "cell_type": "code",
      "source": [
        "valores = [1000, 400, 600, 600, 400, 200, 400]"
      ],
      "metadata": {
        "id": "Dz9f9SiCU7XF"
      },
      "execution_count": null,
      "outputs": []
    },
    {
      "cell_type": "code",
      "source": [
        "diccionario = {}"
      ],
      "metadata": {
        "id": "GAUdg5UWVPPI"
      },
      "execution_count": null,
      "outputs": []
    },
    {
      "cell_type": "code",
      "source": [
        "len(diccionario)"
      ],
      "metadata": {
        "colab": {
          "base_uri": "https://localhost:8080/"
        },
        "id": "kz6eDf5xtIAf",
        "outputId": "5541ca8f-7800-4c71-cd52-88d54a8ac29d"
      },
      "execution_count": null,
      "outputs": [
        {
          "output_type": "execute_result",
          "data": {
            "text/plain": [
              "0"
            ]
          },
          "metadata": {},
          "execution_count": 154
        }
      ]
    },
    {
      "cell_type": "code",
      "source": [
        "for key, value in zip(claves, valores):\n",
        "  diccionario[key] = value"
      ],
      "metadata": {
        "id": "7vd3n8UdVSGK"
      },
      "execution_count": null,
      "outputs": []
    },
    {
      "cell_type": "code",
      "source": [
        "diccionario"
      ],
      "metadata": {
        "colab": {
          "base_uri": "https://localhost:8080/"
        },
        "id": "OqLZ3NgTVxRs",
        "outputId": "470aa5e1-4543-488b-ee1b-fb4049a5bd57"
      },
      "execution_count": null,
      "outputs": [
        {
          "output_type": "execute_result",
          "data": {
            "text/plain": [
              "{'activo': 1000,\n",
              " 'activo corriente': 400,\n",
              " 'activo no corriente': 600,\n",
              " 'pasivo': 600,\n",
              " 'pasivo corriente': 400,\n",
              " 'pasivo no corriente': 200,\n",
              " 'patrimonio neto': 400}"
            ]
          },
          "metadata": {},
          "execution_count": 162
        }
      ]
    },
    {
      "cell_type": "markdown",
      "source": [
        "<p align=\"justify\"> Dado que un diccionario es esencialmente una colección de 2 tuplas, la función <code>dict()</code> acepta una lista de 2 tuplas.\n",
        "\n",
        "</p>"
      ],
      "metadata": {
        "id": "Snaku4dsW1P_"
      }
    },
    {
      "cell_type": "code",
      "source": [
        "tuplas = zip(range(7), reversed(range(7)))"
      ],
      "metadata": {
        "id": "038Cn4uXXymZ"
      },
      "execution_count": null,
      "outputs": []
    },
    {
      "cell_type": "code",
      "source": [
        "diccionario = dict(tuplas)\n",
        "diccionario"
      ],
      "metadata": {
        "colab": {
          "base_uri": "https://localhost:8080/"
        },
        "id": "FlqcNMQAYBO0",
        "outputId": "03010608-aa6f-4933-f040-5916bc9efe09"
      },
      "execution_count": null,
      "outputs": [
        {
          "output_type": "execute_result",
          "data": {
            "text/plain": [
              "{0: 6, 1: 5, 2: 4, 3: 3, 4: 2, 5: 1, 6: 0}"
            ]
          },
          "metadata": {},
          "execution_count": 75
        }
      ]
    },
    {
      "cell_type": "markdown",
      "source": [
        "<p align=\"justify\"> 👀 Tambien se podrían categorizar los elementos patrimoniales en un diccionario, tomando como valor clave, la primera letra de los elementos de la lista.<br><br> Por ejemplo:\n",
        "\n",
        "</p>"
      ],
      "metadata": {
        "id": "ui41wG3tZ230"
      }
    },
    {
      "cell_type": "code",
      "source": [
        "elementos"
      ],
      "metadata": {
        "colab": {
          "base_uri": "https://localhost:8080/"
        },
        "id": "8mi4WXgOZ3iH",
        "outputId": "26bfb741-9aa5-48e7-86cc-482f8f1aaa86"
      },
      "execution_count": null,
      "outputs": [
        {
          "output_type": "execute_result",
          "data": {
            "text/plain": [
              "['activo',\n",
              " 'activo corriente',\n",
              " 'activo no corriente',\n",
              " 'pasivo',\n",
              " 'pasivo corriente',\n",
              " 'pasivo no corriente',\n",
              " 'patrimonio neto']"
            ]
          },
          "metadata": {},
          "execution_count": 163
        }
      ]
    },
    {
      "cell_type": "code",
      "source": [
        "por_elementos = {}"
      ],
      "metadata": {
        "id": "EC2cMxfjZ9yU"
      },
      "execution_count": null,
      "outputs": []
    },
    {
      "cell_type": "code",
      "source": [
        "for i in elementos:\n",
        "  letra = i[0]\n",
        "  if letra not in por_elementos:\n",
        "    por_elementos[letra] = [i]\n",
        "  else:\n",
        "    por_elementos[letra].append(i)"
      ],
      "metadata": {
        "id": "wer8PdDraIRl"
      },
      "execution_count": null,
      "outputs": []
    },
    {
      "cell_type": "code",
      "source": [
        "por_elementos"
      ],
      "metadata": {
        "colab": {
          "base_uri": "https://localhost:8080/"
        },
        "id": "08N-GA4qbMSA",
        "outputId": "132f1049-f8ba-4cca-ef64-72b9b5e2f4a3"
      },
      "execution_count": null,
      "outputs": [
        {
          "output_type": "execute_result",
          "data": {
            "text/plain": [
              "{'a': ['activo', 'activo corriente', 'activo no corriente'],\n",
              " 'p': ['pasivo', 'pasivo corriente', 'pasivo no corriente', 'patrimonio neto']}"
            ]
          },
          "metadata": {},
          "execution_count": 79
        }
      ]
    },
    {
      "cell_type": "markdown",
      "source": [
        "### **<font color=\"DarkBlue\">Accediendo a valores</font>**\n"
      ],
      "metadata": {
        "id": "vSRd4fgb7ASw"
      }
    },
    {
      "cell_type": "markdown",
      "source": [
        "<p align=\"justify\">\n",
        "Supongamos que una empresa quiere almacenar información sobre sus empleados, incluyendo el nombre, edad y puesto."
      ],
      "metadata": {
        "id": "EVybrwf57Spx"
      }
    },
    {
      "cell_type": "code",
      "source": [
        "empleados = {\n",
        "    \"001\": {\"nombre\": \"Ana\", \"edad\": 30, \"puesto\": \"Analista\"},\n",
        "    \"002\": {\"nombre\": \"Luis\", \"edad\": 45, \"puesto\": \"Gerente\"},\n",
        "    \"003\": {\"nombre\": \"Marta\", \"edad\": 25, \"puesto\": \"Desarrollador\"}}"
      ],
      "metadata": {
        "id": "XIS1FWq47b7b"
      },
      "execution_count": null,
      "outputs": []
    },
    {
      "cell_type": "markdown",
      "source": [
        "Para acceder a la información del empleado con ID \"002\":\n",
        "\n"
      ],
      "metadata": {
        "id": "rZB6vxYQ7hdq"
      }
    },
    {
      "cell_type": "code",
      "source": [
        "empleado_002 = empleados[\"002\"]\n",
        "empleado_002"
      ],
      "metadata": {
        "colab": {
          "base_uri": "https://localhost:8080/"
        },
        "id": "1lQAOUCv7nne",
        "outputId": "f5b38104-bb58-4218-fcca-c5f36ec7deb9"
      },
      "execution_count": null,
      "outputs": [
        {
          "output_type": "execute_result",
          "data": {
            "text/plain": [
              "{'nombre': 'Luis', 'edad': 45, 'puesto': 'Gerente'}"
            ]
          },
          "metadata": {},
          "execution_count": 167
        }
      ]
    },
    {
      "cell_type": "markdown",
      "source": [
        "### **<font color=\"DarkBlue\">Modificando valores</font>**\n"
      ],
      "metadata": {
        "id": "2irMzH768PL6"
      }
    },
    {
      "cell_type": "markdown",
      "source": [
        "Si Luis obtiene un ascenso..."
      ],
      "metadata": {
        "id": "CzyQBQSD8Zge"
      }
    },
    {
      "cell_type": "code",
      "source": [
        "empleados[\"002\"][\"puesto\"]"
      ],
      "metadata": {
        "colab": {
          "base_uri": "https://localhost:8080/",
          "height": 36
        },
        "id": "lPggvggYv-_x",
        "outputId": "bd75ccda-63ea-4b8a-81ae-e588c5bc3cec"
      },
      "execution_count": null,
      "outputs": [
        {
          "output_type": "execute_result",
          "data": {
            "text/plain": [
              "'Gerente'"
            ],
            "application/vnd.google.colaboratory.intrinsic+json": {
              "type": "string"
            }
          },
          "metadata": {},
          "execution_count": 170
        }
      ]
    },
    {
      "cell_type": "code",
      "source": [
        "empleados[\"002\"][\"puesto\"] = \"Director\"\n",
        "empleados[\"002\"]"
      ],
      "metadata": {
        "colab": {
          "base_uri": "https://localhost:8080/"
        },
        "id": "NRRvHm3H8cRE",
        "outputId": "2114bf62-41d2-4d8f-8202-4f209dbecc5f"
      },
      "execution_count": null,
      "outputs": [
        {
          "output_type": "execute_result",
          "data": {
            "text/plain": [
              "{'nombre': 'Luis', 'edad': 45, 'puesto': 'Director'}"
            ]
          },
          "metadata": {},
          "execution_count": 171
        }
      ]
    },
    {
      "cell_type": "code",
      "source": [
        "empleados[\"002\"][\"puesto\"]"
      ],
      "metadata": {
        "colab": {
          "base_uri": "https://localhost:8080/",
          "height": 36
        },
        "id": "AN7NQVa3wVYI",
        "outputId": "2ca92621-8786-4dc9-f9c0-60a836de390d"
      },
      "execution_count": null,
      "outputs": [
        {
          "output_type": "execute_result",
          "data": {
            "text/plain": [
              "'Director'"
            ],
            "application/vnd.google.colaboratory.intrinsic+json": {
              "type": "string"
            }
          },
          "metadata": {},
          "execution_count": 172
        }
      ]
    },
    {
      "cell_type": "code",
      "source": [
        "empleados"
      ],
      "metadata": {
        "colab": {
          "base_uri": "https://localhost:8080/"
        },
        "id": "PkvjWJhfwgNg",
        "outputId": "ddb59df0-0fdd-4a4d-e49b-33b40bcb324a"
      },
      "execution_count": null,
      "outputs": [
        {
          "output_type": "execute_result",
          "data": {
            "text/plain": [
              "{'001': {'nombre': 'Ana', 'edad': 30, 'puesto': 'Analista'},\n",
              " '002': {'nombre': 'Luis', 'edad': 45, 'puesto': 'Director'},\n",
              " '003': {'nombre': 'Marta', 'edad': 25, 'puesto': 'Desarrollador'}}"
            ]
          },
          "metadata": {},
          "execution_count": 173
        }
      ]
    },
    {
      "cell_type": "markdown",
      "source": [
        "### **<font color=\"DarkBlue\">Agregando valores</font>**\n"
      ],
      "metadata": {
        "id": "ZDhD8gHs8pCe"
      }
    },
    {
      "cell_type": "markdown",
      "source": [
        "Tenemos un empleado nuevo..."
      ],
      "metadata": {
        "id": "YQR6ckC28siR"
      }
    },
    {
      "cell_type": "code",
      "source": [
        "empleados[\"004\"] = {\"nombre\": \"Carlos\", \"edad\": 28, \"puesto\": \"Soporte\"}\n",
        "empleados"
      ],
      "metadata": {
        "colab": {
          "base_uri": "https://localhost:8080/"
        },
        "id": "iTas3slV8vKc",
        "outputId": "6075c3a2-ebc3-41ec-de12-65e0c9a042ee"
      },
      "execution_count": null,
      "outputs": [
        {
          "output_type": "execute_result",
          "data": {
            "text/plain": [
              "{'001': {'nombre': 'Ana', 'edad': 30, 'puesto': 'Analista'},\n",
              " '002': {'nombre': 'Luis', 'edad': 45, 'puesto': 'Director'},\n",
              " '003': {'nombre': 'Marta', 'edad': 25, 'puesto': 'Desarrollador'},\n",
              " '004': {'nombre': 'Carlos', 'edad': 28, 'puesto': 'Soporte'}}"
            ]
          },
          "metadata": {},
          "execution_count": 175
        }
      ]
    },
    {
      "cell_type": "markdown",
      "source": [
        "### **<font color=\"DarkBlue\">Eliminando valores</font>**\n"
      ],
      "metadata": {
        "id": "iUietUW29AS7"
      }
    },
    {
      "cell_type": "markdown",
      "source": [
        "Se nos va el empleado 003..."
      ],
      "metadata": {
        "id": "Sx_z-CF69F9V"
      }
    },
    {
      "cell_type": "code",
      "source": [
        "del empleados[\"003\"]\n",
        "empleados"
      ],
      "metadata": {
        "colab": {
          "base_uri": "https://localhost:8080/"
        },
        "id": "S2uGSKbG9IZA",
        "outputId": "2ff3ca55-c8be-4312-bd44-af2767381d82"
      },
      "execution_count": null,
      "outputs": [
        {
          "output_type": "execute_result",
          "data": {
            "text/plain": [
              "{'001': {'nombre': 'Ana', 'edad': 30, 'puesto': 'Analista'},\n",
              " '002': {'nombre': 'Luis', 'edad': 45, 'puesto': 'Director'},\n",
              " '004': {'nombre': 'Carlos', 'edad': 28, 'puesto': 'Soporte'}}"
            ]
          },
          "metadata": {},
          "execution_count": 176
        }
      ]
    },
    {
      "cell_type": "markdown",
      "source": [
        "## **<font color=\"DarkBlue\">Conjuntos</font>**"
      ],
      "metadata": {
        "id": "8l-NtpmsCv8n"
      }
    },
    {
      "cell_type": "markdown",
      "source": [
        "<p align=\"justify\">\n",
        "Los conjuntos (sets) son colecciones desordenadas de elementos únicos, es decir, no permiten duplicados. Los conjuntos son útiles para realizar operaciones matemáticas como:\n",
        "\n",
        "- uniones,\n",
        "- intersecciones y\n",
        "- diferencias,\n",
        "- así como para eliminar elementos duplicados.\n",
        "\n",
        "<br>\n",
        "<p align=\"justify\">\n",
        "Por tal motivo un conjunto es una colección desordenada de elementos únicos. Un conjunto se puede crear de dos maneras:\n",
        "<br>\n",
        "\n",
        "- a través de la función <code> set()</code> o\n",
        "- a través de un conjunto literal con llaves.\n",
        "<br><br>\n",
        "\n",
        "Por ejemplo:\n"
      ],
      "metadata": {
        "id": "iJbsG_c8hFLj"
      }
    },
    {
      "cell_type": "code",
      "source": [
        "set([2, 2, 2, 1, 3, 3])"
      ],
      "metadata": {
        "colab": {
          "base_uri": "https://localhost:8080/"
        },
        "id": "RQQ_XeC5hzZ1",
        "outputId": "3f8c3ca6-f05a-462f-dd71-d2c7f1fe6a40"
      },
      "execution_count": null,
      "outputs": [
        {
          "output_type": "execute_result",
          "data": {
            "text/plain": [
              "{1, 2, 3}"
            ]
          },
          "metadata": {},
          "execution_count": 177
        }
      ]
    },
    {
      "cell_type": "code",
      "source": [
        "{2, 2, 2, 1, 3, 3}"
      ],
      "metadata": {
        "colab": {
          "base_uri": "https://localhost:8080/"
        },
        "id": "6D-CAm8eiC0c",
        "outputId": "7b900a9e-6513-4308-b1f9-a1df03eed2d0"
      },
      "execution_count": null,
      "outputs": [
        {
          "output_type": "execute_result",
          "data": {
            "text/plain": [
              "{1, 2, 3}"
            ]
          },
          "metadata": {},
          "execution_count": 178
        }
      ]
    },
    {
      "cell_type": "code",
      "source": [
        "conjunto = set([2, 2, 2, 1, 3, 3])\n",
        "conjunto"
      ],
      "metadata": {
        "colab": {
          "base_uri": "https://localhost:8080/"
        },
        "id": "w8tNVLgciFFe",
        "outputId": "e8e3a883-d1a9-408b-8ffa-0ae41b210742"
      },
      "execution_count": null,
      "outputs": [
        {
          "output_type": "execute_result",
          "data": {
            "text/plain": [
              "{1, 2, 3}"
            ]
          },
          "metadata": {},
          "execution_count": 179
        }
      ]
    },
    {
      "cell_type": "code",
      "source": [
        "type(conjunto)"
      ],
      "metadata": {
        "colab": {
          "base_uri": "https://localhost:8080/"
        },
        "id": "EYKAbtHfxsiI",
        "outputId": "27bd6433-1730-4378-f208-5eae964a10f7"
      },
      "execution_count": null,
      "outputs": [
        {
          "output_type": "execute_result",
          "data": {
            "text/plain": [
              "set"
            ]
          },
          "metadata": {},
          "execution_count": 180
        }
      ]
    },
    {
      "cell_type": "markdown",
      "source": [
        "<p align=\"justify\">👀 Los conjuntos admiten las operaciones matemáticas como:\n",
        "\n",
        "- la unión,\n",
        "- la intersección,\n",
        "- la diferencia y\n",
        "- la diferencia simétrica.\n",
        "\n",
        "</p>"
      ],
      "metadata": {
        "id": "q6iQiNIXie-1"
      }
    },
    {
      "cell_type": "code",
      "source": [
        "a = {0, 1, 2, 3, 4, 5}\n",
        "b = {3, 4, 5, 6, 7, 8, 9, 10}"
      ],
      "metadata": {
        "id": "KM3hPSVki99c"
      },
      "execution_count": null,
      "outputs": []
    },
    {
      "cell_type": "markdown",
      "source": [
        "<p align=\"center\">\n",
        "<img src=\"https://github.com/cristiandarioortegayubro/BDS/blob/main/images/Image_0003.jpg?raw=true\" width=\"600\" height=\"\">\n",
        "</p>\n"
      ],
      "metadata": {
        "id": "_1JKAsY0RZUb"
      }
    },
    {
      "cell_type": "markdown",
      "source": [
        "### **<font color=\"DarkBlue\">Union</font>**\n"
      ],
      "metadata": {
        "id": "rbRWiECUjEgr"
      }
    },
    {
      "cell_type": "markdown",
      "source": [
        "<p align=\"justify\">La unión de dos conjuntos es el conjunto de elementos distintos que ocurren en cualquiera de los conjuntos. Esto se puede calcular con el método <code>union()</code> o el operador binario | <br><br>Por ejemplo:\n",
        "</p>"
      ],
      "metadata": {
        "id": "n9gduXGgjLxN"
      }
    },
    {
      "cell_type": "code",
      "source": [
        "a"
      ],
      "metadata": {
        "colab": {
          "base_uri": "https://localhost:8080/"
        },
        "id": "hyQYQY62DVk3",
        "outputId": "d44916d5-00be-4fbb-fc77-ab79f0254a7c"
      },
      "execution_count": null,
      "outputs": [
        {
          "output_type": "execute_result",
          "data": {
            "text/plain": [
              "{0, 1, 2, 3, 4, 5}"
            ]
          },
          "metadata": {},
          "execution_count": 182
        }
      ]
    },
    {
      "cell_type": "code",
      "source": [
        "b"
      ],
      "metadata": {
        "colab": {
          "base_uri": "https://localhost:8080/"
        },
        "id": "MYNHIzZmDXO3",
        "outputId": "164cc885-ab8f-49a2-8b40-fcc871a6f586"
      },
      "execution_count": null,
      "outputs": [
        {
          "output_type": "execute_result",
          "data": {
            "text/plain": [
              "{3, 4, 5, 6, 7, 8, 9, 10}"
            ]
          },
          "metadata": {},
          "execution_count": 183
        }
      ]
    },
    {
      "cell_type": "code",
      "source": [
        "a.union(b)"
      ],
      "metadata": {
        "colab": {
          "base_uri": "https://localhost:8080/"
        },
        "id": "fCOSt0twjLL-",
        "outputId": "2748ac35-afd1-40be-e348-bcb439be0fc4"
      },
      "execution_count": null,
      "outputs": [
        {
          "output_type": "execute_result",
          "data": {
            "text/plain": [
              "{0, 1, 2, 3, 4, 5, 6, 7, 8, 9, 10}"
            ]
          },
          "metadata": {},
          "execution_count": 184
        }
      ]
    },
    {
      "cell_type": "code",
      "source": [
        "a | b"
      ],
      "metadata": {
        "colab": {
          "base_uri": "https://localhost:8080/"
        },
        "id": "TBDIs6UjjyaS",
        "outputId": "f4c9eade-9650-4eed-8cfa-79791e72c299"
      },
      "execution_count": null,
      "outputs": [
        {
          "output_type": "execute_result",
          "data": {
            "text/plain": [
              "{0, 1, 2, 3, 4, 5, 6, 7, 8, 9, 10}"
            ]
          },
          "metadata": {},
          "execution_count": 185
        }
      ]
    },
    {
      "cell_type": "markdown",
      "source": [
        "### **<font color=\"DarkBlue\">Interseccion</font>**\n"
      ],
      "metadata": {
        "id": "xP_9Tgv9ktnL"
      }
    },
    {
      "cell_type": "markdown",
      "source": [
        "<p align=\"justify\">La intersección contiene los elementos que ocurren en ambos conjuntos. Esto se puede calcular con el método <code>intersection()</code> o el operador binario & <br><br>Por ejemplo:\n",
        "</p>"
      ],
      "metadata": {
        "id": "IU86Nz0Sk5AV"
      }
    },
    {
      "cell_type": "code",
      "source": [
        "a"
      ],
      "metadata": {
        "colab": {
          "base_uri": "https://localhost:8080/"
        },
        "id": "u7MDuFJ_DZeG",
        "outputId": "e7bd02c7-2249-4c3c-bc2a-efec602f1df7"
      },
      "execution_count": null,
      "outputs": [
        {
          "output_type": "execute_result",
          "data": {
            "text/plain": [
              "{0, 1, 2, 3, 4, 5}"
            ]
          },
          "metadata": {},
          "execution_count": 186
        }
      ]
    },
    {
      "cell_type": "code",
      "source": [
        "b"
      ],
      "metadata": {
        "colab": {
          "base_uri": "https://localhost:8080/"
        },
        "id": "sPiWxTx5DbOD",
        "outputId": "6df03dbc-0339-4357-cc49-1e9e757c389c"
      },
      "execution_count": null,
      "outputs": [
        {
          "output_type": "execute_result",
          "data": {
            "text/plain": [
              "{3, 4, 5, 6, 7, 8, 9, 10}"
            ]
          },
          "metadata": {},
          "execution_count": 187
        }
      ]
    },
    {
      "cell_type": "code",
      "source": [
        "a.intersection(b)"
      ],
      "metadata": {
        "colab": {
          "base_uri": "https://localhost:8080/"
        },
        "id": "gSzQm9YHnjQk",
        "outputId": "c0b70271-6da3-4c69-eec5-8aa458c38f04"
      },
      "execution_count": null,
      "outputs": [
        {
          "output_type": "execute_result",
          "data": {
            "text/plain": [
              "{3, 4, 5}"
            ]
          },
          "metadata": {},
          "execution_count": 188
        }
      ]
    },
    {
      "cell_type": "code",
      "source": [
        "a & b"
      ],
      "metadata": {
        "colab": {
          "base_uri": "https://localhost:8080/"
        },
        "id": "HZXoWfuVnxNH",
        "outputId": "fe83facf-6ce3-492b-e0fe-bb49d19e2072"
      },
      "execution_count": null,
      "outputs": [
        {
          "output_type": "execute_result",
          "data": {
            "text/plain": [
              "{3, 4, 5}"
            ]
          },
          "metadata": {},
          "execution_count": 189
        }
      ]
    },
    {
      "cell_type": "markdown",
      "source": [
        "### **<font color=\"DarkBlue\">Diferencia</font>**\n"
      ],
      "metadata": {
        "id": "Z1UjUuI0G3U7"
      }
    },
    {
      "cell_type": "markdown",
      "source": [
        "<p align=\"justify\">\n",
        "La diferencia de los conjuntos a y b contiene los elementos que están en a pero no en b.\n",
        "\n"
      ],
      "metadata": {
        "id": "bntt6ckGHQyH"
      }
    },
    {
      "cell_type": "code",
      "source": [
        "a"
      ],
      "metadata": {
        "colab": {
          "base_uri": "https://localhost:8080/"
        },
        "id": "Wztx7Xl0HVPS",
        "outputId": "df96d08b-3991-4a4d-d83c-11f87dd5f91b"
      },
      "execution_count": null,
      "outputs": [
        {
          "output_type": "execute_result",
          "data": {
            "text/plain": [
              "{0, 1, 2, 3, 4, 5}"
            ]
          },
          "metadata": {},
          "execution_count": 190
        }
      ]
    },
    {
      "cell_type": "code",
      "source": [
        "b"
      ],
      "metadata": {
        "colab": {
          "base_uri": "https://localhost:8080/"
        },
        "id": "n1W2VnMrHYZs",
        "outputId": "31860a0e-c855-4683-ec2b-7778e59b7895"
      },
      "execution_count": null,
      "outputs": [
        {
          "output_type": "execute_result",
          "data": {
            "text/plain": [
              "{3, 4, 5, 6, 7, 8, 9, 10}"
            ]
          },
          "metadata": {},
          "execution_count": 191
        }
      ]
    },
    {
      "cell_type": "code",
      "source": [
        "diferencia = a - b"
      ],
      "metadata": {
        "id": "1lvnIzC5HaBc"
      },
      "execution_count": null,
      "outputs": []
    },
    {
      "cell_type": "code",
      "source": [
        "diferencia"
      ],
      "metadata": {
        "colab": {
          "base_uri": "https://localhost:8080/"
        },
        "id": "dG9gp-3VHiDi",
        "outputId": "0f87425c-4ed0-462d-dd29-c60a4eec93cd"
      },
      "execution_count": null,
      "outputs": [
        {
          "output_type": "execute_result",
          "data": {
            "text/plain": [
              "{0, 1, 2}"
            ]
          },
          "metadata": {},
          "execution_count": 193
        }
      ]
    },
    {
      "cell_type": "code",
      "source": [
        "diferencia = b - a"
      ],
      "metadata": {
        "id": "9GviEz97H1oy"
      },
      "execution_count": null,
      "outputs": []
    },
    {
      "cell_type": "code",
      "source": [
        "diferencia"
      ],
      "metadata": {
        "colab": {
          "base_uri": "https://localhost:8080/"
        },
        "id": "peyGp4jLH4VY",
        "outputId": "4309d461-1dc0-4d5d-9d08-3ee29e29c1e0"
      },
      "execution_count": null,
      "outputs": [
        {
          "output_type": "execute_result",
          "data": {
            "text/plain": [
              "{6, 7, 8, 9, 10}"
            ]
          },
          "metadata": {},
          "execution_count": 195
        }
      ]
    },
    {
      "cell_type": "markdown",
      "source": [
        "### **<font color=\"DarkBlue\">Diferencia simétrica</font>**\n"
      ],
      "metadata": {
        "id": "9-B8WOzwG5u7"
      }
    },
    {
      "cell_type": "markdown",
      "source": [
        "<p align=\"justify\">\n",
        "La diferencia simétrica de los conjuntos a y b contiene los elementos que están en uno u otro conjunto, pero no en ambos.\n",
        "\n"
      ],
      "metadata": {
        "id": "GIwwkQ4rHvfc"
      }
    },
    {
      "cell_type": "code",
      "source": [
        "a"
      ],
      "metadata": {
        "colab": {
          "base_uri": "https://localhost:8080/"
        },
        "id": "7jEw6UAUI-GY",
        "outputId": "e04ddbd4-2923-4608-abd3-9a7957851f6a"
      },
      "execution_count": null,
      "outputs": [
        {
          "output_type": "execute_result",
          "data": {
            "text/plain": [
              "{0, 1, 2, 3, 4, 5}"
            ]
          },
          "metadata": {},
          "execution_count": 196
        }
      ]
    },
    {
      "cell_type": "code",
      "source": [
        "b"
      ],
      "metadata": {
        "colab": {
          "base_uri": "https://localhost:8080/"
        },
        "id": "pkdpUEabJAly",
        "outputId": "2200c701-8984-4aec-cf1e-8e5cf8620760"
      },
      "execution_count": null,
      "outputs": [
        {
          "output_type": "execute_result",
          "data": {
            "text/plain": [
              "{3, 4, 5, 6, 7, 8, 9, 10}"
            ]
          },
          "metadata": {},
          "execution_count": 197
        }
      ]
    },
    {
      "cell_type": "code",
      "source": [
        "diferencia_simetrica = a ^ b"
      ],
      "metadata": {
        "id": "2F8qNUuYJCMl"
      },
      "execution_count": null,
      "outputs": []
    },
    {
      "cell_type": "code",
      "source": [
        "diferencia_simetrica"
      ],
      "metadata": {
        "colab": {
          "base_uri": "https://localhost:8080/"
        },
        "id": "pdI1BL6RJIh6",
        "outputId": "c6f22836-2540-4d55-e19b-664507808830"
      },
      "execution_count": null,
      "outputs": [
        {
          "output_type": "execute_result",
          "data": {
            "text/plain": [
              "{0, 1, 2, 6, 7, 8, 9, 10}"
            ]
          },
          "metadata": {},
          "execution_count": 199
        }
      ]
    },
    {
      "cell_type": "markdown",
      "source": [
        "# **<font color=\"DarkBlue\">Secuencias de datos</font>**"
      ],
      "metadata": {
        "id": "luRk76aw9tkU"
      }
    },
    {
      "cell_type": "markdown",
      "source": [
        "## **<font color=\"DarkBlue\">Funciones de secuencias</font>**"
      ],
      "metadata": {
        "id": "ZRym3zjKtZ3Y"
      }
    },
    {
      "cell_type": "markdown",
      "source": [
        "<p align=\"justify\">👀 Ahora vemos algunas funciones de secuencias muy útiles de Python.\n",
        "\n",
        "</p>"
      ],
      "metadata": {
        "id": "nyX0SZQitgww"
      }
    },
    {
      "cell_type": "markdown",
      "source": [
        "### **<font color=\"DarkBlue\">Enumerar</font>**\n"
      ],
      "metadata": {
        "id": "S0X8ABdttwK5"
      }
    },
    {
      "cell_type": "markdown",
      "source": [
        "<p align=\"justify\">Es común cuando se itera sobre un objeto iteralble, querer realizar un seguimiento del índice los elementos del objeto. <br><br>Por ejemplo:\n",
        "</p>"
      ],
      "metadata": {
        "id": "oPcnB6RIt1Zy"
      }
    },
    {
      "cell_type": "code",
      "source": [
        "elementos"
      ],
      "metadata": {
        "colab": {
          "base_uri": "https://localhost:8080/"
        },
        "id": "fd_9GT1Et030",
        "outputId": "bd2b6f96-07ae-4b97-93f2-f5fbcb5b127f"
      },
      "execution_count": null,
      "outputs": [
        {
          "output_type": "execute_result",
          "data": {
            "text/plain": [
              "['activo',\n",
              " 'activo corriente',\n",
              " 'activo no corriente',\n",
              " 'pasivo',\n",
              " 'pasivo corriente',\n",
              " 'pasivo no corriente',\n",
              " 'patrimonio neto']"
            ]
          },
          "metadata": {},
          "execution_count": 200
        }
      ]
    },
    {
      "cell_type": "code",
      "source": [
        "index = 0"
      ],
      "metadata": {
        "id": "BD6Pplhc1zrE"
      },
      "execution_count": null,
      "outputs": []
    },
    {
      "cell_type": "code",
      "source": [
        "for i in elementos:\n",
        "   print(f\"{index} {i}\")\n",
        "   index += 1"
      ],
      "metadata": {
        "colab": {
          "base_uri": "https://localhost:8080/"
        },
        "id": "4w9XW7D4uUcK",
        "outputId": "47230de9-1c78-4a8e-ddb6-74e9356ebf40"
      },
      "execution_count": null,
      "outputs": [
        {
          "output_type": "stream",
          "name": "stdout",
          "text": [
            "0 activo\n",
            "1 activo corriente\n",
            "2 activo no corriente\n",
            "3 pasivo\n",
            "4 pasivo corriente\n",
            "5 pasivo no corriente\n",
            "6 patrimonio neto\n"
          ]
        }
      ]
    },
    {
      "cell_type": "code",
      "source": [
        "elementos[4]"
      ],
      "metadata": {
        "colab": {
          "base_uri": "https://localhost:8080/",
          "height": 36
        },
        "id": "-K6sFhbV2SO5",
        "outputId": "437fa5d4-aa65-4618-dd14-dd9c31e7f36d"
      },
      "execution_count": null,
      "outputs": [
        {
          "output_type": "execute_result",
          "data": {
            "text/plain": [
              "'pasivo corriente'"
            ],
            "application/vnd.google.colaboratory.intrinsic+json": {
              "type": "string"
            }
          },
          "metadata": {},
          "execution_count": 203
        }
      ]
    },
    {
      "cell_type": "markdown",
      "source": [
        "<p align=\"justify\">Lo mismo, pero utilizando la función <code>enumerate(i, value)</code> y el resultado será una secuencia de tuplas. <br><br>Por ejemplo:\n",
        "</p>"
      ],
      "metadata": {
        "id": "97FgTBmUvsDQ"
      }
    },
    {
      "cell_type": "code",
      "source": [
        "elementos"
      ],
      "metadata": {
        "colab": {
          "base_uri": "https://localhost:8080/"
        },
        "id": "Zhp09CuHwB9p",
        "outputId": "ba8ad628-2a86-4a15-d47a-589fdf655c2a"
      },
      "execution_count": null,
      "outputs": [
        {
          "output_type": "execute_result",
          "data": {
            "text/plain": [
              "['activo',\n",
              " 'activo corriente',\n",
              " 'activo no corriente',\n",
              " 'pasivo',\n",
              " 'pasivo corriente',\n",
              " 'pasivo no corriente',\n",
              " 'patrimonio neto']"
            ]
          },
          "metadata": {},
          "execution_count": 204
        }
      ]
    },
    {
      "cell_type": "code",
      "source": [
        "indice = tuple(enumerate(elementos))"
      ],
      "metadata": {
        "id": "jgkca-On2zU0"
      },
      "execution_count": null,
      "outputs": []
    },
    {
      "cell_type": "code",
      "source": [
        "len(indice)"
      ],
      "metadata": {
        "colab": {
          "base_uri": "https://localhost:8080/"
        },
        "id": "HJpEcgFq3egE",
        "outputId": "2763bb6c-88d7-4db0-cf21-20acb555bda0"
      },
      "execution_count": null,
      "outputs": [
        {
          "output_type": "execute_result",
          "data": {
            "text/plain": [
              "7"
            ]
          },
          "metadata": {},
          "execution_count": 210
        }
      ]
    },
    {
      "cell_type": "code",
      "source": [
        "indice"
      ],
      "metadata": {
        "colab": {
          "base_uri": "https://localhost:8080/"
        },
        "id": "_aSKOJCD3ipR",
        "outputId": "8eabe00c-1566-4888-9fa9-86db3a207dc9"
      },
      "execution_count": null,
      "outputs": [
        {
          "output_type": "execute_result",
          "data": {
            "text/plain": [
              "((0, 'activo'),\n",
              " (1, 'activo corriente'),\n",
              " (2, 'activo no corriente'),\n",
              " (3, 'pasivo'),\n",
              " (4, 'pasivo corriente'),\n",
              " (5, 'pasivo no corriente'),\n",
              " (6, 'patrimonio neto'))"
            ]
          },
          "metadata": {},
          "execution_count": 211
        }
      ]
    },
    {
      "cell_type": "code",
      "source": [
        "for i, j in enumerate(elementos):\n",
        "  print(f\"{i} {j}\")"
      ],
      "metadata": {
        "colab": {
          "base_uri": "https://localhost:8080/"
        },
        "id": "QcM2wbndwEQp",
        "outputId": "222f9dc4-32ff-49a3-eee1-dc98eb66557d"
      },
      "execution_count": null,
      "outputs": [
        {
          "output_type": "stream",
          "name": "stdout",
          "text": [
            "0 activo\n",
            "1 activo corriente\n",
            "2 activo no corriente\n",
            "3 pasivo\n",
            "4 pasivo corriente\n",
            "5 pasivo no corriente\n",
            "6 patrimonio neto\n"
          ]
        }
      ]
    },
    {
      "cell_type": "markdown",
      "source": [
        "### **<font color=\"DarkBlue\">Ordenar</font>**\n"
      ],
      "metadata": {
        "id": "fEmcqsWFwlBE"
      }
    },
    {
      "cell_type": "markdown",
      "source": [
        "<p align=\"justify\">La función <code>sorted()</code> devuelve una nueva lista ordenada de los elementos de cualquier secuencia. <br><br>Por ejemplo:\n",
        "</p>"
      ],
      "metadata": {
        "id": "II0fxBYkw5nz"
      }
    },
    {
      "cell_type": "code",
      "source": [
        "sorted([7, 1, 2, 6, 0, 3, 2])"
      ],
      "metadata": {
        "colab": {
          "base_uri": "https://localhost:8080/"
        },
        "id": "pGvRtIGIxIgD",
        "outputId": "f7683e76-5603-457b-c393-478eba9f9695"
      },
      "execution_count": null,
      "outputs": [
        {
          "output_type": "execute_result",
          "data": {
            "text/plain": [
              "[0, 1, 2, 2, 3, 6, 7]"
            ]
          },
          "metadata": {},
          "execution_count": 111
        }
      ]
    },
    {
      "cell_type": "code",
      "source": [
        "sorted(elementos)"
      ],
      "metadata": {
        "colab": {
          "base_uri": "https://localhost:8080/"
        },
        "id": "UvujFjb4xNKc",
        "outputId": "0264351e-4e5d-405f-acd4-46bf2ad05ebe"
      },
      "execution_count": null,
      "outputs": [
        {
          "output_type": "execute_result",
          "data": {
            "text/plain": [
              "['activo',\n",
              " 'activo corriente',\n",
              " 'activo no corriente',\n",
              " 'pasivo',\n",
              " 'pasivo corriente',\n",
              " 'pasivo no corriente',\n",
              " 'patrimonio neto']"
            ]
          },
          "metadata": {},
          "execution_count": 112
        }
      ]
    },
    {
      "cell_type": "markdown",
      "source": [
        "<p align=\"justify\"> 👀 La función <code>sorted()</code> acepta los mismos argumentos que el método <code>sort()</code> de las listas.\n",
        "\n",
        "</p>"
      ],
      "metadata": {
        "id": "29oPfGznxhd-"
      }
    },
    {
      "cell_type": "markdown",
      "source": [
        "### **<font color=\"DarkBlue\">Zip</font>**\n"
      ],
      "metadata": {
        "id": "vkmuCjCe0kS7"
      }
    },
    {
      "cell_type": "markdown",
      "source": [
        "<p align=\"justify\">La función <code>zip()</code> \"empareja\" los elementos de una serie de listas, tuplas u otras secuencias para crear una lista de tuplas. <br><br>Por ejemplo:\n",
        "</p>"
      ],
      "metadata": {
        "id": "oZ2lZlMV0j0V"
      }
    },
    {
      "cell_type": "code",
      "source": [
        "elementos"
      ],
      "metadata": {
        "colab": {
          "base_uri": "https://localhost:8080/"
        },
        "id": "_4PvIkEK2KxX",
        "outputId": "cad754d0-c871-4c4a-be26-512a3bade4db"
      },
      "execution_count": null,
      "outputs": [
        {
          "output_type": "execute_result",
          "data": {
            "text/plain": [
              "['activo',\n",
              " 'activo corriente',\n",
              " 'activo no corriente',\n",
              " 'pasivo',\n",
              " 'pasivo corriente',\n",
              " 'pasivo no corriente',\n",
              " 'patrimonio neto']"
            ]
          },
          "metadata": {},
          "execution_count": 212
        }
      ]
    },
    {
      "cell_type": "code",
      "source": [
        "valores"
      ],
      "metadata": {
        "colab": {
          "base_uri": "https://localhost:8080/"
        },
        "id": "YvUcbtbY2NMF",
        "outputId": "709b0b1f-79d6-4767-ffff-d43168abff92"
      },
      "execution_count": null,
      "outputs": [
        {
          "output_type": "execute_result",
          "data": {
            "text/plain": [
              "[1000, 400, 600, 600, 400, 200, 400]"
            ]
          },
          "metadata": {},
          "execution_count": 213
        }
      ]
    },
    {
      "cell_type": "code",
      "source": [
        "estado = zip(elementos, valores)\n",
        "tuple(estado)"
      ],
      "metadata": {
        "colab": {
          "base_uri": "https://localhost:8080/"
        },
        "id": "oKUAnNcD2xul",
        "outputId": "99e7794c-1b83-482a-a749-e0e2f15da3c1"
      },
      "execution_count": null,
      "outputs": [
        {
          "output_type": "execute_result",
          "data": {
            "text/plain": [
              "(('activo', 1000),\n",
              " ('activo corriente', 400),\n",
              " ('activo no corriente', 600),\n",
              " ('pasivo', 600),\n",
              " ('pasivo corriente', 400),\n",
              " ('pasivo no corriente', 200),\n",
              " ('patrimonio neto', 400))"
            ]
          },
          "metadata": {},
          "execution_count": 214
        }
      ]
    },
    {
      "cell_type": "code",
      "source": [
        "estado = zip(elementos, valores)\n",
        "list(estado)"
      ],
      "metadata": {
        "colab": {
          "base_uri": "https://localhost:8080/"
        },
        "id": "zwJHOb2G2PWF",
        "outputId": "a7d1440f-9817-4fce-86c6-df66a36ad4ef"
      },
      "execution_count": null,
      "outputs": [
        {
          "output_type": "execute_result",
          "data": {
            "text/plain": [
              "[('activo', 1000),\n",
              " ('activo corriente', 400),\n",
              " ('activo no corriente', 600),\n",
              " ('pasivo', 600),\n",
              " ('pasivo corriente', 400),\n",
              " ('pasivo no corriente', 200),\n",
              " ('patrimonio neto', 400)]"
            ]
          },
          "metadata": {},
          "execution_count": 215
        }
      ]
    },
    {
      "cell_type": "code",
      "source": [
        "estado = zip(elementos, valores)\n",
        "dict(estado)"
      ],
      "metadata": {
        "colab": {
          "base_uri": "https://localhost:8080/"
        },
        "id": "en1PNRSC3Bha",
        "outputId": "51ccbb83-ec37-41c1-cb38-debaaff25ace"
      },
      "execution_count": null,
      "outputs": [
        {
          "output_type": "execute_result",
          "data": {
            "text/plain": [
              "{'activo': 1000,\n",
              " 'activo corriente': 400,\n",
              " 'activo no corriente': 600,\n",
              " 'pasivo': 600,\n",
              " 'pasivo corriente': 400,\n",
              " 'pasivo no corriente': 200,\n",
              " 'patrimonio neto': 400}"
            ]
          },
          "metadata": {},
          "execution_count": 244
        }
      ]
    },
    {
      "cell_type": "code",
      "source": [
        "estado = dict(zip(elementos, valores))\n",
        "estado"
      ],
      "metadata": {
        "id": "U8PhGj4s9R_-",
        "outputId": "ad7cce5b-e86e-4a33-9c54-3f43a578e356",
        "colab": {
          "base_uri": "https://localhost:8080/"
        }
      },
      "execution_count": null,
      "outputs": [
        {
          "output_type": "execute_result",
          "data": {
            "text/plain": [
              "{'activo': 1000,\n",
              " 'activo corriente': 400,\n",
              " 'activo no corriente': 600,\n",
              " 'pasivo': 600,\n",
              " 'pasivo corriente': 400,\n",
              " 'pasivo no corriente': 200,\n",
              " 'patrimonio neto': 400}"
            ]
          },
          "metadata": {},
          "execution_count": 245
        }
      ]
    },
    {
      "cell_type": "code",
      "source": [
        "estado[\"pasivo\"]"
      ],
      "metadata": {
        "id": "ydmhYqIi9hbT",
        "outputId": "b72d44a8-d574-4dc8-da18-46b222f90025",
        "colab": {
          "base_uri": "https://localhost:8080/"
        }
      },
      "execution_count": null,
      "outputs": [
        {
          "output_type": "execute_result",
          "data": {
            "text/plain": [
              "600"
            ]
          },
          "metadata": {},
          "execution_count": 246
        }
      ]
    },
    {
      "cell_type": "markdown",
      "source": [
        "<p align=\"justify\"> 👀 Un uso común de es iterar simultáneamente sobre múltiples secuencias.<br><br> Por ejemplo:\n",
        "\n",
        "</p>"
      ],
      "metadata": {
        "id": "EUGa_a123dIS"
      }
    },
    {
      "cell_type": "code",
      "source": [
        "for i, (j, k) in enumerate(zip(elementos, valores)):\n",
        "  print(f\"{i}: {j}, {k}\")"
      ],
      "metadata": {
        "colab": {
          "base_uri": "https://localhost:8080/"
        },
        "id": "h2QZBeqz3mHB",
        "outputId": "bb3a1f6c-c8b9-49cb-d7a1-518a4ee17ce1"
      },
      "execution_count": null,
      "outputs": [
        {
          "output_type": "stream",
          "name": "stdout",
          "text": [
            "0: activo, 1000\n",
            "1: activo corriente, 400\n",
            "2: activo no corriente, 600\n",
            "3: pasivo, 600\n",
            "4: pasivo corriente, 400\n",
            "5: pasivo no corriente, 200\n",
            "6: patrimonio neto, 400\n"
          ]
        }
      ]
    },
    {
      "cell_type": "code",
      "source": [
        "for i, [j, k] in enumerate(zip(elementos, valores)):\n",
        "  print(f\"{i}: {j}, {k}\")"
      ],
      "metadata": {
        "colab": {
          "base_uri": "https://localhost:8080/"
        },
        "id": "cKrYkOB34M4V",
        "outputId": "389dfcb0-341a-4eeb-c6fc-ac42504cda08"
      },
      "execution_count": null,
      "outputs": [
        {
          "output_type": "stream",
          "name": "stdout",
          "text": [
            "0: activo, 1000\n",
            "1: activo corriente, 400\n",
            "2: activo no corriente, 600\n",
            "3: pasivo, 600\n",
            "4: pasivo corriente, 400\n",
            "5: pasivo no corriente, 200\n",
            "6: patrimonio neto, 400\n"
          ]
        }
      ]
    },
    {
      "cell_type": "markdown",
      "source": [
        "### **<font color=\"DarkBlue\">Invertir</font>**\n"
      ],
      "metadata": {
        "id": "46TQOnf-4hU-"
      }
    },
    {
      "cell_type": "markdown",
      "source": [
        "<p align=\"justify\">La función <code>reversed()</code>  itera sobre los elementos en orden inverso. <br><br>Por ejemplo:\n",
        "</p>"
      ],
      "metadata": {
        "id": "UsDLhu2f4sGR"
      }
    },
    {
      "cell_type": "code",
      "source": [
        "elementos"
      ],
      "metadata": {
        "colab": {
          "base_uri": "https://localhost:8080/"
        },
        "id": "v84ArVcY5Pqf",
        "outputId": "4cf22e0a-f3a6-41c0-da91-d783fb637f8e"
      },
      "execution_count": null,
      "outputs": [
        {
          "output_type": "execute_result",
          "data": {
            "text/plain": [
              "['activo',\n",
              " 'activo corriente',\n",
              " 'activo no corriente',\n",
              " 'pasivo',\n",
              " 'pasivo corriente',\n",
              " 'pasivo no corriente',\n",
              " 'patrimonio neto']"
            ]
          },
          "metadata": {},
          "execution_count": 232
        }
      ]
    },
    {
      "cell_type": "code",
      "source": [
        "list(reversed(elementos))"
      ],
      "metadata": {
        "colab": {
          "base_uri": "https://localhost:8080/"
        },
        "id": "lYJRcN6t5PX1",
        "outputId": "472670bd-e6bc-48ea-91a8-a110c07b2743"
      },
      "execution_count": null,
      "outputs": [
        {
          "output_type": "execute_result",
          "data": {
            "text/plain": [
              "['patrimonio neto',\n",
              " 'pasivo no corriente',\n",
              " 'pasivo corriente',\n",
              " 'pasivo',\n",
              " 'activo no corriente',\n",
              " 'activo corriente',\n",
              " 'activo']"
            ]
          },
          "metadata": {},
          "execution_count": 233
        }
      ]
    },
    {
      "cell_type": "markdown",
      "source": [
        "## **<font color=\"DarkBlue\">Comprensión de listas, conjuntos y diccionarios</font>**"
      ],
      "metadata": {
        "id": "sNakizE85prr"
      }
    },
    {
      "cell_type": "markdown",
      "source": [
        "<p align=\"justify\">La comprensión de listas es una característica conveniente y ampliamente utilizada en Python. Permite formar de manera concisa una nueva lista filtrando los elementos de un objeto, transformando los elementos que pasan el filtro en una expresión determinada.<br><br>La comprensión de listas es una característica tomada del lenguaje de programación funcional Haskell que está presente en Python desde la versión 2.0 y consiste en una construcción que permite crear listas a partir de otras listas. Cada una de estas construcciones consta de una expresión que determina cómo modificar el elemento de la lista original, seguida de una o varias clausulas <code>for</code> y opcionalmente una o varias clausulas <code>if</code>.  \n",
        "\n",
        "</p>"
      ],
      "metadata": {
        "id": "egYwW5yw5wOb"
      }
    },
    {
      "cell_type": "markdown",
      "source": [
        "```python\n",
        "[expresion for valor in objeto]\n",
        "\n",
        "[expresion for valor in objeto if condicion]\n",
        "```"
      ],
      "metadata": {
        "id": "J9wTz4CN8lU0"
      }
    },
    {
      "cell_type": "markdown",
      "source": [
        "Lo que seria igual a:"
      ],
      "metadata": {
        "id": "JI92UK-K689f"
      }
    },
    {
      "cell_type": "markdown",
      "source": [
        "```python\n",
        "resultado = []\n",
        "for valor in objeto:\n",
        "    if condicion:\n",
        "        resultado.append(expresion)\n",
        "```"
      ],
      "metadata": {
        "id": "wSM94i_C7AtS"
      }
    },
    {
      "cell_type": "markdown",
      "source": [
        "### **<font color=\"DarkBlue\">Listas</font>**\n"
      ],
      "metadata": {
        "id": "7MX7v9T9C2Kn"
      }
    },
    {
      "cell_type": "markdown",
      "source": [
        "Por ejemplo:"
      ],
      "metadata": {
        "id": "qTRdelzK7nah"
      }
    },
    {
      "cell_type": "code",
      "source": [
        "elementos"
      ],
      "metadata": {
        "colab": {
          "base_uri": "https://localhost:8080/"
        },
        "id": "rdB7NHhh7lXS",
        "outputId": "37907a9f-55b8-4703-cf44-518776e680e3"
      },
      "execution_count": null,
      "outputs": [
        {
          "output_type": "execute_result",
          "data": {
            "text/plain": [
              "['activo',\n",
              " 'activo corriente',\n",
              " 'activo no corriente',\n",
              " 'pasivo',\n",
              " 'pasivo corriente',\n",
              " 'pasivo no corriente',\n",
              " 'patrimonio neto']"
            ]
          },
          "metadata": {},
          "execution_count": 234
        }
      ]
    },
    {
      "cell_type": "code",
      "source": [
        "palabra = \"activo\"\n",
        "palabra"
      ],
      "metadata": {
        "colab": {
          "base_uri": "https://localhost:8080/",
          "height": 36
        },
        "id": "_teaW2jM6BRR",
        "outputId": "94dce78c-9432-4944-8319-3cedd2c38c20"
      },
      "execution_count": null,
      "outputs": [
        {
          "output_type": "execute_result",
          "data": {
            "text/plain": [
              "'activo'"
            ],
            "application/vnd.google.colaboratory.intrinsic+json": {
              "type": "string"
            }
          },
          "metadata": {},
          "execution_count": 235
        }
      ]
    },
    {
      "cell_type": "code",
      "source": [
        "palabra.upper()"
      ],
      "metadata": {
        "colab": {
          "base_uri": "https://localhost:8080/",
          "height": 36
        },
        "id": "GHRWApan6NSf",
        "outputId": "f93c4140-2f58-4c44-8b9d-f10ebc35d21a"
      },
      "execution_count": null,
      "outputs": [
        {
          "output_type": "execute_result",
          "data": {
            "text/plain": [
              "'ACTIVO'"
            ],
            "application/vnd.google.colaboratory.intrinsic+json": {
              "type": "string"
            }
          },
          "metadata": {},
          "execution_count": 236
        }
      ]
    },
    {
      "cell_type": "code",
      "source": [
        "palabra.capitalize()"
      ],
      "metadata": {
        "colab": {
          "base_uri": "https://localhost:8080/",
          "height": 36
        },
        "id": "a_DPzyGd6UH0",
        "outputId": "543465b0-21f2-4725-fd81-4dfee855df56"
      },
      "execution_count": null,
      "outputs": [
        {
          "output_type": "execute_result",
          "data": {
            "text/plain": [
              "'Activo'"
            ],
            "application/vnd.google.colaboratory.intrinsic+json": {
              "type": "string"
            }
          },
          "metadata": {},
          "execution_count": 237
        }
      ]
    },
    {
      "cell_type": "code",
      "source": [
        "mayuscula = [i.upper() for i in elementos]\n",
        "mayuscula"
      ],
      "metadata": {
        "colab": {
          "base_uri": "https://localhost:8080/"
        },
        "id": "XmZagpi-6m4E",
        "outputId": "5c10c6d4-bbcf-422b-9a94-8dfdf4b655b4"
      },
      "execution_count": null,
      "outputs": [
        {
          "output_type": "execute_result",
          "data": {
            "text/plain": [
              "['ACTIVO',\n",
              " 'ACTIVO CORRIENTE',\n",
              " 'ACTIVO NO CORRIENTE',\n",
              " 'PASIVO',\n",
              " 'PASIVO CORRIENTE',\n",
              " 'PASIVO NO CORRIENTE',\n",
              " 'PATRIMONIO NETO']"
            ]
          },
          "metadata": {},
          "execution_count": 239
        }
      ]
    },
    {
      "cell_type": "code",
      "source": [
        "[i.upper() for i in elementos]"
      ],
      "metadata": {
        "colab": {
          "base_uri": "https://localhost:8080/"
        },
        "id": "unJgcdOe7vRp",
        "outputId": "6c691909-e72c-4c53-81be-4c348b51db28"
      },
      "execution_count": null,
      "outputs": [
        {
          "output_type": "execute_result",
          "data": {
            "text/plain": [
              "['ACTIVO',\n",
              " 'ACTIVO CORRIENTE',\n",
              " 'ACTIVO NO CORRIENTE',\n",
              " 'PASIVO',\n",
              " 'PASIVO CORRIENTE',\n",
              " 'PASIVO NO CORRIENTE',\n",
              " 'PATRIMONIO NETO']"
            ]
          },
          "metadata": {},
          "execution_count": 123
        }
      ]
    },
    {
      "cell_type": "code",
      "source": [
        "[i.capitalize() for i in elementos if len(i) > 15]"
      ],
      "metadata": {
        "colab": {
          "base_uri": "https://localhost:8080/"
        },
        "id": "VwhWaKyj7Ay8",
        "outputId": "c5a936b6-2e76-4f5a-94c5-385b5294e1d2"
      },
      "execution_count": null,
      "outputs": [
        {
          "output_type": "execute_result",
          "data": {
            "text/plain": [
              "['Activo corriente',\n",
              " 'Activo no corriente',\n",
              " 'Pasivo corriente',\n",
              " 'Pasivo no corriente']"
            ]
          },
          "metadata": {},
          "execution_count": 240
        }
      ]
    },
    {
      "cell_type": "code",
      "source": [
        "[i.upper() for i in elementos if len(i) > 15]"
      ],
      "metadata": {
        "colab": {
          "base_uri": "https://localhost:8080/"
        },
        "id": "jbl6lwDi8FEK",
        "outputId": "37c576f0-3a79-4b71-a399-a7ba3610b4da"
      },
      "execution_count": null,
      "outputs": [
        {
          "output_type": "execute_result",
          "data": {
            "text/plain": [
              "['ACTIVO CORRIENTE',\n",
              " 'ACTIVO NO CORRIENTE',\n",
              " 'PASIVO CORRIENTE',\n",
              " 'PASIVO NO CORRIENTE']"
            ]
          },
          "metadata": {},
          "execution_count": 241
        }
      ]
    },
    {
      "cell_type": "markdown",
      "source": [
        "<p align=\"justify\">Al igual que las comprensiones de listas, las comprensiones de conjuntos y diccionarios son en su mayoría utiles, y de manera similar pueden hacer que el código sea más fácil de escribir y leer.\n",
        "\n",
        "</p>"
      ],
      "metadata": {
        "id": "sxSvJoaz-7ou"
      }
    },
    {
      "cell_type": "markdown",
      "source": [
        "### **<font color=\"DarkBlue\">Conjuntos</font>**\n"
      ],
      "metadata": {
        "id": "5nWTFJ8IC-Ib"
      }
    },
    {
      "cell_type": "code",
      "source": [
        "elementos"
      ],
      "metadata": {
        "colab": {
          "base_uri": "https://localhost:8080/"
        },
        "id": "QFsM8IiI_Qbt",
        "outputId": "a7fb3c21-974d-4965-d7ae-2c8c8bab4d51"
      },
      "execution_count": null,
      "outputs": [
        {
          "output_type": "execute_result",
          "data": {
            "text/plain": [
              "['activo',\n",
              " 'activo corriente',\n",
              " 'activo no corriente',\n",
              " 'pasivo',\n",
              " 'pasivo corriente',\n",
              " 'pasivo no corriente',\n",
              " 'patrimonio neto']"
            ]
          },
          "metadata": {},
          "execution_count": 125
        }
      ]
    },
    {
      "cell_type": "code",
      "source": [
        "{len(i) for i in elementos}"
      ],
      "metadata": {
        "colab": {
          "base_uri": "https://localhost:8080/"
        },
        "id": "PmZNarA-A1ST",
        "outputId": "349a7b7e-75b6-4948-fb0f-b888a1367ae2"
      },
      "execution_count": null,
      "outputs": [
        {
          "output_type": "execute_result",
          "data": {
            "text/plain": [
              "{6, 15, 16, 19}"
            ]
          },
          "metadata": {},
          "execution_count": 126
        }
      ]
    },
    {
      "cell_type": "code",
      "source": [
        "{len(i) for i in elementos if len(i) > 15}"
      ],
      "metadata": {
        "colab": {
          "base_uri": "https://localhost:8080/"
        },
        "id": "o7dj5QUdDiS7",
        "outputId": "203a6430-d98f-4a02-bf43-60c6c09c32cd"
      },
      "execution_count": null,
      "outputs": [
        {
          "output_type": "execute_result",
          "data": {
            "text/plain": [
              "{16, 19}"
            ]
          },
          "metadata": {},
          "execution_count": 127
        }
      ]
    },
    {
      "cell_type": "markdown",
      "source": [
        "### **<font color=\"DarkBlue\">Diccionarios</font>**\n"
      ],
      "metadata": {
        "id": "MxNOSaYKDBGR"
      }
    },
    {
      "cell_type": "code",
      "source": [
        "elementos"
      ],
      "metadata": {
        "colab": {
          "base_uri": "https://localhost:8080/"
        },
        "id": "sEsbNyrhDG1c",
        "outputId": "823aa403-d6f1-49ee-84ac-f5f1224b8ed8"
      },
      "execution_count": null,
      "outputs": [
        {
          "output_type": "execute_result",
          "data": {
            "text/plain": [
              "['activo',\n",
              " 'activo corriente',\n",
              " 'activo no corriente',\n",
              " 'pasivo',\n",
              " 'pasivo corriente',\n",
              " 'pasivo no corriente',\n",
              " 'patrimonio neto']"
            ]
          },
          "metadata": {},
          "execution_count": 128
        }
      ]
    },
    {
      "cell_type": "code",
      "source": [
        "{i : j for i, j in enumerate(elementos)}"
      ],
      "metadata": {
        "colab": {
          "base_uri": "https://localhost:8080/"
        },
        "id": "yzW-hRZpBCmk",
        "outputId": "733ddbc1-9c0f-4811-c485-ffb211b1257d"
      },
      "execution_count": null,
      "outputs": [
        {
          "output_type": "execute_result",
          "data": {
            "text/plain": [
              "{0: 'activo',\n",
              " 1: 'activo corriente',\n",
              " 2: 'activo no corriente',\n",
              " 3: 'pasivo',\n",
              " 4: 'pasivo corriente',\n",
              " 5: 'pasivo no corriente',\n",
              " 6: 'patrimonio neto'}"
            ]
          },
          "metadata": {},
          "execution_count": 129
        }
      ]
    },
    {
      "cell_type": "code",
      "source": [
        "{i : j for i, j in enumerate(elementos) if len(j) > 15}"
      ],
      "metadata": {
        "colab": {
          "base_uri": "https://localhost:8080/"
        },
        "id": "7kBpp7wIDWVv",
        "outputId": "1ceb16f6-0217-4972-894b-bedceb90cd53"
      },
      "execution_count": null,
      "outputs": [
        {
          "output_type": "execute_result",
          "data": {
            "text/plain": [
              "{1: 'activo corriente',\n",
              " 2: 'activo no corriente',\n",
              " 4: 'pasivo corriente',\n",
              " 5: 'pasivo no corriente'}"
            ]
          },
          "metadata": {},
          "execution_count": 130
        }
      ]
    },
    {
      "cell_type": "markdown",
      "source": [
        "## **<font color=\"DarkBlue\">Comprensión de listas anidadas</font>**"
      ],
      "metadata": {
        "id": "o30tySjREJ2Q"
      }
    },
    {
      "cell_type": "markdown",
      "source": [
        "<p align=\"justify\">Al principio, las comprensiones de listas anidadas son un poco difíciles de entender. Las partes de la comprensión de la lista se organizan de acuerdo con el orden de anidamiento, y cualquier condición de filtro se coloca al final como al principio.<br><br>Por ejemplo:\n",
        "\n",
        "</p>"
      ],
      "metadata": {
        "id": "8weQdFVgENsa"
      }
    },
    {
      "cell_type": "code",
      "source": [
        "estado_patrimonial = ((\"Activo\", 1000),(\"Pasivo\", 600),(\"Patrimonio Neto\", 400))\n",
        "estado_patrimonial"
      ],
      "metadata": {
        "colab": {
          "base_uri": "https://localhost:8080/"
        },
        "id": "6b0cV65HEkCP",
        "outputId": "958ac322-78dd-4096-cd91-006adfa01117"
      },
      "execution_count": null,
      "outputs": [
        {
          "output_type": "execute_result",
          "data": {
            "text/plain": [
              "(('Activo', 1000), ('Pasivo', 600), ('Patrimonio Neto', 400))"
            ]
          },
          "metadata": {},
          "execution_count": 131
        }
      ]
    },
    {
      "cell_type": "code",
      "source": [
        "lista_estado_patrimonial = [j for i in estado_patrimonial for j in i]\n",
        "lista_estado_patrimonial"
      ],
      "metadata": {
        "colab": {
          "base_uri": "https://localhost:8080/"
        },
        "id": "RLp01cvCGK86",
        "outputId": "93fdaeef-ec87-47e3-f89e-0fb3305c1f7b"
      },
      "execution_count": null,
      "outputs": [
        {
          "output_type": "execute_result",
          "data": {
            "text/plain": [
              "['Activo', 1000, 'Pasivo', 600, 'Patrimonio Neto', 400]"
            ]
          },
          "metadata": {},
          "execution_count": 132
        }
      ]
    },
    {
      "cell_type": "markdown",
      "source": [
        "<p align=\"justify\"> 👀 Lo que sería lo mismo a dos <code>for</code> anidados.<br><br>Por ejemplo:\n"
      ],
      "metadata": {
        "id": "nqJj2_dxHINU"
      }
    },
    {
      "cell_type": "code",
      "source": [
        "lista_estado_patrimonial = []\n",
        "\n",
        "for i in estado_patrimonial:\n",
        "    for j in i:\n",
        "        lista_estado_patrimonial.append(j)"
      ],
      "metadata": {
        "id": "Emruu7NxHHtU"
      },
      "execution_count": null,
      "outputs": []
    },
    {
      "cell_type": "code",
      "source": [
        "lista_estado_patrimonial"
      ],
      "metadata": {
        "colab": {
          "base_uri": "https://localhost:8080/"
        },
        "id": "3GVfwRbAIMIz",
        "outputId": "d0de5075-01a1-463c-bba9-95c182d00093"
      },
      "execution_count": null,
      "outputs": [
        {
          "output_type": "execute_result",
          "data": {
            "text/plain": [
              "['Activo', 1000, 'Pasivo', 600, 'Patrimonio Neto', 400]"
            ]
          },
          "metadata": {},
          "execution_count": 134
        }
      ]
    },
    {
      "cell_type": "markdown",
      "source": [
        "<p align=\"justify\"> 👀 Ahora podemos verificar la ecuación patrimonial basica donde el activo es igual al pasivo mas el patrimonio neto.\n"
      ],
      "metadata": {
        "id": "XeK-MIBLIbbr"
      }
    },
    {
      "cell_type": "code",
      "source": [
        "lista_estado_patrimonial[1] == lista_estado_patrimonial[3] + lista_estado_patrimonial[5]"
      ],
      "metadata": {
        "colab": {
          "base_uri": "https://localhost:8080/"
        },
        "id": "xtBJVrm6GrUv",
        "outputId": "6a1fcaf5-56b4-45b5-e8df-7f2c98984469"
      },
      "execution_count": null,
      "outputs": [
        {
          "output_type": "execute_result",
          "data": {
            "text/plain": [
              "True"
            ]
          },
          "metadata": {},
          "execution_count": 135
        }
      ]
    },
    {
      "cell_type": "markdown",
      "source": [
        "<p align=\"center\"><b>\n",
        "💗\n",
        "<font color=\"DarkBlue\">\n",
        "Hemos llegado al final de nuestro colab, a seguir codeando...\n",
        "</font>\n",
        "</p>\n",
        "\n"
      ],
      "metadata": {
        "id": "GgHa2NAAYRqc"
      }
    }
  ]
}