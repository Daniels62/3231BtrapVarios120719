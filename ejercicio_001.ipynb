{
  "nbformat": 4,
  "nbformat_minor": 0,
  "metadata": {
    "colab": {
      "provenance": [],
      "include_colab_link": true
    },
    "kernelspec": {
      "name": "python3",
      "display_name": "Python 3"
    },
    "language_info": {
      "name": "python"
    }
  },
  "cells": [
    {
      "cell_type": "markdown",
      "metadata": {
        "id": "view-in-github",
        "colab_type": "text"
      },
      "source": [
        "<a href=\"https://colab.research.google.com/github/Daniels62/3231BtrapVarios120719/blob/master/ejercicio_001.ipynb\" target=\"_parent\"><img src=\"https://colab.research.google.com/assets/colab-badge.svg\" alt=\"Open In Colab\"/></a>"
      ]
    },
    {
      "cell_type": "markdown",
      "source": [
        "# **<font color=\"DarkBlue\">Mis primeros ejercicios con Python</font>**"
      ],
      "metadata": {
        "id": "ZJ8MFCRegkBU"
      }
    },
    {
      "cell_type": "markdown",
      "source": [
        "<p align=\"center\">\n",
        "<img src=\"https://pypi.org/static/images/logo-small.8998e9d1.svg\" width=\"90\" height=\"\">\n",
        "</p>"
      ],
      "metadata": {
        "id": "gjpEYi_23t-3"
      }
    },
    {
      "cell_type": "markdown",
      "source": [
        "## **<font color=\"DarkBlue\">Ejercicio 1: Añadir comentarios</font>**"
      ],
      "metadata": {
        "id": "ZiHPlFwRnqdY"
      }
    },
    {
      "cell_type": "markdown",
      "source": [
        "✅ Tarea: Añade comentarios explicativos al siguiente código para describir lo que hace cada línea"
      ],
      "metadata": {
        "id": "Gg4K_0MVpdOS"
      }
    },
    {
      "cell_type": "code",
      "source": [
        "a = 5\n",
        "b = 3\n",
        "suma = a + b\n",
        "print(suma)"
      ],
      "metadata": {
        "id": "o6vCIAz9nzfq",
        "colab": {
          "base_uri": "https://localhost:8080/"
        },
        "outputId": "a73bcb7b-dade-4200-9ccb-eae215965ff1"
      },
      "execution_count": null,
      "outputs": [
        {
          "output_type": "stream",
          "name": "stdout",
          "text": [
            "8\n"
          ]
        }
      ]
    },
    {
      "cell_type": "markdown",
      "source": [
        "🚀 Respuesta sugerida..."
      ],
      "metadata": {
        "id": "CgzwxVy_TgUM"
      }
    },
    {
      "cell_type": "code",
      "source": [
        "a = 5  # Asigna el valor 5 a la variable a\n",
        "b = 3  # Asigna el valor 3 a la variable b\n",
        "suma = a + b  # Calcula la suma de a y b y la asigna a la variable suma\n",
        "print(suma)  # Imprime el valor de suma"
      ],
      "metadata": {
        "colab": {
          "base_uri": "https://localhost:8080/"
        },
        "id": "K8G9wFTJTEWo",
        "outputId": "69cad5ca-e50f-4197-fd1e-e60438f7ef2a"
      },
      "execution_count": null,
      "outputs": [
        {
          "output_type": "stream",
          "name": "stdout",
          "text": [
            "8\n"
          ]
        }
      ]
    },
    {
      "cell_type": "markdown",
      "source": [
        "## **<font color=\"DarkBlue\">Ejercicio 2: Asignación de variables</font>**"
      ],
      "metadata": {
        "id": "N1lFpAnWpjmt"
      }
    },
    {
      "cell_type": "markdown",
      "source": [
        "✅ Tarea: Crea variables de diferentes tipos (entero, flotante, cadena, booleano) y asigna valores adecuados a cada una. Luego imprime los valores."
      ],
      "metadata": {
        "id": "-nAuKvYVprIq"
      }
    },
    {
      "cell_type": "code",
      "source": [
        "# Ejemplo de variables de diferentes tipos\n",
        "# Completa el código\n",
        "mi_entero =\n",
        "mi_flotante =\n",
        "mi_cadena =\n",
        "mi_booleano ="
      ],
      "metadata": {
        "id": "QNNlluD_prkV"
      },
      "execution_count": null,
      "outputs": []
    },
    {
      "cell_type": "code",
      "source": [
        "# Imprime los valores\n",
        "print()\n",
        "print()\n",
        "print()\n",
        "print()"
      ],
      "metadata": {
        "id": "AblM_866qBUf"
      },
      "execution_count": null,
      "outputs": []
    },
    {
      "cell_type": "markdown",
      "source": [
        "🚀 Respuesta sugerida..."
      ],
      "metadata": {
        "id": "_xCyluroTuwd"
      }
    },
    {
      "cell_type": "code",
      "source": [
        "# Ejemplo de variables de diferentes tipos\n",
        "# Completa el código\n",
        "mi_entero = 6\n",
        "mi_flotante = 8.9\n",
        "mi_cadena = \"Hola\"\n",
        "mi_booleano = True"
      ],
      "metadata": {
        "id": "b3PExsDvTyLA"
      },
      "execution_count": null,
      "outputs": []
    },
    {
      "cell_type": "code",
      "source": [
        "# Imprime los valores\n",
        "print(\"Entero:\", mi_entero)\n",
        "print(\"Flotante:\", mi_flotante)\n",
        "print(\"Cadena:\", mi_cadena)\n",
        "print(\"Booleano:\", mi_booleano)"
      ],
      "metadata": {
        "colab": {
          "base_uri": "https://localhost:8080/"
        },
        "id": "Sng0g2F9T_lZ",
        "outputId": "977e1e23-2539-4d88-c16d-e5ebd7d79075"
      },
      "execution_count": null,
      "outputs": [
        {
          "output_type": "stream",
          "name": "stdout",
          "text": [
            "Entero: 6\n",
            "Flotante: 8.9\n",
            "Cadena: Hola\n",
            "Booleano: True\n"
          ]
        }
      ]
    },
    {
      "cell_type": "code",
      "source": [
        "# Imprime con print(f) los valores\n",
        "print(f\"Entero: {mi_entero}\")\n",
        "print(f\"Flotante: {mi_flotante}\")\n",
        "print(f\"Cadena: {mi_cadena}\")\n",
        "print(f\"Booleano: {mi_booleano}\")"
      ],
      "metadata": {
        "colab": {
          "base_uri": "https://localhost:8080/"
        },
        "id": "D0KJzmatUKkU",
        "outputId": "84db2470-1890-4cf4-d357-384aa1b8a469"
      },
      "execution_count": null,
      "outputs": [
        {
          "output_type": "stream",
          "name": "stdout",
          "text": [
            "Entero: 6\n",
            "Flotante: 8.9\n",
            "Cadena: Hola\n",
            "Booleano: True\n"
          ]
        }
      ]
    },
    {
      "cell_type": "markdown",
      "source": [
        "## **<font color=\"DarkBlue\">Ejercicio 3: Operaciones aritméticas</font>**"
      ],
      "metadata": {
        "id": "hEeVDYqKpsDC"
      }
    },
    {
      "cell_type": "markdown",
      "source": [
        "✅ Tarea: Realiza las siguientes operaciones aritméticas e imprime los resultados: suma, resta, multiplicación, división, división entera, módulo y exponenciación con los números 10 y 3."
      ],
      "metadata": {
        "id": "a4iAaTJppsgc"
      }
    },
    {
      "cell_type": "code",
      "source": [
        "a =\n",
        "b ="
      ],
      "metadata": {
        "id": "ywUVb7_WptE9"
      },
      "execution_count": null,
      "outputs": []
    },
    {
      "cell_type": "code",
      "source": [
        "# Completa el código para realizar las operaciones e imprimir los resultados\n",
        "\n",
        "suma =\n",
        "resta =\n",
        "multiplicacion =\n",
        "division =\n",
        "division_entera =\n",
        "modulo =\n",
        "exponenciacion ="
      ],
      "metadata": {
        "id": "8Z0hvwxKqfW_"
      },
      "execution_count": null,
      "outputs": []
    },
    {
      "cell_type": "code",
      "source": [
        "print(\"Suma:\", suma)\n",
        "print(\"Resta:\", resta)\n",
        "print(\"Multiplicación:\", multiplicacion)\n",
        "print(\"División:\", division)\n",
        "print(\"División Entera:\", division_entera)\n",
        "print(\"Módulo:\", modulo)\n",
        "print(\"Exponenciación:\", exponenciacion)"
      ],
      "metadata": {
        "id": "O1C2IwKKqh-m"
      },
      "execution_count": null,
      "outputs": []
    },
    {
      "cell_type": "markdown",
      "source": [
        "🚀 Respuesta sugerida..."
      ],
      "metadata": {
        "id": "wPrx25QHUWLB"
      }
    },
    {
      "cell_type": "code",
      "source": [
        "a = 10\n",
        "b = 3"
      ],
      "metadata": {
        "id": "_3OU1ZaXUeAF"
      },
      "execution_count": null,
      "outputs": []
    },
    {
      "cell_type": "code",
      "source": [
        "# Completa el código para realizar las operaciones e imprimir los resultados\n",
        "\n",
        "suma = a + b\n",
        "resta = a - b\n",
        "multiplicacion = a * b\n",
        "division = a / b\n",
        "division_entera = a // b\n",
        "modulo = a % b\n",
        "exponenciacion = a ** b"
      ],
      "metadata": {
        "id": "chJZg7yLUqQO"
      },
      "execution_count": null,
      "outputs": []
    },
    {
      "cell_type": "code",
      "source": [
        "print(\"Suma:\", suma)\n",
        "print(\"Resta:\", resta)\n",
        "print(\"Multiplicación:\", multiplicacion)\n",
        "print(\"División:\", division)\n",
        "print(\"División Entera:\", division_entera)\n",
        "print(\"Módulo:\", modulo)\n",
        "print(\"Exponenciación:\", exponenciacion)"
      ],
      "metadata": {
        "colab": {
          "base_uri": "https://localhost:8080/"
        },
        "id": "IR9bt4wCUz-t",
        "outputId": "53afc6fc-fc43-411d-c444-61f59c8ec760"
      },
      "execution_count": null,
      "outputs": [
        {
          "output_type": "stream",
          "name": "stdout",
          "text": [
            "Suma: 13\n",
            "Resta: 7\n",
            "Multiplicación: 30\n",
            "División: 3.3333333333333335\n",
            "División Entera: 3\n",
            "Módulo: 1\n",
            "Exponenciación: 1000\n"
          ]
        }
      ]
    },
    {
      "cell_type": "markdown",
      "source": [
        "## **<font color=\"DarkBlue\">Ejercicio 4: Operadores de comparación</font>**"
      ],
      "metadata": {
        "id": "8RgbGQOpqpbk"
      }
    },
    {
      "cell_type": "markdown",
      "source": [
        "✅ Tarea: Escribe un código que compare dos números (5 y 7) usando todos los operadores de comparación y muestre los resultados."
      ],
      "metadata": {
        "id": "D6wfMO0WqqKW"
      }
    },
    {
      "cell_type": "code",
      "source": [
        "a =\n",
        "b ="
      ],
      "metadata": {
        "id": "w8To5jqHqqjM"
      },
      "execution_count": null,
      "outputs": []
    },
    {
      "cell_type": "code",
      "source": [
        "# Completa el código para realizar las comparaciones e imprimir los resultados\n",
        "igual =\n",
        "diferente =\n",
        "mayor_que =\n",
        "menor_que =\n",
        "mayor_o_igual =\n",
        "menor_o_igual ="
      ],
      "metadata": {
        "id": "tEFT1WQ1u60H"
      },
      "execution_count": null,
      "outputs": []
    },
    {
      "cell_type": "code",
      "source": [
        "print(\"Igual:\", igual)\n",
        "print(\"Diferente:\", diferente)\n",
        "print(\"Mayor que:\", mayor_que)\n",
        "print(\"Menor que:\", menor_que)\n",
        "print(\"Mayor o igual que:\", mayor_o_igual)\n",
        "print(\"Menor o igual que:\", menor_o_igual)"
      ],
      "metadata": {
        "id": "EhivkbL8vMoq"
      },
      "execution_count": null,
      "outputs": []
    },
    {
      "cell_type": "markdown",
      "source": [
        "🚀 Respuesta sugerida..."
      ],
      "metadata": {
        "id": "9I6S_IzKU9V9"
      }
    },
    {
      "cell_type": "code",
      "source": [
        "a = 5\n",
        "b = 7"
      ],
      "metadata": {
        "id": "Mplc0YJPVAjq"
      },
      "execution_count": null,
      "outputs": []
    },
    {
      "cell_type": "code",
      "source": [
        "# Completa el código para realizar las comparaciones e imprimir los resultados\n",
        "\n",
        "igual = a == b\n",
        "diferente = a != b\n",
        "mayor_que = a > b\n",
        "menor_que = a < b\n",
        "mayor_o_igual = a >= b\n",
        "menor_o_igual = a <= b"
      ],
      "metadata": {
        "id": "IO2HS19wVClM"
      },
      "execution_count": null,
      "outputs": []
    },
    {
      "cell_type": "code",
      "source": [
        "print(\"Igual:\", igual)\n",
        "print(\"Diferente:\", diferente)\n",
        "print(\"Mayor que:\", mayor_que)\n",
        "print(\"Menor que:\", menor_que)\n",
        "print(\"Mayor o igual que:\", mayor_o_igual)\n",
        "print(\"Menor o igual que:\", menor_o_igual)"
      ],
      "metadata": {
        "colab": {
          "base_uri": "https://localhost:8080/"
        },
        "id": "JWB4rJeoVSHG",
        "outputId": "f2dd1ef9-4580-4dfb-900f-5ef7bac88dfa"
      },
      "execution_count": null,
      "outputs": [
        {
          "output_type": "stream",
          "name": "stdout",
          "text": [
            "Igual: False\n",
            "Diferente: True\n",
            "Mayor que: False\n",
            "Menor que: True\n",
            "Mayor o igual que: False\n",
            "Menor o igual que: True\n"
          ]
        }
      ]
    },
    {
      "cell_type": "markdown",
      "source": [
        "## **<font color=\"DarkBlue\">Ejercicio 5: Operadores lógicos</font>**"
      ],
      "metadata": {
        "id": "yKIagXe7v4EX"
      }
    },
    {
      "cell_type": "markdown",
      "source": [
        "✅ Tarea: Usa los operadores lógicos and, or y not para evaluar las siguientes expresiones y muestra los resultados:\n",
        "\n",
        "- True and False\n",
        "- True or False\n",
        "- not True"
      ],
      "metadata": {
        "id": "mfMgq1Amv_IP"
      }
    },
    {
      "cell_type": "code",
      "source": [
        "exp1 =\n",
        "exp2 =\n",
        "exp3 ="
      ],
      "metadata": {
        "id": "N6v3qlKsv_y-"
      },
      "execution_count": null,
      "outputs": []
    },
    {
      "cell_type": "code",
      "source": [
        "print(\"True and False:\", exp1)\n",
        "print(\"True or False:\", exp2)\n",
        "print(\"not True:\", exp3)"
      ],
      "metadata": {
        "id": "CofyDddcyIgF"
      },
      "execution_count": null,
      "outputs": []
    },
    {
      "cell_type": "markdown",
      "source": [
        "🚀 Respuesta sugerida..."
      ],
      "metadata": {
        "id": "0RGlpjZwVZtq"
      }
    },
    {
      "cell_type": "code",
      "source": [
        "exp1 = True and False\n",
        "exp2 = True or False\n",
        "exp3 = not True"
      ],
      "metadata": {
        "id": "0bDek1KnVeur"
      },
      "execution_count": null,
      "outputs": []
    },
    {
      "cell_type": "code",
      "source": [
        "print(\"True and False:\", exp1)\n",
        "print(\"True or False:\", exp2)\n",
        "print(\"not True:\", exp3)"
      ],
      "metadata": {
        "colab": {
          "base_uri": "https://localhost:8080/"
        },
        "id": "0NIPxAY-Vk4u",
        "outputId": "8596f6e5-80c8-4e26-f31b-7fc69b15e42f"
      },
      "execution_count": null,
      "outputs": [
        {
          "output_type": "stream",
          "name": "stdout",
          "text": [
            "True and False: False\n",
            "True or False: True\n",
            "not True: False\n"
          ]
        }
      ]
    },
    {
      "cell_type": "markdown",
      "source": [
        "## **<font color=\"DarkBlue\">Ejercicio 6: Condicionales</font>**"
      ],
      "metadata": {
        "id": "GFXmd3nWyTQD"
      }
    },
    {
      "cell_type": "markdown",
      "source": [
        "✅ Tarea: Escribe un programa que tome una variable edad e imprima si la persona es un niño, adolescente, o adulto, usando if, elif y else."
      ],
      "metadata": {
        "id": "VayKiE1gyZtv"
      }
    },
    {
      "cell_type": "code",
      "source": [
        "edad ="
      ],
      "metadata": {
        "id": "4-BUWiDuyo79"
      },
      "execution_count": null,
      "outputs": []
    },
    {
      "cell_type": "code",
      "source": [
        "# Completa el código para verificar la edad e imprimir el mensaje correspondiente\n",
        "if :\n",
        "    print(\"Eres un adulto\")\n",
        "elif :\n",
        "    print(\"Eres un adolescente\")\n",
        "else:\n",
        "    print(\"Eres un niño\")"
      ],
      "metadata": {
        "id": "OFlOaN-eyaGS"
      },
      "execution_count": null,
      "outputs": []
    },
    {
      "cell_type": "markdown",
      "source": [
        "🚀 Respuesta sugerida..."
      ],
      "metadata": {
        "id": "Buwf6U48VsqR"
      }
    },
    {
      "cell_type": "code",
      "source": [
        "edad = 18"
      ],
      "metadata": {
        "id": "jhh_TdwqVvO1"
      },
      "execution_count": null,
      "outputs": []
    },
    {
      "cell_type": "code",
      "source": [
        "# Completa el código para verificar la edad e imprimir el mensaje correspondiente\n",
        "if edad >= 18 :\n",
        "    print(\"Eres un adulto\")\n",
        "elif edad >= 13 :\n",
        "    print(\"Eres un adolescente\")\n",
        "else:\n",
        "    print(\"Eres un niño\")"
      ],
      "metadata": {
        "colab": {
          "base_uri": "https://localhost:8080/"
        },
        "id": "Bdz13Hr8VwLG",
        "outputId": "aa079149-6e59-494d-c737-3fb227bd6338"
      },
      "execution_count": null,
      "outputs": [
        {
          "output_type": "stream",
          "name": "stdout",
          "text": [
            "Eres un adulto\n"
          ]
        }
      ]
    },
    {
      "cell_type": "markdown",
      "source": [
        "## **<font color=\"DarkBlue\">Ejercicio 7: Bucle for</font>**"
      ],
      "metadata": {
        "id": "EONo8ncUyx3z"
      }
    },
    {
      "cell_type": "markdown",
      "source": [
        "Tarea: Usa un bucle for para iterar sobre una lista de nombres e imprimir cada elemento."
      ],
      "metadata": {
        "id": "FSSMNWVyyyZ7"
      }
    },
    {
      "cell_type": "code",
      "source": [
        "financiacion = [\"3 cuotas\", \"6 cuotas\", \"9 cuotas\", \"12 cuotas\"]"
      ],
      "metadata": {
        "id": "g60ct_-zzTDh"
      },
      "execution_count": null,
      "outputs": []
    },
    {
      "cell_type": "code",
      "source": [
        "\n",
        "# Completa el código para iterar sobre la lista de financiacion e imprimir cada uno\n",
        "for :\n",
        "    print()"
      ],
      "metadata": {
        "id": "U6Cb7vD1yy7n"
      },
      "execution_count": null,
      "outputs": []
    },
    {
      "cell_type": "markdown",
      "source": [
        "## **<font color=\"DarkBlue\">Ejercicio 8: Bucle while</font>**"
      ],
      "metadata": {
        "id": "HNS94HPCzsLA"
      }
    },
    {
      "cell_type": "markdown",
      "source": [
        "✅ Tarea: Escribe un bucle while que imprima los números del 1 al 5."
      ],
      "metadata": {
        "id": "-7l9T0gb0NBY"
      }
    },
    {
      "cell_type": "code",
      "source": [
        "contador ="
      ],
      "metadata": {
        "id": "83m7-0Qj0S1a"
      },
      "execution_count": null,
      "outputs": []
    },
    {
      "cell_type": "code",
      "source": [
        "# Completa el código para imprimir los números del 1 al 5 usando un bucle while\n",
        "while :\n",
        "    print()\n",
        "    contador += 1\n"
      ],
      "metadata": {
        "id": "U_0_5Osk0NcM"
      },
      "execution_count": null,
      "outputs": []
    },
    {
      "cell_type": "markdown",
      "source": [
        "🚀 Respuesta sugerida..."
      ],
      "metadata": {
        "id": "uM8w-XIaWTy5"
      }
    },
    {
      "cell_type": "code",
      "source": [
        "contador = 1"
      ],
      "metadata": {
        "id": "rHH5VM13WYEl"
      },
      "execution_count": null,
      "outputs": []
    },
    {
      "cell_type": "code",
      "source": [
        "# Completa el código para imprimir los números del 1 al 5 usando un bucle while\n",
        "while contador <=5 :\n",
        "    print(contador)\n",
        "    contador += 1"
      ],
      "metadata": {
        "colab": {
          "base_uri": "https://localhost:8080/"
        },
        "id": "edUoUVlxWcXB",
        "outputId": "e747e2f7-7d0d-49aa-f499-af1927a0217a"
      },
      "execution_count": null,
      "outputs": [
        {
          "output_type": "stream",
          "name": "stdout",
          "text": [
            "1\n",
            "2\n",
            "3\n",
            "4\n",
            "5\n"
          ]
        }
      ]
    },
    {
      "cell_type": "markdown",
      "source": [
        "<p align=\"center\"><b>\n",
        "💗\n",
        "<font color=\"DarkBlue\">\n",
        "Hemos llegado al final de nuestra ejercitación en colab, a seguir ejercitando...\n",
        "</font>\n",
        "</p>\n",
        "\n"
      ],
      "metadata": {
        "id": "jLFcCFoEuxr6"
      }
    }
  ]
}