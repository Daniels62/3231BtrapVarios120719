{
  "nbformat": 4,
  "nbformat_minor": 0,
  "metadata": {
    "colab": {
      "provenance": [],
      "include_colab_link": true
    },
    "kernelspec": {
      "name": "python3",
      "display_name": "Python 3"
    },
    "language_info": {
      "name": "python"
    }
  },
  "cells": [
    {
      "cell_type": "markdown",
      "metadata": {
        "id": "view-in-github",
        "colab_type": "text"
      },
      "source": [
        "<a href=\"https://colab.research.google.com/github/Daniels62/3231BtrapVarios120719/blob/master/ejercicio_002.ipynb\" target=\"_parent\"><img src=\"https://colab.research.google.com/assets/colab-badge.svg\" alt=\"Open In Colab\"/></a>"
      ]
    },
    {
      "cell_type": "markdown",
      "source": [
        "# **<font color=\"DarkBlue\">Ejercicios con Python un poco más difíciles 💗</font>**"
      ],
      "metadata": {
        "id": "ZJ8MFCRegkBU"
      }
    },
    {
      "cell_type": "markdown",
      "source": [
        "<p align=\"center\">\n",
        "<img src=\"https://pypi.org/static/images/logo-small.8998e9d1.svg\" width=\"90\" height=\"\">\n",
        "</p>"
      ],
      "metadata": {
        "id": "gjpEYi_23t-3"
      }
    },
    {
      "cell_type": "markdown",
      "source": [
        "## **<font color=\"DarkBlue\">Ejercicio 1: Análisis de ventas</font>**"
      ],
      "metadata": {
        "id": "ZiHPlFwRnqdY"
      }
    },
    {
      "cell_type": "markdown",
      "source": [
        "✅ Tarea: Calcula el ingreso total de ventas y el promedio de ventas diarias a partir de los siguientes datos:"
      ],
      "metadata": {
        "id": "Gg4K_0MVpdOS"
      }
    },
    {
      "cell_type": "code",
      "source": [
        "ventas = [1500, 2300, 1800, 2900, 3200, 2800, 3500]"
      ],
      "metadata": {
        "id": "o6vCIAz9nzfq"
      },
      "execution_count": null,
      "outputs": []
    },
    {
      "cell_type": "markdown",
      "source": [
        "🖊 Instrucciones:\n",
        "<br><br>\n",
        "\n",
        "- Calcula el ingreso total de ventas.\n",
        "- Calcula el promedio de ventas diarias.\n",
        "- Imprime los resultados."
      ],
      "metadata": {
        "id": "pgf_fJ0e5itH"
      }
    },
    {
      "cell_type": "code",
      "source": [
        "# Completa el código para calcular el ingreso total y el promedio de ventas diarias\n",
        "ingreso_total =\n",
        "promedio_diario ="
      ],
      "metadata": {
        "id": "ebT2dBtx5tSl"
      },
      "execution_count": null,
      "outputs": []
    },
    {
      "cell_type": "code",
      "source": [
        "# Completa el código para imprimir el ingreso total y el promedio de ventas diarias\n",
        "print()\n",
        "print()"
      ],
      "metadata": {
        "id": "I4AEBA5R5zXm"
      },
      "execution_count": null,
      "outputs": []
    },
    {
      "cell_type": "markdown",
      "source": [
        "🚀 Respuesta sugerida..."
      ],
      "metadata": {
        "id": "ZZ2BQfhDXITu"
      }
    },
    {
      "cell_type": "code",
      "source": [
        "ventas = [1500, 2300, 1800, 2900, 3200, 2800, 3500]"
      ],
      "metadata": {
        "id": "AQO1z3vPXJLn"
      },
      "execution_count": null,
      "outputs": []
    },
    {
      "cell_type": "code",
      "source": [
        "# Completa el código para calcular el ingreso total y el promedio de ventas diarias\n",
        "ingreso_total = sum(ventas)\n",
        "promedio_diario = ingreso_total / len(ventas)"
      ],
      "metadata": {
        "id": "NBMVHRKbXj9W"
      },
      "execution_count": null,
      "outputs": []
    },
    {
      "cell_type": "code",
      "source": [
        "# Completa el código para imprimir el ingreso total y el promedio de ventas diarias\n",
        "print(\"Ingreso total de ventas:\", ingreso_total)\n",
        "print(\"Promedio de ventas diarias:\", promedio_diario)"
      ],
      "metadata": {
        "colab": {
          "base_uri": "https://localhost:8080/"
        },
        "id": "Hu_C1S25Xqw9",
        "outputId": "dc53f30a-78f5-4629-9c4a-326271102992"
      },
      "execution_count": null,
      "outputs": [
        {
          "output_type": "stream",
          "name": "stdout",
          "text": [
            "Ingreso total de ventas: 18000\n",
            "Promedio de ventas diarias: 2571.4285714285716\n"
          ]
        }
      ]
    },
    {
      "cell_type": "markdown",
      "source": [
        "## **<font color=\"DarkBlue\">Ejercicio 2: Evaluación de metas</font>**"
      ],
      "metadata": {
        "id": "N1lFpAnWpjmt"
      }
    },
    {
      "cell_type": "markdown",
      "source": [
        "✅ Tarea: Dada una lista de ventas mensuales, determina cuántos meses se superó la meta de ventas de $2500 y cuántos meses no se supero la meta."
      ],
      "metadata": {
        "id": "-nAuKvYVprIq"
      }
    },
    {
      "cell_type": "code",
      "source": [
        "ventas_mensuales = [2400, 2700, 3100, 1500, 3400, 2600, 2200, 2900, 1800, 3000, 3200, 2100]\n",
        "meta = 2500"
      ],
      "metadata": {
        "id": "QNNlluD_prkV"
      },
      "execution_count": null,
      "outputs": []
    },
    {
      "cell_type": "code",
      "source": [
        "# Completa el código para evaluar cuántos meses se superó la meta de ventas\n",
        "superaron_meta = 0\n",
        "no_superaron_meta = 0"
      ],
      "metadata": {
        "id": "AblM_866qBUf"
      },
      "execution_count": null,
      "outputs": []
    },
    {
      "cell_type": "code",
      "source": [
        "for i in ventas_mensuales:\n",
        "    if :\n",
        "\n",
        "    else:\n"
      ],
      "metadata": {
        "id": "uPNKlLD06a9n"
      },
      "execution_count": null,
      "outputs": []
    },
    {
      "cell_type": "code",
      "source": [
        "# Completa el código para imprimir los meses que se superan la meta y los meses que no\n",
        "print(\"Meses que superaron la meta: \")\n",
        "print(\"Meses que no superaron la meta: \")"
      ],
      "metadata": {
        "id": "0UK1_NKb6dMU"
      },
      "execution_count": null,
      "outputs": []
    },
    {
      "cell_type": "markdown",
      "source": [
        "🚀 Respuesta sugerida..."
      ],
      "metadata": {
        "id": "MxzUcc6OX910"
      }
    },
    {
      "cell_type": "code",
      "source": [
        "ventas_mensuales = [2400, 2700, 3100, 1500, 3400, 2600, 2200, 2900, 1800, 3000, 3200, 2100]\n",
        "meta = 2500"
      ],
      "metadata": {
        "id": "mG-ZAESYYAJ1"
      },
      "execution_count": null,
      "outputs": []
    },
    {
      "cell_type": "code",
      "source": [
        "# Completa el código para evaluar cuántos meses se superó la meta de ventas\n",
        "superaron_meta = 0\n",
        "no_superaron_meta = 0"
      ],
      "metadata": {
        "id": "hM1T9385ZTfq"
      },
      "execution_count": null,
      "outputs": []
    },
    {
      "cell_type": "code",
      "source": [
        "for i in ventas_mensuales:\n",
        "    if i > meta:\n",
        "        superaron_meta += 1\n",
        "    else:\n",
        "        no_superaron_meta += 1"
      ],
      "metadata": {
        "id": "NWC-6mgVY916"
      },
      "execution_count": null,
      "outputs": []
    },
    {
      "cell_type": "code",
      "source": [
        "# Completa el código para imprimir los meses que se superan la meta y los meses que no\n",
        "print(\"Meses que superaron la meta: \", meses_superaron_meta)\n",
        "print(\"Meses que no superaron la meta: \", meses_no_superaron_meta)"
      ],
      "metadata": {
        "colab": {
          "base_uri": "https://localhost:8080/"
        },
        "id": "-TuvOHOdZbBB",
        "outputId": "5304ec1b-a6e3-4948-9122-6c7d2a787820"
      },
      "execution_count": null,
      "outputs": [
        {
          "output_type": "stream",
          "name": "stdout",
          "text": [
            "Meses que superaron la meta:  7\n",
            "Meses que no superaron la meta:  5\n"
          ]
        }
      ]
    },
    {
      "cell_type": "markdown",
      "source": [
        "🚀 Otra forma..."
      ],
      "metadata": {
        "id": "6UU5Ic0NZkKh"
      }
    },
    {
      "cell_type": "code",
      "source": [
        "# Completa el código para evaluar cuántos meses se superó la meta de ventas\n",
        "meses_superaron_meta = sum(venta >= meta for venta in ventas_mensuales)\n",
        "meses_no_superaron_meta = sum(venta < meta for venta in ventas_mensuales)"
      ],
      "metadata": {
        "id": "UEDIPIVXYDY4"
      },
      "execution_count": null,
      "outputs": []
    },
    {
      "cell_type": "code",
      "source": [
        "# Completa el código para imprimir los meses que se superan la meta y los meses que no\n",
        "print(\"Meses que superaron la meta: \", meses_superaron_meta)\n",
        "print(\"Meses que no superaron la meta: \", meses_no_superaron_meta)"
      ],
      "metadata": {
        "colab": {
          "base_uri": "https://localhost:8080/"
        },
        "id": "YXu_3OFRYvjb",
        "outputId": "732b71f8-bc34-47af-cdce-01e2ed9e1f2a"
      },
      "execution_count": null,
      "outputs": [
        {
          "output_type": "stream",
          "name": "stdout",
          "text": [
            "Meses que superaron la meta:  7\n",
            "Meses que no superaron la meta:  5\n"
          ]
        }
      ]
    },
    {
      "cell_type": "markdown",
      "source": [
        "## **<font color=\"DarkBlue\">Ejercicio 3: Segmentación de clientes 💔</font>**"
      ],
      "metadata": {
        "id": "hEeVDYqKpsDC"
      }
    },
    {
      "cell_type": "markdown",
      "source": [
        "✅ Tarea: Segmenta una lista de clientes en diferentes grupos según su gasto promedio mensual y determina el número de clientes en cada segmento."
      ],
      "metadata": {
        "id": "a4iAaTJppsgc"
      }
    },
    {
      "cell_type": "code",
      "source": [
        "clientes = [{\"nombre\": \"Cliente1\", \"gasto_mensual\": 1200},\n",
        "            {\"nombre\": \"Cliente2\", \"gasto_mensual\": 2500},\n",
        "            {\"nombre\": \"Cliente3\", \"gasto_mensual\": 800},\n",
        "            {\"nombre\": \"Cliente4\", \"gasto_mensual\": 3000},\n",
        "            {\"nombre\": \"Cliente5\", \"gasto_mensual\": 1800}]"
      ],
      "metadata": {
        "id": "ywUVb7_WptE9"
      },
      "execution_count": null,
      "outputs": []
    },
    {
      "cell_type": "code",
      "source": [
        "segmento_bajo = 0\n",
        "segmento_medio = 0\n",
        "segmento_alto = 0"
      ],
      "metadata": {
        "id": "O1C2IwKKqh-m"
      },
      "execution_count": null,
      "outputs": []
    },
    {
      "cell_type": "code",
      "source": [
        "# Completa el código para segmentar a los clientes\n",
        "for i :\n",
        "    if i[\"gasto_mensual\"] < 1000:\n",
        "\n",
        "    elif 1000 <= i[\"gasto_mensual\"] < 2000:\n",
        "\n",
        "    else:\n"
      ],
      "metadata": {
        "id": "pNA-m_mA8naS"
      },
      "execution_count": null,
      "outputs": []
    },
    {
      "cell_type": "code",
      "source": [
        "print()\n",
        "print()\n",
        "print()"
      ],
      "metadata": {
        "id": "tuyOb5318qdh"
      },
      "execution_count": null,
      "outputs": []
    },
    {
      "cell_type": "markdown",
      "source": [
        "🚀 Respuesta sugerida..."
      ],
      "metadata": {
        "id": "ryKXApC9ZttC"
      }
    },
    {
      "cell_type": "code",
      "source": [
        "clientes = [{\"nombre\": \"Cliente1\", \"gasto_mensual\": 1200},\n",
        "            {\"nombre\": \"Cliente2\", \"gasto_mensual\": 2500},\n",
        "            {\"nombre\": \"Cliente3\", \"gasto_mensual\": 800},\n",
        "            {\"nombre\": \"Cliente4\", \"gasto_mensual\": 3000},\n",
        "            {\"nombre\": \"Cliente5\", \"gasto_mensual\": 1800}]"
      ],
      "metadata": {
        "id": "FpehfylVZuvv"
      },
      "execution_count": null,
      "outputs": []
    },
    {
      "cell_type": "code",
      "source": [
        "segmento_bajo = 0\n",
        "segmento_medio = 0\n",
        "segmento_alto = 0"
      ],
      "metadata": {
        "id": "GlTj_TK-Zy92"
      },
      "execution_count": null,
      "outputs": []
    },
    {
      "cell_type": "code",
      "source": [
        "# Completa el código para segmentar a los clientes\n",
        "for cliente in clientes:\n",
        "    if cliente[\"gasto_mensual\"] < 1000:\n",
        "        segmento_bajo += 1\n",
        "    elif 1000 <= cliente[\"gasto_mensual\"] < 2000:\n",
        "        segmento_medio += 1\n",
        "    else:\n",
        "        segmento_alto += 1"
      ],
      "metadata": {
        "id": "deEbJVtPZ14D"
      },
      "execution_count": null,
      "outputs": []
    },
    {
      "cell_type": "code",
      "source": [
        "print(f\"Número de clientes en el segmento bajo: {segmento_bajo}\")\n",
        "print(f\"Número de clientes en el segmento medio: {segmento_medio}\")\n",
        "print(f\"Número de clientes en el segmento alto: {segmento_alto}\")"
      ],
      "metadata": {
        "colab": {
          "base_uri": "https://localhost:8080/"
        },
        "id": "_KRAFAPiakU6",
        "outputId": "11e2d2d0-01fb-4655-c694-bb03d12a3a1e"
      },
      "execution_count": null,
      "outputs": [
        {
          "output_type": "stream",
          "name": "stdout",
          "text": [
            "Número de clientes en el segmento bajo: 1\n",
            "Número de clientes en el segmento medio: 2\n",
            "Número de clientes en el segmento alto: 2\n"
          ]
        }
      ]
    },
    {
      "cell_type": "markdown",
      "source": [
        "<p align=\"center\"><b>\n",
        "💗\n",
        "<font color=\"DarkBlue\">\n",
        "Hemos llegado al final de nuestra ejercitación en colab, a seguir ejercitando...\n",
        "</font>\n",
        "</p>\n",
        "\n"
      ],
      "metadata": {
        "id": "jLFcCFoEuxr6"
      }
    }
  ]
}