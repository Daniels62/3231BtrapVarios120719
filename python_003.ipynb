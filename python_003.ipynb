{
  "nbformat": 4,
  "nbformat_minor": 0,
  "metadata": {
    "colab": {
      "provenance": [],
      "toc_visible": true,
      "include_colab_link": true
    },
    "kernelspec": {
      "name": "python3",
      "display_name": "Python 3"
    },
    "language_info": {
      "name": "python"
    }
  },
  "cells": [
    {
      "cell_type": "markdown",
      "metadata": {
        "id": "view-in-github",
        "colab_type": "text"
      },
      "source": [
        "<a href=\"https://colab.research.google.com/github/Daniels62/3231BtrapVarios120719/blob/master/python_003.ipynb\" target=\"_parent\"><img src=\"https://colab.research.google.com/assets/colab-badge.svg\" alt=\"Open In Colab\"/></a>"
      ]
    },
    {
      "cell_type": "markdown",
      "source": [
        "# **<font color=\"DarkBlue\">Funciones, Lambda, y Generadores</font>**"
      ],
      "metadata": {
        "id": "_fRBXj8mbrnO"
      }
    },
    {
      "cell_type": "markdown",
      "source": [
        "<p align=\"center\">\n",
        "<img src=\"https://pypi.org/static/images/logo-small.8998e9d1.svg\" width=\"90\" height=\"\">\n",
        "</p>"
      ],
      "metadata": {
        "id": "gjpEYi_23t-3"
      }
    },
    {
      "cell_type": "markdown",
      "source": [
        "<p align=\"justify\"><b>\n",
        "<font color=\"DarkBlue\">\n",
        "💗 Todo el mundo deberia aprender a programar, porque te enseña a pensar...\n",
        "</font>\n",
        "</p>\n",
        "<p align=\"right\"><b>\n",
        "<font color=\"DarkBlue\">\n",
        "Steve Jobs (1995)\n",
        "</font>\n",
        "</p>\n",
        "<br>\n",
        "<br>\n",
        "\n"
      ],
      "metadata": {
        "id": "rGyq57WV2bpw"
      }
    },
    {
      "cell_type": "markdown",
      "source": [
        "<p align=\"justify\">\n",
        "En este colab, vamos a desarrollar todo tipo de funciones. Las funciones son el método principal y más importante de organización y reutilización de código en Python. Como regla general, si se puede anticipar la necesidad de repetir el mismo código o de utilizar un código similar más de una vez, entonces vale la pena escribir una función reutilizable. <br><br> Las funciones también pueden ayudar a que el código sea más legible al asignar un nombre a un grupo de instrucciones de Python.\n",
        "</p>\n"
      ],
      "metadata": {
        "id": "xvkv1nfK4Sb5"
      }
    },
    {
      "cell_type": "markdown",
      "source": [
        "<p>\n",
        "<font color=\"DarkBlue\">\n",
        "\n",
        "**👀 Antes que nada, verificamos la versión de Python con la cual estamos trabajando...**\n",
        "\n",
        "</font>\n",
        "</p>"
      ],
      "metadata": {
        "id": "3-DeGerFPc93"
      }
    },
    {
      "cell_type": "code",
      "source": [
        "!python --version"
      ],
      "metadata": {
        "colab": {
          "base_uri": "https://localhost:8080/"
        },
        "id": "DNQXRjfXPh6h",
        "outputId": "ce95684e-e6c4-4199-f725-7c03c06fa518"
      },
      "execution_count": null,
      "outputs": [
        {
          "output_type": "stream",
          "name": "stdout",
          "text": [
            "Python 3.10.12\n"
          ]
        }
      ]
    },
    {
      "cell_type": "markdown",
      "source": [
        "# **<font color=\"DarkBlue\">Funciones</font>**"
      ],
      "metadata": {
        "id": "XT98imCoES2-"
      }
    },
    {
      "cell_type": "markdown",
      "source": [
        "<p align=\"justify\">\n",
        "Las funciones en Python son bloques de código reutilizables que realizan una tarea específica. Permiten dividir un script en partes más pequeñas y manejables, mejorando la legibilidad y facilitando el mantenimiento y la reutilización del código..."
      ],
      "metadata": {
        "id": "5-tb2MWJQo1H"
      }
    },
    {
      "cell_type": "markdown",
      "source": [
        "## **<font color=\"DarkBlue\">Declarando funciones</font>**"
      ],
      "metadata": {
        "id": "v8abc96k3sr9"
      }
    },
    {
      "cell_type": "markdown",
      "source": [
        "<p align=\"justify\">\n",
        "Las funciones se declaran con la palabra clave <code>def</code>. Una función contiene un bloque de código con un uso opcional de la palabra clave <code>return</code>.<br><br> La sintaxis quedaría así:\n",
        "</p>\n"
      ],
      "metadata": {
        "id": "OrOEIgsY5jih"
      }
    },
    {
      "cell_type": "markdown",
      "source": [
        "```python\n",
        "def nombre_funcion(x, y):\n",
        "    return x + y\n",
        "```"
      ],
      "metadata": {
        "id": "j9Di-6E1zT-X"
      }
    },
    {
      "cell_type": "markdown",
      "source": [
        "<p align=\"justify\">\n",
        "El nombre de la función es el identificador de la misma, con ese identificador vamos a llamar a la función para usarla. Los parametros de la función son una lista de idenfificadores opcionales. Todos los parametros que se definan en la función, deben estar separados por comas.<br><br>Luego tenemos el cuerpo de la función, es lo que está dentro de la misma, y en ella se encuentra una secuencia de instrucciones que se ejecutan cuando se llama a la función.\n",
        "<br><br>\n",
        "👀 Ejemplo:\n"
      ],
      "metadata": {
        "id": "aCPACZg5SwTR"
      }
    },
    {
      "cell_type": "code",
      "source": [
        "def saludar():\n",
        "    print(\"Hola, bienvenido a Python para análisis de datos!\")"
      ],
      "metadata": {
        "id": "OXj3BPqtRZMV"
      },
      "execution_count": null,
      "outputs": []
    },
    {
      "cell_type": "code",
      "source": [
        "saludar()"
      ],
      "metadata": {
        "colab": {
          "base_uri": "https://localhost:8080/"
        },
        "id": "cfAo4BfVRsnO",
        "outputId": "363fe611-bfaa-4787-d677-c5a57f319445"
      },
      "execution_count": null,
      "outputs": [
        {
          "output_type": "stream",
          "name": "stdout",
          "text": [
            "Hola, bienvenido a Python para análisis de datos!\n"
          ]
        }
      ]
    },
    {
      "cell_type": "code",
      "source": [
        "def saludar(nombre):\n",
        "    print(f\"Hola {nombre}, bienvenido a Python para análisis de datos!\")"
      ],
      "metadata": {
        "id": "CmzQE9ICR92S"
      },
      "execution_count": null,
      "outputs": []
    },
    {
      "cell_type": "code",
      "source": [
        "saludar(\"Martín\")"
      ],
      "metadata": {
        "colab": {
          "base_uri": "https://localhost:8080/"
        },
        "id": "tGMf9G9yR_2Z",
        "outputId": "64234a58-cbff-4269-861f-10dc7c46d146"
      },
      "execution_count": null,
      "outputs": [
        {
          "output_type": "stream",
          "name": "stdout",
          "text": [
            "Hola Martín, bienvenido a Python para análisis de datos!\n"
          ]
        }
      ]
    },
    {
      "cell_type": "markdown",
      "source": [
        "## **<font color=\"DarkBlue\">Con varios parámetros</font>**"
      ],
      "metadata": {
        "id": "qgFQH_yaSzUC"
      }
    },
    {
      "cell_type": "markdown",
      "source": [
        "👀 Otro ejemplo, más complejo, funciones con varios parámetros..."
      ],
      "metadata": {
        "id": "fqV78BkmRP7T"
      }
    },
    {
      "cell_type": "code",
      "source": [
        "act = 1000\n",
        "pas = 600\n",
        "pneto = 400"
      ],
      "metadata": {
        "id": "xBOnvS-Mzrln"
      },
      "execution_count": null,
      "outputs": []
    },
    {
      "cell_type": "code",
      "source": [
        "def ecuacion_patrimonial(act, pas, pneto):\n",
        "  print(f\"El activo es de {act}, el pasivo de {pas} y el patrimonio neto de {pneto}\")\n",
        "  if act == (pas + pneto):\n",
        "    print(f\"El activo es igual al pasivo mas el patrimonio neto\")\n",
        "  else:\n",
        "    print(f\"No se cumple con la ecuación patrimonial\")"
      ],
      "metadata": {
        "id": "qV-AaXBDzriU"
      },
      "execution_count": null,
      "outputs": []
    },
    {
      "cell_type": "code",
      "source": [
        "ecuacion_patrimonial(act=act, pas=pas, pneto=pneto)"
      ],
      "metadata": {
        "colab": {
          "base_uri": "https://localhost:8080/"
        },
        "id": "5x_NTc7ozrfr",
        "outputId": "2b23e604-8b3a-4545-dfc6-aad08b99f27e"
      },
      "execution_count": null,
      "outputs": [
        {
          "output_type": "stream",
          "name": "stdout",
          "text": [
            "El activo es de 1000, el pasivo de 600 y el patrimonio neto de 400\n",
            "El activo es igual al pasivo mas el patrimonio neto\n"
          ]
        }
      ]
    },
    {
      "cell_type": "code",
      "source": [
        "ecuacion_patrimonial(act=1200, pas=500, pneto=600)"
      ],
      "metadata": {
        "colab": {
          "base_uri": "https://localhost:8080/"
        },
        "id": "_2qaDlUPOSsP",
        "outputId": "2503a114-04fa-4921-82bc-a39ffda69a28"
      },
      "execution_count": null,
      "outputs": [
        {
          "output_type": "stream",
          "name": "stdout",
          "text": [
            "El activo es de 1200, el pasivo de 500 y el patrimonio neto de 600\n",
            "No se cumple con la ecuación patrimonial\n"
          ]
        }
      ]
    },
    {
      "cell_type": "markdown",
      "source": [
        "<p align=\"justify\">\n",
        "👀 Las funciones pueden tener un número arbitrario de argumentos, para ello se antepone uno de los argumentos con un <code>*</code>.</p>\n"
      ],
      "metadata": {
        "id": "6-Z9IchYWjE1"
      }
    },
    {
      "cell_type": "markdown",
      "source": [
        "```python\n",
        "def nombre_funcion(*args):\n",
        "    return\n",
        "```"
      ],
      "metadata": {
        "id": "zHRsyXaNXLyq"
      }
    },
    {
      "cell_type": "code",
      "source": [
        "def argumentos(*args, numero):\n",
        "  for i in args:\n",
        "    print(f\"{i*numero}\")"
      ],
      "metadata": {
        "id": "Qwt8Fu1FZVq9"
      },
      "execution_count": null,
      "outputs": []
    },
    {
      "cell_type": "code",
      "source": [
        "argumentos(1,2,3,4, numero=2)"
      ],
      "metadata": {
        "colab": {
          "base_uri": "https://localhost:8080/"
        },
        "id": "7X8N6i_OZk3c",
        "outputId": "f2881f31-e087-4214-cab4-e38ff4ab5849"
      },
      "execution_count": null,
      "outputs": [
        {
          "output_type": "stream",
          "name": "stdout",
          "text": [
            "2\n",
            "4\n",
            "6\n",
            "8\n"
          ]
        }
      ]
    },
    {
      "cell_type": "markdown",
      "source": [
        "<p align=\"justify\">\n",
        "👀 Las funciones tambien pueden tener un número arbitrario de argumentos con nombre, para ello se antepone a uno de los argumentos con dos <code>**</code>.</p>\n"
      ],
      "metadata": {
        "id": "mnp6BDOSXV2J"
      }
    },
    {
      "cell_type": "markdown",
      "source": [
        "```python\n",
        "def nombre_funcion(**kargs):\n",
        "    return\n",
        "```"
      ],
      "metadata": {
        "id": "z29s2nuyYuPd"
      }
    },
    {
      "cell_type": "code",
      "source": [
        "def nombre_argumentos(ejercicio, **kwargs):\n",
        "  print(f\"Ejercicio {ejercicio}\")\n",
        "  print(\"--------------\")\n",
        "  for nombre, valor in kwargs.items():\n",
        "    print(nombre, valor)"
      ],
      "metadata": {
        "id": "WegBsLXqbWjD"
      },
      "execution_count": null,
      "outputs": []
    },
    {
      "cell_type": "code",
      "source": [
        "nombre_argumentos(ejercicio= 2023, Activo=1000, Pasivo=400, PNeto=600)"
      ],
      "metadata": {
        "colab": {
          "base_uri": "https://localhost:8080/"
        },
        "id": "o2ncOFo8buHQ",
        "outputId": "21a7dc6c-0bb9-447f-ebbd-bb3b69cd6342"
      },
      "execution_count": null,
      "outputs": [
        {
          "output_type": "stream",
          "name": "stdout",
          "text": [
            "Ejercicio 2023\n",
            "--------------\n",
            "Activo 1000\n",
            "Pasivo 400\n",
            "PNeto 600\n"
          ]
        }
      ]
    },
    {
      "cell_type": "markdown",
      "source": [
        "## **<font color=\"DarkBlue\">Con parámetros por defecto</font>**"
      ],
      "metadata": {
        "id": "GsolHQCJS-MR"
      }
    },
    {
      "cell_type": "markdown",
      "source": [
        "<p align=\"justify\">\n",
        "Se pueden definir valores por defecto para los parámetros, que se usarán si no se proporciona un valor en la llamada a la función.\n",
        "\n"
      ],
      "metadata": {
        "id": "Jr7iCI8rTCtt"
      }
    },
    {
      "cell_type": "code",
      "source": [
        "def saludar(nombre=\"visitante\"):\n",
        "    print(f\"Hola {nombre}, bienvenido a Python para análisis de datos!\")"
      ],
      "metadata": {
        "id": "XeQ0vmg8TNT7"
      },
      "execution_count": null,
      "outputs": []
    },
    {
      "cell_type": "code",
      "source": [
        "# Llamadas a la función\n",
        "saludar()\n",
        "saludar(\"Gustavo Raúl\")"
      ],
      "metadata": {
        "colab": {
          "base_uri": "https://localhost:8080/"
        },
        "id": "HQSRy1cWTQ0X",
        "outputId": "57a621d0-7462-4658-deed-39d3f2a1a2b0"
      },
      "execution_count": null,
      "outputs": [
        {
          "output_type": "stream",
          "name": "stdout",
          "text": [
            "Hola visitante, bienvenido a Python para análisis de datos!\n",
            "Hola Gustavo Raúl, bienvenido a Python para análisis de datos!\n"
          ]
        }
      ]
    },
    {
      "cell_type": "markdown",
      "source": [
        "👀 Otro ejemplo:"
      ],
      "metadata": {
        "id": "IL2TMH1zUBCR"
      }
    },
    {
      "cell_type": "code",
      "source": [
        "def calcular_precio_total(precios, impuesto=0.21):\n",
        "    total = sum(precios)\n",
        "    total_con_impuesto = total * (1 + impuesto)\n",
        "    return total_con_impuesto"
      ],
      "metadata": {
        "id": "qsXqe_N-UE3x"
      },
      "execution_count": null,
      "outputs": []
    },
    {
      "cell_type": "code",
      "source": [
        "# Lista de precios de productos\n",
        "precios_productos = [100, 200, 300]"
      ],
      "metadata": {
        "id": "SqhGycLcUItJ"
      },
      "execution_count": null,
      "outputs": []
    },
    {
      "cell_type": "code",
      "source": [
        "# Llamada a la función\n",
        "precio_total = calcular_precio_total(precios_productos)\n",
        "print(f\"El precio total con impuesto es: {precio_total}\")"
      ],
      "metadata": {
        "colab": {
          "base_uri": "https://localhost:8080/"
        },
        "id": "6K5L-GmoUMpR",
        "outputId": "19256c3d-0ce5-4821-8017-7ea55d7c4577"
      },
      "execution_count": null,
      "outputs": [
        {
          "output_type": "stream",
          "name": "stdout",
          "text": [
            "El precio total con impuesto es: 726.0\n"
          ]
        }
      ]
    },
    {
      "cell_type": "markdown",
      "source": [
        "## **<font color=\"DarkBlue\">Devolver varios valores</font>**"
      ],
      "metadata": {
        "id": "dK4NTkq5RUNY"
      }
    },
    {
      "cell_type": "code",
      "source": [
        "act = 1000\n",
        "pas = 600\n",
        "pneto = 400"
      ],
      "metadata": {
        "id": "D6694BjIUBw_"
      },
      "execution_count": null,
      "outputs": []
    },
    {
      "cell_type": "code",
      "source": [
        "def f():\n",
        "    a = act\n",
        "    b = pas\n",
        "    c = pneto\n",
        "    return a, b, c"
      ],
      "metadata": {
        "id": "eq1fnM7LQxqp"
      },
      "execution_count": null,
      "outputs": []
    },
    {
      "cell_type": "code",
      "source": [
        "activo, pasivo, pneto = f()"
      ],
      "metadata": {
        "id": "8w33s0XaQxnS"
      },
      "execution_count": null,
      "outputs": []
    },
    {
      "cell_type": "code",
      "source": [
        "activo"
      ],
      "metadata": {
        "colab": {
          "base_uri": "https://localhost:8080/"
        },
        "id": "qYzzfE-PQxZT",
        "outputId": "7f80e2e0-dc38-422d-bdfd-1f13c425f56b"
      },
      "execution_count": null,
      "outputs": [
        {
          "output_type": "execute_result",
          "data": {
            "text/plain": [
              "1000"
            ]
          },
          "metadata": {},
          "execution_count": 27
        }
      ]
    },
    {
      "cell_type": "code",
      "source": [
        "pasivo"
      ],
      "metadata": {
        "colab": {
          "base_uri": "https://localhost:8080/"
        },
        "id": "NC9TumT8QxWC",
        "outputId": "32dea1f4-53d8-4871-b303-9f8a52f53d94"
      },
      "execution_count": null,
      "outputs": [
        {
          "output_type": "execute_result",
          "data": {
            "text/plain": [
              "600"
            ]
          },
          "metadata": {},
          "execution_count": 28
        }
      ]
    },
    {
      "cell_type": "code",
      "source": [
        "pneto"
      ],
      "metadata": {
        "colab": {
          "base_uri": "https://localhost:8080/"
        },
        "id": "vQx0GbB8QxTc",
        "outputId": "e5b7b109-5569-4d76-cfe1-8a0fe2c02713"
      },
      "execution_count": null,
      "outputs": [
        {
          "output_type": "execute_result",
          "data": {
            "text/plain": [
              "400"
            ]
          },
          "metadata": {},
          "execution_count": 29
        }
      ]
    },
    {
      "cell_type": "markdown",
      "source": [
        "<p align=\"justify\">\n",
        "En ciencia de datos es posible que te encuentres haciendo esto a menudo. Lo que está sucediendo es que la función en realidad solo devuelve un objeto, una tupla, que luego se desempaqueta en las variables de resultado. <br><br>En el ejemplo anterior, podríamos haber hecho esto en su lugar:\n",
        "</p>\n"
      ],
      "metadata": {
        "id": "oRSdbUS9SENJ"
      }
    },
    {
      "cell_type": "code",
      "source": [
        "def f():\n",
        "    a = act\n",
        "    b = pas\n",
        "    c = pneto\n",
        "    return a, b, c"
      ],
      "metadata": {
        "id": "Wtz2I1ffQxRK"
      },
      "execution_count": null,
      "outputs": []
    },
    {
      "cell_type": "code",
      "source": [
        "componentes = f()"
      ],
      "metadata": {
        "id": "XUWzyKpVR6I7"
      },
      "execution_count": null,
      "outputs": []
    },
    {
      "cell_type": "code",
      "source": [
        "componentes"
      ],
      "metadata": {
        "colab": {
          "base_uri": "https://localhost:8080/"
        },
        "id": "cnn8L_VvR6FY",
        "outputId": "5dc0f5fa-7342-4bad-e0d8-83c2ce9e910d"
      },
      "execution_count": null,
      "outputs": [
        {
          "output_type": "execute_result",
          "data": {
            "text/plain": [
              "(1000, 600, 400)"
            ]
          },
          "metadata": {},
          "execution_count": 32
        }
      ]
    },
    {
      "cell_type": "markdown",
      "source": [
        "<p align=\"justify\">\n",
        "👀 Otra alternativa...</p>\n"
      ],
      "metadata": {
        "id": "cfjxqCnmTPWA"
      }
    },
    {
      "cell_type": "code",
      "source": [
        "def f():\n",
        "    a = act\n",
        "    b = pas\n",
        "    c = pneto\n",
        "    return {\"Activo\" : a, \"Pasivo\" : b, \"Patrimonio Neto\" : c}"
      ],
      "metadata": {
        "id": "Dx0wr_8HR57z"
      },
      "execution_count": null,
      "outputs": []
    },
    {
      "cell_type": "code",
      "source": [
        "componentes = f()"
      ],
      "metadata": {
        "id": "sG6-X-M1R54S"
      },
      "execution_count": null,
      "outputs": []
    },
    {
      "cell_type": "code",
      "source": [
        "componentes"
      ],
      "metadata": {
        "colab": {
          "base_uri": "https://localhost:8080/"
        },
        "id": "q9aNG_CXR51n",
        "outputId": "0f45dbf1-a4b1-44c9-f37d-9acb31856044"
      },
      "execution_count": null,
      "outputs": [
        {
          "output_type": "execute_result",
          "data": {
            "text/plain": [
              "{'Activo': 1000, 'Pasivo': 600, 'Patrimonio Neto': 400}"
            ]
          },
          "metadata": {},
          "execution_count": 35
        }
      ]
    },
    {
      "cell_type": "markdown",
      "source": [
        "## **<font color=\"DarkBlue\">Las funciones son objetos</font>**"
      ],
      "metadata": {
        "id": "DOpaN4LjV5yM"
      }
    },
    {
      "cell_type": "markdown",
      "source": [
        "<p align=\"justify\">\n",
        "Dado que las funciones de Python son objetos, se pueden expresar fácilmente muchas construcciones que son difíciles de hacer en otros lenguajes. Supongamos que estuviéramos haciendo una limpieza de datos y necesitáramos aplicar un montón de transformaciones a la siguiente lista de cadenas:\n",
        "</p>\n"
      ],
      "metadata": {
        "id": "IbwuVrPPWAqN"
      }
    },
    {
      "cell_type": "code",
      "source": [
        "cuyo = [\"    Mendoza\", \"SAn Juan!\", \"San Luis###\", \"san luis\", \"La Rioja?\"]"
      ],
      "metadata": {
        "id": "wNBKOP3iR5zC"
      },
      "execution_count": null,
      "outputs": []
    },
    {
      "cell_type": "markdown",
      "source": [
        "<p align=\"justify\">\n",
        "Es muy probable que al trabajar con datos de encuestas enviadas por los usuarios ha visto resultados desordenados como estos. Es necesario que sucedan muchas cosas para que esta lista de cadenas sea uniforme y esté lista para el análisis:<br>\n",
        "<ul>\n",
        "<li> eliminar los espacios en blanco,</li><li>eliminar los símbolos de puntuación y</li><li>estandarizar las mayúsculas adecuadas.</li></p>"
      ],
      "metadata": {
        "id": "eCsCeWtcW3PE"
      }
    },
    {
      "cell_type": "markdown",
      "source": [
        "<p align=\"justify\">\n",
        "👀 Una forma de hacerlo es usar métodos de cadena integrados junto con el módulo de biblioteca estándar para expresiones regulares <code>re</code></p>\n",
        "\n",
        "\n"
      ],
      "metadata": {
        "id": "NQphFlCHXe3Y"
      }
    },
    {
      "cell_type": "markdown",
      "source": [
        "<p align=\"justify\">\n",
        "La biblioteca <code>re</code> es una herramienta poderosa para trabajar con expresiones regulares. Las expresiones regulares son secuencias de caracteres que forman un patrón de búsqueda. Esta biblioteca proporciona una interfaz para realizar operaciones de búsqueda y manipulación de texto que se ajustan a patrones específicos.\n",
        "<br><br>\n",
        "\n",
        "<p align=\"jusfify\">\n",
        "Aplicaciones de <code>re</code>\n",
        "<br><br>\n",
        "\n",
        "- **Validación de Datos:** Comprobar si una cadena cumple con un formato específico (como direcciones de correo electrónico, números de teléfono).\n",
        "- **Extracción de Información:** Extraer subcadenas que coincidan con un patrón de interés.\n",
        "- **Sustitución de Texto:** Reemplazar partes de una cadena basadas en patrones específicos.\n",
        "- **División de Texto:** Dividir cadenas en base a patrones delimitadores.\n",
        "\n"
      ],
      "metadata": {
        "id": "1IUMHkbkVWPA"
      }
    },
    {
      "cell_type": "code",
      "source": [
        "import re"
      ],
      "metadata": {
        "id": "F7m8N_z2YTPu"
      },
      "execution_count": null,
      "outputs": []
    },
    {
      "cell_type": "code",
      "source": [
        "def limpieza(palabras):\n",
        "  resultado = []\n",
        "  for i in palabras:\n",
        "    i = i.strip()\n",
        "    i = re.sub(\"[!#?]\", \"\", i)\n",
        "    i = i.title()\n",
        "    resultado.append(i)\n",
        "  return resultado"
      ],
      "metadata": {
        "id": "2XuRs86FUuVv"
      },
      "execution_count": null,
      "outputs": []
    },
    {
      "cell_type": "code",
      "source": [
        "cuyo"
      ],
      "metadata": {
        "colab": {
          "base_uri": "https://localhost:8080/"
        },
        "id": "808YBsmLUuS0",
        "outputId": "accba97c-073a-46e9-8477-9016b3deafd4"
      },
      "execution_count": null,
      "outputs": [
        {
          "output_type": "execute_result",
          "data": {
            "text/plain": [
              "['    Mendoza', 'SAn Juan!', 'San Luis###', 'san luis', 'La Rioja?']"
            ]
          },
          "metadata": {},
          "execution_count": 24
        }
      ]
    },
    {
      "cell_type": "code",
      "source": [
        "limpieza(cuyo)"
      ],
      "metadata": {
        "colab": {
          "base_uri": "https://localhost:8080/"
        },
        "id": "Z-Wow50XUuQn",
        "outputId": "31836af0-5ecd-4ff2-c14d-7eb4bfa96e51"
      },
      "execution_count": null,
      "outputs": [
        {
          "output_type": "execute_result",
          "data": {
            "text/plain": [
              "['Mendoza', 'San Juan', 'San Luis', 'San Luis', 'La Rioja']"
            ]
          },
          "metadata": {},
          "execution_count": 25
        }
      ]
    },
    {
      "cell_type": "markdown",
      "source": [
        "# **<font color=\"DarkBlue\">Funciones anónimas (Lambda)</font>**"
      ],
      "metadata": {
        "id": "OUJ_qewRZ41Q"
      }
    },
    {
      "cell_type": "markdown",
      "source": [
        "<p align=\"justify\">\n",
        "👀 Tambien se pueden declarar las llamadas funciones anónimas o funciones lambda. Las funciones lambda, también conocidas como funciones anónimas, son una forma concisa de definir funciones pequeñas y de una sola línea. Estas funciones no tienen un nombre explícito y se utilizan generalmente para operaciones simples que se usan temporalmente\n",
        "<br><br>\n",
        "Por tal motivo son una forma de escribir funciones que consisten en una sola línea de código, cuyo resultado es el valor devuelto. Se definen con la palabra clave <code>lambda</code>, que no tiene otro significado que \"estamos declarando una función anónima\"...\n",
        "</p>\n"
      ],
      "metadata": {
        "id": "dlBUBqG8ah6U"
      }
    },
    {
      "cell_type": "code",
      "source": [
        "def potencia_cuadrada(x):\n",
        "  return x ** 2"
      ],
      "metadata": {
        "id": "L6HobBh1QxO0"
      },
      "execution_count": null,
      "outputs": []
    },
    {
      "cell_type": "code",
      "source": [
        "type(potencia_cuadrada)"
      ],
      "metadata": {
        "colab": {
          "base_uri": "https://localhost:8080/"
        },
        "id": "_YrILbu1CkNR",
        "outputId": "a783eb3f-df4b-4272-ba1f-49c0b830cfae"
      },
      "execution_count": null,
      "outputs": [
        {
          "output_type": "execute_result",
          "data": {
            "text/plain": [
              "function"
            ]
          },
          "metadata": {},
          "execution_count": 37
        }
      ]
    },
    {
      "cell_type": "code",
      "source": [
        "calculo = lambda x: x**3"
      ],
      "metadata": {
        "id": "cutDdMp-ZYCP"
      },
      "execution_count": null,
      "outputs": []
    },
    {
      "cell_type": "code",
      "source": [
        "type(calculo)"
      ],
      "metadata": {
        "colab": {
          "base_uri": "https://localhost:8080/"
        },
        "id": "tlFWHdIZCoRK",
        "outputId": "0c9eb732-73b1-4fe1-9674-01dbe6c6e820"
      },
      "execution_count": null,
      "outputs": [
        {
          "output_type": "execute_result",
          "data": {
            "text/plain": [
              "function"
            ]
          },
          "metadata": {},
          "execution_count": 39
        }
      ]
    },
    {
      "cell_type": "code",
      "source": [
        "calculo(5)"
      ],
      "metadata": {
        "colab": {
          "base_uri": "https://localhost:8080/"
        },
        "id": "TOaFu0Mwe1k7",
        "outputId": "77d6f672-e640-4c47-e243-7d9654f19ccd"
      },
      "execution_count": null,
      "outputs": [
        {
          "output_type": "execute_result",
          "data": {
            "text/plain": [
              "125"
            ]
          },
          "metadata": {},
          "execution_count": 40
        }
      ]
    },
    {
      "cell_type": "markdown",
      "source": [
        "<p align=\"justify\">\n",
        "👀 Las funciones lambda generalmente son funciones cortas. Normalmente se utilizan con <code>sorted</code>, <code>filter</code> y <code>map</code>.Su conveniencia es porque estas funciones no son almacenadas en memoria. Por ese motivo, se utilizan cuando se requieren.\n",
        "</p>\n"
      ],
      "metadata": {
        "id": "-9eCl99FfVJ7"
      }
    },
    {
      "cell_type": "markdown",
      "source": [
        "<p align=\"justify\">\n",
        "👀 Supongamos que una empresa ofrece descuentos en sus productos. Deseamos aplicar un descuento a un precio dado."
      ],
      "metadata": {
        "id": "hcFKvLLHXOog"
      }
    },
    {
      "cell_type": "code",
      "source": [
        "# Función lambda para aplicar un descuento del 10%\n",
        "descuento = lambda precio: precio * 0.90"
      ],
      "metadata": {
        "id": "aRuJH_-fYFyz"
      },
      "execution_count": null,
      "outputs": []
    },
    {
      "cell_type": "code",
      "source": [
        "# Aplicar el descuento a un precio\n",
        "precio_original = 100\n",
        "precio_con_descuento = descuento(precio_original)\n",
        "print(precio_con_descuento)  # Output: 90.0"
      ],
      "metadata": {
        "colab": {
          "base_uri": "https://localhost:8080/"
        },
        "id": "ft1sdqihXKgb",
        "outputId": "4dbccc7b-be4a-4fa2-b890-8f08a0ca6676"
      },
      "execution_count": null,
      "outputs": [
        {
          "output_type": "stream",
          "name": "stdout",
          "text": [
            "90.0\n"
          ]
        }
      ]
    },
    {
      "cell_type": "markdown",
      "source": [
        "<p align=\"justify\">\n",
        "En este ejemplo, descuento es una función lambda que calcula el precio después de aplicar un descuento del 10%. Se usa para ajustar precios en función de promociones.\n",
        "\n"
      ],
      "metadata": {
        "id": "kj5rlX3vYV_v"
      }
    },
    {
      "cell_type": "markdown",
      "source": [
        "<p align=\"justify\">\n",
        "👀 Ahora imaginemos que tenemos una lista de productos con sus precios y queremos ordenarlos por precio.\n",
        "\n"
      ],
      "metadata": {
        "id": "WiPOFaWwYbyW"
      }
    },
    {
      "cell_type": "code",
      "source": [
        "productos = [\n",
        "    {\"nombre\": \"Producto A\", \"precio\": 150},\n",
        "    {\"nombre\": \"Producto B\", \"precio\": 100},\n",
        "    {\"nombre\": \"Producto C\", \"precio\": 200}]"
      ],
      "metadata": {
        "id": "QS_ovMVGYuAQ"
      },
      "execution_count": null,
      "outputs": []
    },
    {
      "cell_type": "code",
      "source": [
        "# Ordenar productos por precio usando una función lambda como clave\n",
        "productos_ordenados = sorted(productos, key=lambda producto: producto[\"precio\"])"
      ],
      "metadata": {
        "id": "TOS93QdsYxze"
      },
      "execution_count": null,
      "outputs": []
    },
    {
      "cell_type": "code",
      "source": [
        "# Imprimir productos ordenados\n",
        "for producto in productos_ordenados:\n",
        "    print(producto)"
      ],
      "metadata": {
        "colab": {
          "base_uri": "https://localhost:8080/"
        },
        "id": "Q9Dq9FKlYpVV",
        "outputId": "fcab2e61-d799-4787-b8f3-7c7725dbbeb5"
      },
      "execution_count": null,
      "outputs": [
        {
          "output_type": "stream",
          "name": "stdout",
          "text": [
            "{'nombre': 'Producto B', 'precio': 100}\n",
            "{'nombre': 'Producto A', 'precio': 150}\n",
            "{'nombre': 'Producto C', 'precio': 200}\n"
          ]
        }
      ]
    },
    {
      "cell_type": "markdown",
      "source": [
        "<p align=\"justify\">\n",
        "👀 Supongamos que tenemos una lista de clientes y queremos filtrar aquellos que son mayores de 30 años.\n",
        "\n"
      ],
      "metadata": {
        "id": "CoN2nhdUY_4v"
      }
    },
    {
      "cell_type": "code",
      "source": [
        "clientes = [\n",
        "    {\"nombre\": \"Ana\", \"edad\": 25},\n",
        "    {\"nombre\": \"Luis\", \"edad\": 45},\n",
        "    {\"nombre\": \"Marta\", \"edad\": 35}]\n"
      ],
      "metadata": {
        "id": "gT-WEAH4ZQSA"
      },
      "execution_count": null,
      "outputs": []
    },
    {
      "cell_type": "code",
      "source": [
        "# Filtrar clientes mayores de 30 años\n",
        "clientes_mayores = list(filter(lambda cliente: cliente[\"edad\"] > 30, clientes))"
      ],
      "metadata": {
        "id": "k7Jf3jNIZTbR"
      },
      "execution_count": null,
      "outputs": []
    },
    {
      "cell_type": "code",
      "source": [
        "# Imprimir clientes mayores de 30 años\n",
        "for cliente in clientes_mayores:\n",
        "    print(cliente)"
      ],
      "metadata": {
        "colab": {
          "base_uri": "https://localhost:8080/"
        },
        "id": "lAtGXv0fZNNY",
        "outputId": "8fcb2ea6-4abe-43c5-99f1-d29392afff58"
      },
      "execution_count": null,
      "outputs": [
        {
          "output_type": "stream",
          "name": "stdout",
          "text": [
            "{'nombre': 'Luis', 'edad': 45}\n",
            "{'nombre': 'Marta', 'edad': 35}\n"
          ]
        }
      ]
    },
    {
      "cell_type": "markdown",
      "source": [
        "<p align=\"justify\">\n",
        "👀 Imaginemos que queremos calcular el impuesto a pagar basado en un tipo impositivo específico para una lista de precios.\n",
        "\n"
      ],
      "metadata": {
        "id": "4_Waep10ZdzK"
      }
    },
    {
      "cell_type": "code",
      "source": [
        "# Función lambda para calcular el impuesto del 21%\n",
        "impuesto = lambda precio: precio * 0.21"
      ],
      "metadata": {
        "id": "UK47cBqOZvle"
      },
      "execution_count": null,
      "outputs": []
    },
    {
      "cell_type": "code",
      "source": [
        "# Lista de precios\n",
        "precios = [100, 200, 300]"
      ],
      "metadata": {
        "id": "h49Y3kFHZsBU"
      },
      "execution_count": null,
      "outputs": []
    },
    {
      "cell_type": "code",
      "source": [
        "# Calcular impuestos para cada precio\n",
        "impuestos = list(map(impuesto, precios))"
      ],
      "metadata": {
        "id": "PCOMHMp1Z0Lc"
      },
      "execution_count": null,
      "outputs": []
    },
    {
      "cell_type": "code",
      "source": [
        "# Imprimir impuestos calculados\n",
        "print(impuestos)"
      ],
      "metadata": {
        "colab": {
          "base_uri": "https://localhost:8080/"
        },
        "id": "0qPITJN4Z1wT",
        "outputId": "e239bc2e-976c-4c99-9525-e46ad1b7bb02"
      },
      "execution_count": null,
      "outputs": [
        {
          "output_type": "stream",
          "name": "stdout",
          "text": [
            "[21.0, 42.0, 63.0]\n"
          ]
        }
      ]
    },
    {
      "cell_type": "markdown",
      "source": [
        "# **<font color=\"DarkBlue\">Generadores</font>**"
      ],
      "metadata": {
        "id": "exR7H4MHdaEE"
      }
    },
    {
      "cell_type": "markdown",
      "source": [
        "<p align=\"justify\">\n",
        "Muchos objetos en Python admiten la iteración. Esto se logra mediante el protocolo iterador, una forma genérica de hacer que los objetos sean iterables. <br><br>Por ejemplo, al iterar sobre un diccionario se obtienen las claves del diccionario:\n",
        "</p>\n"
      ],
      "metadata": {
        "id": "mwtr4HgxeHfQ"
      }
    },
    {
      "cell_type": "code",
      "source": [
        "componentes"
      ],
      "metadata": {
        "colab": {
          "base_uri": "https://localhost:8080/"
        },
        "id": "cKOZpQksZX_J",
        "outputId": "8afff657-83e8-4b0f-ad37-46417b482c51"
      },
      "execution_count": null,
      "outputs": [
        {
          "output_type": "execute_result",
          "data": {
            "text/plain": [
              "{'Activo': 1000, 'Pasivo': 600, 'Patrimonio Neto': 400}"
            ]
          },
          "metadata": {},
          "execution_count": 30
        }
      ]
    },
    {
      "cell_type": "code",
      "source": [
        "for key in componentes:\n",
        "  print(key)"
      ],
      "metadata": {
        "colab": {
          "base_uri": "https://localhost:8080/"
        },
        "id": "slcwZmWjZX8n",
        "outputId": "261af2c9-1a74-44de-c530-ac7063d18239"
      },
      "execution_count": null,
      "outputs": [
        {
          "output_type": "stream",
          "name": "stdout",
          "text": [
            "Activo\n",
            "Pasivo\n",
            "Patrimonio Neto\n"
          ]
        }
      ]
    },
    {
      "cell_type": "markdown",
      "source": [
        "<p align=\"justify\">\n",
        "👀 Un generador es una forma conveniente, similar a escribir una función normal, de construir un nuevo objeto iterable. <br><br>Mientras que las funciones normales ejecutan y devuelven un solo resultado a la vez, los generadores pueden devolver una secuencia de múltiples valores pausando y reanudando la ejecución cada vez que se utiliza el generador. <br><br>Para crear un generador, utilice la palabra clave <code>yield</code> en lugar de <code>return</code>.\n",
        "</p>\n"
      ],
      "metadata": {
        "id": "jdmPP5TAgcB1"
      }
    },
    {
      "cell_type": "code",
      "source": [
        "def cuadrado(n=10):\n",
        "  print(f\"Generando cuadrados desde el valor 1 al valor {n ** 2}\")\n",
        "  for i in range(1, n + 1):\n",
        "    yield i ** 2"
      ],
      "metadata": {
        "id": "osNhnJ5PZXgW"
      },
      "execution_count": null,
      "outputs": []
    },
    {
      "cell_type": "markdown",
      "source": [
        "<p align=\"justify\">\n",
        "👀 Cuando se llama al generador, no se ejecuta ningún código inmediatamente...\n",
        "</p>\n"
      ],
      "metadata": {
        "id": "7HcXVcjcB5IB"
      }
    },
    {
      "cell_type": "code",
      "source": [
        "generador = cuadrado()\n",
        "generador"
      ],
      "metadata": {
        "colab": {
          "base_uri": "https://localhost:8080/"
        },
        "id": "ophFKEmHgEOP",
        "outputId": "2675bac9-8572-4e88-e655-21af163374a4"
      },
      "execution_count": null,
      "outputs": [
        {
          "output_type": "execute_result",
          "data": {
            "text/plain": [
              "<generator object cuadrado at 0x7fba7c64e4a0>"
            ]
          },
          "metadata": {},
          "execution_count": 33
        }
      ]
    },
    {
      "cell_type": "code",
      "source": [
        "type(generador)"
      ],
      "metadata": {
        "colab": {
          "base_uri": "https://localhost:8080/"
        },
        "id": "HOZLXNcpgELF",
        "outputId": "cf3de645-e0fa-4bca-fba0-d315e39e83d7"
      },
      "execution_count": null,
      "outputs": [
        {
          "output_type": "execute_result",
          "data": {
            "text/plain": [
              "generator"
            ]
          },
          "metadata": {},
          "execution_count": 34
        }
      ]
    },
    {
      "cell_type": "markdown",
      "source": [
        "<p align=\"justify\">\n",
        "👀 No es hasta que se solicita elementos del generador que comienza a ejecutarse su código.\n",
        "</p>\n"
      ],
      "metadata": {
        "id": "eAmBSryvDJHa"
      }
    },
    {
      "cell_type": "code",
      "source": [
        "for i in generador:\n",
        "  print(i, end=\" \")"
      ],
      "metadata": {
        "colab": {
          "base_uri": "https://localhost:8080/"
        },
        "id": "3nhv3yoWgEIh",
        "outputId": "07f4993a-f630-41a5-c94e-7d661d38116d"
      },
      "execution_count": null,
      "outputs": [
        {
          "output_type": "stream",
          "name": "stdout",
          "text": [
            "Generando cuadrados desde el valor 1 al valor 100\n",
            "1 4 9 16 25 36 49 64 81 100 "
          ]
        }
      ]
    },
    {
      "cell_type": "markdown",
      "source": [
        "<p align=\"justify\">\n",
        "Dado que los generadores producen salida de un elemento a la vez en lugar de una lista completa a la vez, esto puede ayudar a usar menos memoria.</p>\n"
      ],
      "metadata": {
        "id": "3gAFcijBErhF"
      }
    },
    {
      "cell_type": "markdown",
      "source": [
        "## **<font color=\"DarkBlue\">Expresiones Generadoras</font>**"
      ],
      "metadata": {
        "id": "vsWkdqwKFBvH"
      }
    },
    {
      "cell_type": "markdown",
      "source": [
        "<p align=\"justify\">\n",
        "Otra forma de hacer un generador es mediante el uso de una expresión. Este es un generador análogo para enumerar, para diccionarios y tambien establecer comprensiones. <br><br>Para crear una expresión generadora, se debe incluir una comprensión de lista entre paréntesis en lugar de hacerla entre corchetes.<br><br>Por ejemplo:\n",
        "</p>\n"
      ],
      "metadata": {
        "id": "1VpQa2kIFNp0"
      }
    },
    {
      "cell_type": "code",
      "source": [
        "generador = (x ** 2 for x in range(10))"
      ],
      "metadata": {
        "id": "mBfIrn4YCflu"
      },
      "execution_count": null,
      "outputs": []
    },
    {
      "cell_type": "markdown",
      "source": [
        "<p align=\"justify\">\n",
        "👀 Esto es equivalente al siguiente generador más detallado:\n",
        "</p>\n"
      ],
      "metadata": {
        "id": "nlZG8IGxGqqs"
      }
    },
    {
      "cell_type": "code",
      "source": [
        "def generador():\n",
        "  for x in range(10):\n",
        "    yield x ** 2\n",
        "generador = generador()"
      ],
      "metadata": {
        "id": "_gH7wAQ6GtZV"
      },
      "execution_count": null,
      "outputs": []
    },
    {
      "cell_type": "markdown",
      "source": [
        "## **<font color=\"DarkBlue\">Expresiones Generadoras como argumentos</font>**"
      ],
      "metadata": {
        "id": "glUwHYfiKekH"
      }
    },
    {
      "cell_type": "markdown",
      "source": [
        "<p align=\"justify\">\n",
        "Las expresiones generadoras se pueden utilizar en lugar de las comprensiones de lista como argumentos de función en algunos casos:\n",
        "</p>\n"
      ],
      "metadata": {
        "id": "DAjfR8nIGrhs"
      }
    },
    {
      "cell_type": "code",
      "source": [
        "tuple(x ** 2 for x in range(11))"
      ],
      "metadata": {
        "colab": {
          "base_uri": "https://localhost:8080/"
        },
        "id": "y4_IhGcJJdYd",
        "outputId": "32e0497f-7448-4255-a293-7e0e209e3b3f"
      },
      "execution_count": null,
      "outputs": [
        {
          "output_type": "execute_result",
          "data": {
            "text/plain": [
              "(0, 1, 4, 9, 16, 25, 36, 49, 64, 81, 100)"
            ]
          },
          "metadata": {},
          "execution_count": 43
        }
      ]
    },
    {
      "cell_type": "code",
      "source": [
        "list(x ** 2 for x in range(11))"
      ],
      "metadata": {
        "colab": {
          "base_uri": "https://localhost:8080/"
        },
        "id": "ZrBulyxMCfiW",
        "outputId": "111a03c7-6f51-48a4-8c99-1277819a1b4d"
      },
      "execution_count": null,
      "outputs": [
        {
          "output_type": "execute_result",
          "data": {
            "text/plain": [
              "[0, 1, 4, 9, 16, 25, 36, 49, 64, 81, 100]"
            ]
          },
          "metadata": {},
          "execution_count": 39
        }
      ]
    },
    {
      "cell_type": "code",
      "source": [
        "dict((i, i ** 2) for i in range(11))"
      ],
      "metadata": {
        "colab": {
          "base_uri": "https://localhost:8080/"
        },
        "id": "bso525vFCffS",
        "outputId": "5bd6ee27-55e4-4bdc-f92c-16ca0986710a"
      },
      "execution_count": null,
      "outputs": [
        {
          "output_type": "execute_result",
          "data": {
            "text/plain": [
              "{0: 0, 1: 1, 2: 4, 3: 9, 4: 16, 5: 25, 6: 36, 7: 49, 8: 64, 9: 81, 10: 100}"
            ]
          },
          "metadata": {},
          "execution_count": 40
        }
      ]
    },
    {
      "cell_type": "code",
      "source": [
        "set(x ** 2 for x in range(11))"
      ],
      "metadata": {
        "colab": {
          "base_uri": "https://localhost:8080/"
        },
        "id": "mjqnHdJUZXdl",
        "outputId": "1a95657a-961d-42cd-91a3-7d49c3e873de"
      },
      "execution_count": null,
      "outputs": [
        {
          "output_type": "execute_result",
          "data": {
            "text/plain": [
              "{0, 1, 4, 9, 16, 25, 36, 49, 64, 81, 100}"
            ]
          },
          "metadata": {},
          "execution_count": 44
        }
      ]
    },
    {
      "cell_type": "markdown",
      "source": [
        "<p align=\"center\"><b>\n",
        "💗\n",
        "<font color=\"DarkBlue\">\n",
        "Hemos llegado al final de nuestro colab, a seguir codeando...\n",
        "</font>\n",
        "</p>\n"
      ],
      "metadata": {
        "id": "GgHa2NAAYRqc"
      }
    }
  ]
}